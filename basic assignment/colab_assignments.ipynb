{
 "cells": [
  {
   "cell_type": "code",
   "execution_count": 168,
   "id": "5848e14d",
   "metadata": {},
   "outputs": [],
   "source": [
    "# # Retail Data – Business Questions (for `retail_data`)\n",
    "\n",
    "# **Assumed columns:** `[StoreID, Sales, Customers, Inventory, Returns]`\n",
    "\n",
    "# ## Basic Performance Analysis\n",
    "# 1. What is the **total revenue** generated across all stores?\n",
    "# 2. Which store recorded the **highest sales**?\n",
    "# 3. Which store recorded the **lowest sales**?\n",
    "# 4. What is the **average daily sales** per store?\n",
    "# 5. How many stores achieved sales **above ₹35,000**?\n",
    "\n",
    "# ## Customer Insights\n",
    "# 6. Which store had the **highest customer footfall**?\n",
    "# 7. What is the **average number of customers** per store?\n",
    "# 8. How many stores have **more than 450 customers**?\n",
    "# 9. Which store has the **lowest customer count**?\n",
    "# 10. Is there any store where **high sales do not correspond to high customers**?\n",
    "\n",
    "# ## Inventory & Returns Analysis\n",
    "# 11. What is the **total inventory** across all stores?\n",
    "# 12. Which store has the **highest inventory stock**?\n",
    "# 13. How many stores have **inventory less than 1300 units**?\n",
    "# 14. Which store has the **highest return rate** (returns ÷ inventory)?\n",
    "# 15. Which stores have **returns greater than 15 units**?\n",
    "\n",
    "# ## Sales & Customer Correlation\n",
    "# 16. Is there a **positive correlation** between sales and customers?\n",
    "# 17. Which store has **high customer visits but low sales**?\n",
    "# 18. Which store has **low customers but high sales**?\n",
    "# 19. How many stores have **sales per customer above ₹90**?\n",
    "# 20. Which stores could **benefit from customer acquisition campaigns** (low customers, high inventory)?\n",
    "\n",
    "# ## Profitability & Growth\n",
    "# 21. If profit margin is **20% of sales**, what is the **profit per store**?\n",
    "# 22. Which store has the **highest profit**?\n",
    "# 23. Which store has the **lowest profit**?\n",
    "# 24. If sales increase by **10% next month**, what are the **new sales figures**?\n",
    "# 25. How will **total profit** change with the 10% sales increase?\n",
    "\n",
    "# ## Operational Strategy\n",
    "# 26. Which stores need **inventory restocking** based on sales and current stock?\n",
    "# 27. Which stores show **high returns percentage** and might require **quality checks**?\n",
    "# 28. Which store is the **best performer overall** (sales, customers, inventory turnover)?\n",
    "# 29. Which store is the **worst performer overall**?\n",
    "# 30. Which stores can be considered for **expansion** based on strong sales and customer metrics?"
   ]
  },
  {
   "cell_type": "code",
   "execution_count": 169,
   "id": "6eff1eef",
   "metadata": {},
   "outputs": [],
   "source": [
    "# Manually created array: [Store ID, Sales, Customers, Inventory, Returns]\n",
    "import numpy as np\n",
    "store_data = np.array([\n",
    "    [1, 25000, 300, 1200, 10],\n",
    "    [2, 32000, 450, 1500, 15],\n",
    "    [3, 28000, 380, 1100, 8],\n",
    "    [4, 41000, 500, 1600, 20],\n",
    "    [5, 35000, 420, 1400, 12],\n",
    "    [6, 27000, 360, 1300, 9],\n",
    "    [7, 39000, 480, 1700, 18],\n",
    "    [8, 30000, 400, 1250, 14],\n",
    "    [9, 45000, 550, 1800, 25],\n",
    "    [10, 33000, 410, 1450, 11]\n",
    "])"
   ]
  },
  {
   "cell_type": "code",
   "execution_count": 170,
   "id": "a68b132f",
   "metadata": {},
   "outputs": [
    {
     "data": {
      "text/plain": [
       "array([[    1, 25000,   300,  1200,    10],\n",
       "       [    2, 32000,   450,  1500,    15],\n",
       "       [    3, 28000,   380,  1100,     8],\n",
       "       [    4, 41000,   500,  1600,    20],\n",
       "       [    5, 35000,   420,  1400,    12],\n",
       "       [    6, 27000,   360,  1300,     9],\n",
       "       [    7, 39000,   480,  1700,    18],\n",
       "       [    8, 30000,   400,  1250,    14],\n",
       "       [    9, 45000,   550,  1800,    25],\n",
       "       [   10, 33000,   410,  1450,    11]])"
      ]
     },
     "execution_count": 170,
     "metadata": {},
     "output_type": "execute_result"
    }
   ],
   "source": [
    "store_data"
   ]
  },
  {
   "cell_type": "code",
   "execution_count": 188,
   "id": "fd0e9ae1",
   "metadata": {},
   "outputs": [
    {
     "name": "stdout",
     "output_type": "stream",
     "text": [
      "the total revenue:142\n"
     ]
    }
   ],
   "source": [
    "# 1. What is the **total revenue** generated across all stores?\n",
    "revenue=sum(store_data[:,4])\n",
    "print(f\"the total revenue:{revenue}\")\n"
   ]
  },
  {
   "cell_type": "code",
   "execution_count": 172,
   "id": "d1edee91",
   "metadata": {},
   "outputs": [
    {
     "name": "stdout",
     "output_type": "stream",
     "text": [
      "[[    1 25000   300  1200    10]\n",
      " [    2 32000   450  1500    15]\n",
      " [    3 28000   380  1100     8]\n",
      " [    4 41000   500  1600    20]\n",
      " [    5 35000   420  1400    12]\n",
      " [    6 27000   360  1300     9]\n",
      " [    7 39000   480  1700    18]\n",
      " [    8 30000   400  1250    14]\n",
      " [    9 45000   550  1800    25]\n",
      " [   10 33000   410  1450    11]]\n",
      "highest sales:9\n"
     ]
    }
   ],
   "source": [
    "# 2. Which store recorded the **highest sales**?\n",
    "print(store_data)\n",
    "highest_sales=np.argmax(store_data[0:11,1])+1\n",
    "print(f\"highest sales:{highest_sales}\")"
   ]
  },
  {
   "cell_type": "code",
   "execution_count": 173,
   "id": "e5dff1b6",
   "metadata": {},
   "outputs": [
    {
     "name": "stdout",
     "output_type": "stream",
     "text": [
      "[[    1 25000   300  1200    10]\n",
      " [    2 32000   450  1500    15]\n",
      " [    3 28000   380  1100     8]\n",
      " [    4 41000   500  1600    20]\n",
      " [    5 35000   420  1400    12]\n",
      " [    6 27000   360  1300     9]\n",
      " [    7 39000   480  1700    18]\n",
      " [    8 30000   400  1250    14]\n",
      " [    9 45000   550  1800    25]\n",
      " [   10 33000   410  1450    11]]\n",
      "lowest sales:1\n"
     ]
    }
   ],
   "source": [
    "# 3. Which store recorded the **lowest sales**?\n",
    "\n",
    "print(store_data)\n",
    "lowest_sales=np.argmin(store_data[0:11,1])+1\n",
    "print(f\"lowest sales:{lowest_sales}\")"
   ]
  },
  {
   "cell_type": "code",
   "execution_count": 174,
   "id": "ebb0526f",
   "metadata": {},
   "outputs": [
    {
     "name": "stdout",
     "output_type": "stream",
     "text": [
      "average_daily_sales:3350.0\n"
     ]
    }
   ],
   "source": [
    "# 4. What is the **average daily sales** per store?\n",
    "store_data\n",
    "average_daily_sales=np.mean(store_data[:,1]/10)\n",
    "print(f\"average_daily_sales:{average_daily_sales}\")"
   ]
  },
  {
   "cell_type": "code",
   "execution_count": 175,
   "id": "bf79d7ed",
   "metadata": {},
   "outputs": [
    {
     "name": "stdout",
     "output_type": "stream",
     "text": [
      "stores achieved sales **above ₹35,000**:[[    4 41000   500  1600    20]\n",
      " [    7 39000   480  1700    18]\n",
      " [    9 45000   550  1800    25]]\n"
     ]
    }
   ],
   "source": [
    "# 5. How many stores achieved sales **above ₹35,000**?\n",
    "\n",
    "sales=store_data[store_data[:,1]>35000]\n",
    "print(f\"stores achieved sales **above ₹35,000**:{(sales)}\")"
   ]
  },
  {
   "cell_type": "code",
   "execution_count": 176,
   "id": "abd5fe03",
   "metadata": {},
   "outputs": [
    {
     "name": "stdout",
     "output_type": "stream",
     "text": [
      "highest customer footfall:9\n"
     ]
    }
   ],
   "source": [
    "# 6. Which store had the **highest customer footfall**?\n",
    "store_data\n",
    "high_customer=np.argmax(store_data[:,2])+1\n",
    "print(f\"highest customer footfall:{high_customer}\")"
   ]
  },
  {
   "cell_type": "code",
   "execution_count": 177,
   "id": "bed3da7d",
   "metadata": {},
   "outputs": [
    {
     "name": "stdout",
     "output_type": "stream",
     "text": [
      "average number of customers:42.5\n"
     ]
    }
   ],
   "source": [
    "# 7. What is the **average number of customers** per store?\n",
    "ava_cust=(np.mean(store_data[:,2]/10))\n",
    "print(f\"average number of customers:{ava_cust}\")"
   ]
  },
  {
   "cell_type": "code",
   "execution_count": 190,
   "id": "558ada4a",
   "metadata": {},
   "outputs": [
    {
     "name": "stdout",
     "output_type": "stream",
     "text": [
      "stores have **more than 450 customers:(3, 5)\n"
     ]
    }
   ],
   "source": [
    "# 8. How many stores have **more than 450 customers**?\n",
    "more=store_data[store_data[:,2]>450]\n",
    "print(f\"stores have **more than 450 customers:{more.shape}\")"
   ]
  },
  {
   "cell_type": "code",
   "execution_count": 179,
   "id": "ec1a36f4",
   "metadata": {},
   "outputs": [
    {
     "name": "stdout",
     "output_type": "stream",
     "text": [
      "lowest customer count in store:1\n"
     ]
    }
   ],
   "source": [
    "# 9. Which store has the **lowest customer count**?\n",
    "low=store_data[:,2].argmin()+1\n",
    "print(f\"lowest customer count in store:{low}\")"
   ]
  },
  {
   "cell_type": "code",
   "execution_count": 197,
   "id": "372ff7a3",
   "metadata": {},
   "outputs": [
    {
     "name": "stdout",
     "output_type": "stream",
     "text": [
      "[[    1 25000   300  1200    10]\n",
      " [    2 32000   450  1500    15]\n",
      " [    3 28000   380  1100     8]\n",
      " [    4 41000   500  1600    20]\n",
      " [    5 35000   420  1400    12]\n",
      " [    6 27000   360  1300     9]\n",
      " [    7 39000   480  1700    18]\n",
      " [    8 30000   400  1250    14]\n",
      " [    9 45000   550  1800    25]\n",
      " [   10 33000   410  1450    11]]\n"
     ]
    },
    {
     "data": {
      "text/plain": [
       "array([[    5, 35000,   420,  1400,    12]])"
      ]
     },
     "execution_count": 197,
     "metadata": {},
     "output_type": "execute_result"
    }
   ],
   "source": [
    "# 10. Is there any store where **high sales do not correspond to high customers**?\n",
    "print(store_data)\n",
    "sales=store_data[:,1].mean()\n",
    "cutomers=store_data[:,2].mean()\n",
    "data=store_data[(store_data[:,1]>sales) & (store_data[:,2]<cutomers)]\n",
    "data"
   ]
  },
  {
   "cell_type": "code",
   "execution_count": 181,
   "id": "a043b988",
   "metadata": {},
   "outputs": [
    {
     "name": "stdout",
     "output_type": "stream",
     "text": [
      "total inventory:14300\n"
     ]
    }
   ],
   "source": [
    "# 11. What is the **total inventory** across all stores?\n",
    "inventory=sum(store_data[:,3])\n",
    "print(f\"total inventory:{inventory}\")"
   ]
  },
  {
   "cell_type": "code",
   "execution_count": 182,
   "id": "c5f4acc3",
   "metadata": {},
   "outputs": [
    {
     "name": "stdout",
     "output_type": "stream",
     "text": [
      "[[    1 25000   300  1200    10]\n",
      " [    2 32000   450  1500    15]\n",
      " [    3 28000   380  1100     8]\n",
      " [    4 41000   500  1600    20]\n",
      " [    5 35000   420  1400    12]\n",
      " [    6 27000   360  1300     9]\n",
      " [    7 39000   480  1700    18]\n",
      " [    8 30000   400  1250    14]\n",
      " [    9 45000   550  1800    25]\n",
      " [   10 33000   410  1450    11]]\n",
      "highest inventory:1800\n"
     ]
    }
   ],
   "source": [
    "# 12. Which store has the **highest inventory stock**?\n",
    "print(store_data)\n",
    "inventory=store_data[:,3].max()\n",
    "print(f\"highest inventory:{inventory}\")"
   ]
  },
  {
   "cell_type": "code",
   "execution_count": 198,
   "id": "cde63999",
   "metadata": {},
   "outputs": [
    {
     "name": "stdout",
     "output_type": "stream",
     "text": [
      "inventory less than 1300 units:(3, 5)\n"
     ]
    }
   ],
   "source": [
    "# 13. How many stores have **inventory less than 1300 units**?\n",
    "inventory=store_data[store_data[:,3]<1300]\n",
    "print(f\"inventory less than 1300 units:{inventory.shape}\")"
   ]
  },
  {
   "cell_type": "code",
   "execution_count": 184,
   "id": "f2e7cf0a",
   "metadata": {},
   "outputs": [
    {
     "name": "stdout",
     "output_type": "stream",
     "text": [
      "highest return rate:9\n"
     ]
    }
   ],
   "source": [
    "# 14. Which store has the **highest return rate** (returns ÷ inventory)?\n",
    "store_data\n",
    "rate=np.argmax([(store_data[:,4])/(store_data[:,3])])+1\n",
    "print(f\"highest return rate:{rate}\")"
   ]
  },
  {
   "cell_type": "code",
   "execution_count": 185,
   "id": "c6e3f062",
   "metadata": {},
   "outputs": [
    {
     "name": "stdout",
     "output_type": "stream",
     "text": [
      "returns greater than 15 units:[[    4 41000   500  1600    20]\n",
      " [    7 39000   480  1700    18]\n",
      " [    9 45000   550  1800    25]]\n"
     ]
    }
   ],
   "source": [
    "# 15. Which stores have **returns greater than 15 units**?\n",
    "untis=store_data[store_data[:,4]>15]\n",
    "print(f\"returns greater than 15 units:{untis}\")"
   ]
  },
  {
   "cell_type": "code",
   "execution_count": 186,
   "id": "c0efe6f0",
   "metadata": {},
   "outputs": [
    {
     "name": "stdout",
     "output_type": "stream",
     "text": [
      "it is a storng correlation:1.0\n"
     ]
    }
   ],
   "source": [
    "# 16. Is there a **positive correlation** between sales and customers?\n",
    "sales=store_data[:,1]\n",
    "cutomers=store_data[:,2]\n",
    "corr=np.corrcoef(sales/cutomers)\n",
    "print(f\"it is a storng correlation:{corr}\")"
   ]
  },
  {
   "cell_type": "code",
   "execution_count": 199,
   "id": "5bed7e57",
   "metadata": {},
   "outputs": [
    {
     "name": "stdout",
     "output_type": "stream",
     "text": [
      "[[    1 25000   300  1200    10]\n",
      " [    2 32000   450  1500    15]\n",
      " [    3 28000   380  1100     8]\n",
      " [    4 41000   500  1600    20]\n",
      " [    5 35000   420  1400    12]\n",
      " [    6 27000   360  1300     9]\n",
      " [    7 39000   480  1700    18]\n",
      " [    8 30000   400  1250    14]\n",
      " [    9 45000   550  1800    25]\n",
      " [   10 33000   410  1450    11]]\n"
     ]
    },
    {
     "data": {
      "text/plain": [
       "array([[    2, 32000,   450,  1500,    15]])"
      ]
     },
     "execution_count": 199,
     "metadata": {},
     "output_type": "execute_result"
    }
   ],
   "source": [
    "# 17. Which store has **high customer visits but low sales**?\n",
    "print(store_data)\n",
    "cutomers=store_data[:,2].mean()\n",
    "sales=store_data[:,1].mean()\n",
    "data=store_data[(store_data[:,2]>cutomers) & (store_data[:,1]<sales)]\n",
    "data"
   ]
  },
  {
   "cell_type": "code",
   "execution_count": 201,
   "id": "e2227c26",
   "metadata": {},
   "outputs": [
    {
     "name": "stdout",
     "output_type": "stream",
     "text": [
      "[[    1 25000   300  1200    10]\n",
      " [    2 32000   450  1500    15]\n",
      " [    3 28000   380  1100     8]\n",
      " [    4 41000   500  1600    20]\n",
      " [    5 35000   420  1400    12]\n",
      " [    6 27000   360  1300     9]\n",
      " [    7 39000   480  1700    18]\n",
      " [    8 30000   400  1250    14]\n",
      " [    9 45000   550  1800    25]\n",
      " [   10 33000   410  1450    11]]\n"
     ]
    },
    {
     "data": {
      "text/plain": [
       "array([[    5, 35000,   420,  1400,    12]])"
      ]
     },
     "execution_count": 201,
     "metadata": {},
     "output_type": "execute_result"
    }
   ],
   "source": [
    "# 18. Which store has **low customers but high sales**?\n",
    "print(store_data)\n",
    "cutomers=store_data[:,2].mean()\n",
    "sales=store_data[:,1].mean()\n",
    "data=store_data[(store_data[:,2]<cutomers) & (store_data[:,1]>sales)]\n",
    "data\n"
   ]
  },
  {
   "cell_type": "code",
   "execution_count": null,
   "id": "6c461038",
   "metadata": {},
   "outputs": [
    {
     "name": "stdout",
     "output_type": "stream",
     "text": [
      "[[    1 25000   300  1200    10]\n",
      " [    2 32000   450  1500    15]\n",
      " [    3 28000   380  1100     8]\n",
      " [    4 41000   500  1600    20]\n",
      " [    5 35000   420  1400    12]\n",
      " [    6 27000   360  1300     9]\n",
      " [    7 39000   480  1700    18]\n",
      " [    8 30000   400  1250    14]\n",
      " [    9 45000   550  1800    25]\n",
      " [   10 33000   410  1450    11]]\n",
      "[]\n"
     ]
    }
   ],
   "source": [
    "# 19. How many stores have **sales per customer above ₹90**?\n",
    "print(store_data)\n",
    "store=store_data[:,1]/store_data[:,2]\n",
    "A=store_data[store>90]\n",
    "print(A)"
   ]
  },
  {
   "cell_type": "code",
   "execution_count": 202,
   "id": "ed724b74",
   "metadata": {},
   "outputs": [
    {
     "data": {
      "text/plain": [
       "array([[   10, 33000,   410,  1450,    11]])"
      ]
     },
     "execution_count": 202,
     "metadata": {},
     "output_type": "execute_result"
    }
   ],
   "source": [
    "# 20. Which stores could **benefit from customer acquisition campaigns** (low customers, high inventory)?\n",
    "cutomers=store_data[:,2].mean()\n",
    "inventory=store_data[:,3].mean()\n",
    "data=store_data[(store_data[:,2]<cutomers)&(store_data[:,3]>inventory)]\n",
    "data\n"
   ]
  },
  {
   "cell_type": "code",
   "execution_count": 203,
   "id": "2f032918",
   "metadata": {},
   "outputs": [
    {
     "data": {
      "text/plain": [
       "array([5000., 6400., 5600., 8200., 7000., 5400., 7800., 6000., 9000.,\n",
       "       6600.])"
      ]
     },
     "execution_count": 203,
     "metadata": {},
     "output_type": "execute_result"
    }
   ],
   "source": [
    "# 21. If profit margin is **20% of sales**, what is the **profit per store**?\n",
    "sales=store_data[:,1]*0.2\n",
    "sales"
   ]
  },
  {
   "cell_type": "code",
   "execution_count": null,
   "id": "f0fafebe",
   "metadata": {},
   "outputs": [
    {
     "data": {
      "text/plain": [
       "np.int64(9)"
      ]
     },
     "execution_count": 205,
     "metadata": {},
     "output_type": "execute_result"
    }
   ],
   "source": [
    "# 22. Which store has the **highest profit**?\n",
    "profit=np.argmax(store_data[:,1]*0.2)+1\n",
    "sales"
   ]
  },
  {
   "cell_type": "code",
   "execution_count": 207,
   "id": "39e3d58c",
   "metadata": {},
   "outputs": [
    {
     "data": {
      "text/plain": [
       "np.int64(1)"
      ]
     },
     "execution_count": 207,
     "metadata": {},
     "output_type": "execute_result"
    }
   ],
   "source": [
    "# 23. Which store has the **lowest profit**?\n",
    "profit=np.argmin(store_data[:,1]*0.2)+1\n",
    "profit"
   ]
  },
  {
   "cell_type": "code",
   "execution_count": null,
   "id": "f4c099ed",
   "metadata": {},
   "outputs": [
    {
     "name": "stdout",
     "output_type": "stream",
     "text": [
      "[27500. 35200. 30800. 45100. 38500. 29700. 42900. 33000. 49500. 36300.]\n"
     ]
    }
   ],
   "source": [
    "# 24. If sales increase by **10% next month**, what are the **new sales figures**?\n",
    "increase=store_data[:,1]+(store_data[:,1]*0.1)\n",
    "print(increase)"
   ]
  },
  {
   "cell_type": "code",
   "execution_count": 208,
   "id": "e62e0507",
   "metadata": {},
   "outputs": [
    {
     "data": {
      "text/plain": [
       "np.float64(368500.0)"
      ]
     },
     "execution_count": 208,
     "metadata": {},
     "output_type": "execute_result"
    }
   ],
   "source": [
    "# 25. How will **total profit** change with the 10% sales increase?\n",
    "increase=sum(store_data[:,1]+(store_data[:,1]*0.1))\n",
    "increase"
   ]
  },
  {
   "cell_type": "code",
   "execution_count": 211,
   "id": "d99bd24b",
   "metadata": {},
   "outputs": [
    {
     "data": {
      "text/plain": [
       "array([ 1,  2,  3,  4,  5,  6,  7,  8,  9, 10])"
      ]
     },
     "execution_count": 211,
     "metadata": {},
     "output_type": "execute_result"
    }
   ],
   "source": [
    "# 26. Which stores need **inventory restocking** based on sales and current stock?\n",
    "sales=store_data[:,1].mean()\n",
    "inventory=store_data[:,3].mean()\n",
    "store_id=store_data[:,0]\n",
    "inventory_restocking=store_id[(store_data[:,1]>sales) &(store_data[:,3])<inventory]\n",
    "inventory_restocking\n"
   ]
  },
  {
   "cell_type": "code",
   "execution_count": null,
   "id": "1da3d10d",
   "metadata": {},
   "outputs": [],
   "source": [
    "# 27. Which stores show **high returns percentage** and might require **quality checks**?\n"
   ]
  },
  {
   "cell_type": "code",
   "execution_count": null,
   "id": "990aaacc",
   "metadata": {},
   "outputs": [],
   "source": [
    "# 28. Which store is the **best performer overall** (sales, customers, inventory turnover)?\n"
   ]
  },
  {
   "cell_type": "code",
   "execution_count": null,
   "id": "1e00e56d",
   "metadata": {},
   "outputs": [],
   "source": [
    "# 29. Which store is the **worst performer overall**?\n",
    "store_id=store_data[:,0]\n",
    "sales=store_data[:,1]\n",
    "cutomers=store_data[:,2]\n",
    "inventory_restocking"
   ]
  },
  {
   "cell_type": "code",
   "execution_count": null,
   "id": "54e14b0c",
   "metadata": {},
   "outputs": [],
   "source": []
  },
  {
   "cell_type": "code",
   "execution_count": null,
   "id": "09f923de",
   "metadata": {},
   "outputs": [],
   "source": []
  }
 ],
 "metadata": {
  "kernelspec": {
   "display_name": "Python 3",
   "language": "python",
   "name": "python3"
  },
  "language_info": {
   "codemirror_mode": {
    "name": "ipython",
    "version": 3
   },
   "file_extension": ".py",
   "mimetype": "text/x-python",
   "name": "python",
   "nbconvert_exporter": "python",
   "pygments_lexer": "ipython3",
   "version": "3.13.5"
  }
 },
 "nbformat": 4,
 "nbformat_minor": 5
}
