{
 "cells": [
  {
   "cell_type": "code",
   "execution_count": 1,
   "id": "f68ea767",
   "metadata": {},
   "outputs": [],
   "source": [
    "#!pip install numpy"
   ]
  },
  {
   "cell_type": "code",
   "execution_count": 2,
   "id": "c1e93266",
   "metadata": {},
   "outputs": [],
   "source": [
    "import numpy as np"
   ]
  },
  {
   "cell_type": "code",
   "execution_count": 3,
   "id": "4e1744f9",
   "metadata": {},
   "outputs": [],
   "source": [
    "import pandas as pd"
   ]
  },
  {
   "cell_type": "code",
   "execution_count": 4,
   "id": "baa99232",
   "metadata": {},
   "outputs": [
    {
     "name": "stdout",
     "output_type": "stream",
     "text": [
      "[[1. 0. 0. 0.]\n",
      " [0. 1. 0. 0.]\n",
      " [0. 0. 1. 0.]\n",
      " [0. 0. 0. 1.]]\n"
     ]
    }
   ],
   "source": [
    "#**Q1.1:** Create a 4x4 identity matrix using `np.eye()`\n",
    "identity_matrix=np.eye(4)\n",
    "print(identity_matrix)\n"
   ]
  },
  {
   "cell_type": "code",
   "execution_count": 5,
   "id": "5adf9bcb",
   "metadata": {},
   "outputs": [
    {
     "name": "stdout",
     "output_type": "stream",
     "text": [
      "[0. 0. 0. 0. 0. 0. 0. 0.]\n"
     ]
    }
   ],
   "source": [
    "#**Q1.2:** Create an array of 8 zeros using `np.zeros()`\n",
    "array=np.zeros(8)\n",
    "print(array)"
   ]
  },
  {
   "cell_type": "code",
   "execution_count": 6,
   "id": "083cbd25",
   "metadata": {},
   "outputs": [
    {
     "name": "stdout",
     "output_type": "stream",
     "text": [
      "[1. 1. 1. 1. 1. 1.]\n"
     ]
    }
   ],
   "source": [
    "\n",
    "#**Q1.3:** Create an array of 6 ones using `np.ones()`\n",
    "array=np.ones(6)\n",
    "print(array)"
   ]
  },
  {
   "cell_type": "code",
   "execution_count": 7,
   "id": "361781b3",
   "metadata": {},
   "outputs": [
    {
     "name": "stdout",
     "output_type": "stream",
     "text": [
      "[ 0  1  2  3  4  5  6  7  8  9 10 11 12 13 14]\n"
     ]
    }
   ],
   "source": [
    "#**Q1.4:** Create an array with values from 0 to 15 using `np.arange()`\n",
    "array=np.arange(15)\n",
    "print(array)"
   ]
  },
  {
   "cell_type": "code",
   "execution_count": 8,
   "id": "f1e2e75d",
   "metadata": {},
   "outputs": [
    {
     "name": "stdout",
     "output_type": "stream",
     "text": [
      "[  0.          14.28571429  28.57142857  42.85714286  57.14285714\n",
      "  71.42857143  85.71428571 100.        ]\n"
     ]
    }
   ],
   "source": [
    "#Create an array with 8 evenly spaced values from 0 to 100 using `np.linspace()`\n",
    "array=np.linspace(0,100,8)\n",
    "print(array)"
   ]
  },
  {
   "cell_type": "code",
   "execution_count": 9,
   "id": "f70a20b5",
   "metadata": {},
   "outputs": [],
   "source": [
    "### Question 2: Array Attributes and Information"
   ]
  },
  {
   "cell_type": "code",
   "execution_count": 10,
   "id": "9753729c",
   "metadata": {},
   "outputs": [
    {
     "ename": "NameError",
     "evalue": "name 'bank_data' is not defined",
     "output_type": "error",
     "traceback": [
      "\u001b[31m---------------------------------------------------------------------------\u001b[39m",
      "\u001b[31mNameError\u001b[39m                                 Traceback (most recent call last)",
      "\u001b[36mCell\u001b[39m\u001b[36m \u001b[39m\u001b[32mIn[10]\u001b[39m\u001b[32m, line 2\u001b[39m\n\u001b[32m      1\u001b[39m \u001b[38;5;66;03m#**Q2.1:** What is the shape of the `banking_data` array?\u001b[39;00m\n\u001b[32m----> \u001b[39m\u001b[32m2\u001b[39m \u001b[43mbank_data\u001b[49m.shape\n",
      "\u001b[31mNameError\u001b[39m: name 'bank_data' is not defined"
     ]
    }
   ],
   "source": [
    "#**Q2.1:** What is the shape of the `banking_data` array?\n",
    "bank_data.shape"
   ]
  },
  {
   "cell_type": "code",
   "execution_count": 13,
   "id": "864d8661",
   "metadata": {},
   "outputs": [
    {
     "data": {
      "text/plain": [
       "array([[    1, 25000,   300,  1200,    10],\n",
       "       [    2, 32000,   450,  1500,    15],\n",
       "       [    3, 28000,   380,  1100,     8],\n",
       "       [    4, 41000,   500,  1600,    20],\n",
       "       [    5, 35000,   420,  1400,    12],\n",
       "       [    6, 27000,   360,  1300,     9],\n",
       "       [    7, 39000,   480,  1700,    18],\n",
       "       [    8, 30000,   400,  1250,    14],\n",
       "       [    9, 45000,   550,  1800,    25],\n",
       "       [   10, 33000,   410,  1450,    11]])"
      ]
     },
     "execution_count": 13,
     "metadata": {},
     "output_type": "execute_result"
    }
   ],
   "source": [
    "import numpy as np\n",
    "bank_data = np.array([\n",
    "    [1, 25000, 300, 1200, 10],\n",
    "    [2, 32000, 450, 1500, 15],\n",
    "    [3, 28000, 380, 1100, 8],\n",
    "    [4, 41000, 500, 1600, 20],\n",
    "    [5, 35000, 420, 1400, 12],\n",
    "    [6, 27000, 360, 1300, 9],\n",
    "    [7, 39000, 480, 1700, 18],\n",
    "    [8, 30000, 400, 1250, 14],\n",
    "    [9, 45000, 550, 1800, 25],\n",
    "    [10, 33000, 410, 1450, 11]\n",
    "])\n",
    "bank_data"
   ]
  },
  {
   "cell_type": "code",
   "execution_count": null,
   "id": "5c7840f3",
   "metadata": {},
   "outputs": [],
   "source": [
    "a=np.random.randint(1,5,(3,3))"
   ]
  },
  {
   "cell_type": "code",
   "execution_count": null,
   "id": "f2cce183",
   "metadata": {},
   "outputs": [
    {
     "data": {
      "text/plain": [
       "array([[    1, 25000,   300,  1200,    10],\n",
       "       [    2, 32000,   450,  1500,    15],\n",
       "       [    3, 28000,   380,  1100,     8],\n",
       "       [    4, 41000,   500,  1600,    20],\n",
       "       [    5, 35000,   420,  1400,    12],\n",
       "       [    6, 27000,   360,  1300,     9],\n",
       "       [    7, 39000,   480,  1700,    18],\n",
       "       [    8, 30000,   400,  1250,    14],\n",
       "       [    9, 45000,   550,  1800,    25],\n",
       "       [   10, 33000,   410,  1450,    11]])"
      ]
     },
     "execution_count": 424,
     "metadata": {},
     "output_type": "execute_result"
    }
   ],
   "source": [
    "bank_data"
   ]
  },
  {
   "cell_type": "code",
   "execution_count": null,
   "id": "688f02d5",
   "metadata": {},
   "outputs": [
    {
     "data": {
      "text/plain": [
       "dtype('int64')"
      ]
     },
     "execution_count": 425,
     "metadata": {},
     "output_type": "execute_result"
    }
   ],
   "source": [
    "#(\"**Q2.2:** What is the data type of the `banking_data` array?\")\n",
    "import numpy as np\n",
    "bank_data.dtype"
   ]
  },
  {
   "cell_type": "code",
   "execution_count": null,
   "id": "64ad0935",
   "metadata": {},
   "outputs": [
    {
     "data": {
      "text/plain": [
       "50"
      ]
     },
     "execution_count": 426,
     "metadata": {},
     "output_type": "execute_result"
    }
   ],
   "source": [
    "#**Q2.3:** What is the size (total number of elements) of the `banking_data` array?\n",
    "bank_data.size"
   ]
  },
  {
   "cell_type": "code",
   "execution_count": null,
   "id": "be2b2591",
   "metadata": {},
   "outputs": [
    {
     "data": {
      "text/plain": [
       "2"
      ]
     },
     "execution_count": 427,
     "metadata": {},
     "output_type": "execute_result"
    }
   ],
   "source": [
    "#**Q2.4:** What is the number of dimensions of the `banking_data` array?\n",
    "bank_data.ndim\n"
   ]
  },
  {
   "cell_type": "code",
   "execution_count": null,
   "id": "26b0f53f",
   "metadata": {},
   "outputs": [
    {
     "data": {
      "text/plain": [
       "400"
      ]
     },
     "execution_count": 428,
     "metadata": {},
     "output_type": "execute_result"
    }
   ],
   "source": [
    "#**Q2.5:** What is the memory size of the `banking_data` array in bytes?\n",
    "bank_data.nbytes"
   ]
  },
  {
   "cell_type": "code",
   "execution_count": null,
   "id": "bbf507ef",
   "metadata": {},
   "outputs": [],
   "source": [
    "### Question 3: Indexing and Slicing"
   ]
  },
  {
   "cell_type": "code",
   "execution_count": null,
   "id": "063b9ab1",
   "metadata": {},
   "outputs": [
    {
     "data": {
      "text/plain": [
       "array([    1, 25000,   300,  1200,    10])"
      ]
     },
     "execution_count": 430,
     "metadata": {},
     "output_type": "execute_result"
    }
   ],
   "source": [
    "#**Q3.1:** Extract the first row of `banking_data`\n",
    "bank_data\n",
    "bank_data[0]\n"
   ]
  },
  {
   "cell_type": "code",
   "execution_count": null,
   "id": "4aaee975",
   "metadata": {},
   "outputs": [
    {
     "data": {
      "text/plain": [
       "array([   10, 33000,   410,  1450,    11])"
      ]
     },
     "execution_count": 431,
     "metadata": {},
     "output_type": "execute_result"
    }
   ],
   "source": [
    "#**Q3.2:** Extract the last row of `banking_data`\n",
    "bank_data\n",
    "bank_data[-1]\n"
   ]
  },
  {
   "cell_type": "code",
   "execution_count": null,
   "id": "37ea442a",
   "metadata": {},
   "outputs": [
    {
     "data": {
      "text/plain": [
       "array([25000, 32000, 28000, 41000, 35000, 27000, 39000, 30000, 45000,\n",
       "       33000])"
      ]
     },
     "execution_count": 432,
     "metadata": {},
     "output_type": "execute_result"
    }
   ],
   "source": [
    "#**Q3.3:** Extract the Account_Balance column (column index 1)\n",
    "bank_data\n",
    "bank_data[0:11,1]"
   ]
  },
  {
   "cell_type": "code",
   "execution_count": null,
   "id": "78a70154",
   "metadata": {},
   "outputs": [
    {
     "data": {
      "text/plain": [
       "array([[    1, 25000,   300],\n",
       "       [    2, 32000,   450],\n",
       "       [    3, 28000,   380],\n",
       "       [    4, 41000,   500]])"
      ]
     },
     "execution_count": 433,
     "metadata": {},
     "output_type": "execute_result"
    }
   ],
   "source": [
    "#**Q3.4:** Extract the first 4 rows and first 3 columns\n",
    "bank_data[0:4,0:3]\n"
   ]
  },
  {
   "cell_type": "code",
   "execution_count": null,
   "id": "bddff39d",
   "metadata": {},
   "outputs": [
    {
     "data": {
      "text/plain": [
       "array([[    1, 25000,   300,  1200,    10],\n",
       "       [    2, 32000,   450,  1500,    15],\n",
       "       [    3, 28000,   380,  1100,     8],\n",
       "       [    4, 41000,   500,  1600,    20],\n",
       "       [    5, 35000,   420,  1400,    12],\n",
       "       [    6, 27000,   360,  1300,     9],\n",
       "       [    7, 39000,   480,  1700,    18]])"
      ]
     },
     "execution_count": 434,
     "metadata": {},
     "output_type": "execute_result"
    }
   ],
   "source": [
    "#**Q3.5:** Extract rows 3 to 7 (inclusive)\n",
    "bank_data[0:7]\n"
   ]
  },
  {
   "cell_type": "code",
   "execution_count": null,
   "id": "7c7cafc0",
   "metadata": {},
   "outputs": [],
   "source": [
    "### Question 4: Mathematical Operations\n"
   ]
  },
  {
   "cell_type": "code",
   "execution_count": null,
   "id": "913d771b",
   "metadata": {},
   "outputs": [
    {
     "name": "stdout",
     "output_type": "stream",
     "text": [
      "sum:335000\n"
     ]
    }
   ],
   "source": [
    "#**Q4.1:** Calculate the sum of all account balances\n",
    "sum_account_bal=np.sum(bank_data[0:11,1])\n",
    "print(f\"sum:{sum_account_bal}\")\n"
   ]
  },
  {
   "cell_type": "code",
   "execution_count": null,
   "id": "73232c9a",
   "metadata": {},
   "outputs": [
    {
     "name": "stdout",
     "output_type": "stream",
     "text": [
      "mean:33500.0\n"
     ]
    }
   ],
   "source": [
    "#**Q4.2:** Calculate the mean account balance\n",
    "mean_account_bal=np.mean(bank_data[0:11,1])\n",
    "print(f\"mean:{mean_account_bal}\")\n"
   ]
  },
  {
   "cell_type": "code",
   "execution_count": null,
   "id": "f97b9b51",
   "metadata": {},
   "outputs": [
    {
     "name": "stdout",
     "output_type": "stream",
     "text": [
      " standard deviation :6168.468205316454\n"
     ]
    }
   ],
   "source": [
    "#**Q4.3:** Calculate the standard deviation of account balances\n",
    "standard_deviation=np.std(bank_data[:,1])\n",
    "print(f\" standard deviation :{standard_deviation}\")\n"
   ]
  },
  {
   "cell_type": "code",
   "execution_count": null,
   "id": "5c638119",
   "metadata": {},
   "outputs": [
    {
     "name": "stdout",
     "output_type": "stream",
     "text": [
      " variance:38050000.0\n"
     ]
    }
   ],
   "source": [
    "#**Q4.4:** Calculate the variance of account balances\n",
    "var_acc_bal=np.var(bank_data[:,1])\n",
    "print(f\" variance:{var_acc_bal}\")"
   ]
  },
  {
   "cell_type": "code",
   "execution_count": null,
   "id": "66d15dc3",
   "metadata": {},
   "outputs": [
    {
     "name": "stdout",
     "output_type": "stream",
     "text": [
      " median: 33500.0\n"
     ]
    }
   ],
   "source": [
    "#**Q4.5:** Calculate the median account balance\n",
    "median_acc_bal=np.median(bank_data[:,1])\n",
    "print(f\" median: {mean_account_bal}\")\n"
   ]
  },
  {
   "cell_type": "code",
   "execution_count": null,
   "id": "f835f97f",
   "metadata": {},
   "outputs": [],
   "source": [
    "### Question 5: Statistical Functions\n"
   ]
  },
  {
   "cell_type": "code",
   "execution_count": null,
   "id": "9e498f09",
   "metadata": {},
   "outputs": [
    {
     "name": "stdout",
     "output_type": "stream",
     "text": [
      "minimum:45000\n",
      "maximum:25000\n"
     ]
    }
   ],
   "source": [
    "#**Q5.1:** Find the minimum and maximum account balances\n",
    "minimum_acc_bal=np.max(bank_data[0:11,1])\n",
    "maximum_acc_bal=np.min(bank_data[0:11,1])\n",
    "print(f\"minimum:{minimum_acc_bal}\")\n",
    "print(f\"maximum:{maximum_acc_bal}\")\n"
   ]
  },
  {
   "cell_type": "code",
   "execution_count": null,
   "id": "e98f8123",
   "metadata": {},
   "outputs": [
    {
     "name": "stdout",
     "output_type": "stream",
     "text": [
      "min:300\n",
      "max:550\n"
     ]
    }
   ],
   "source": [
    "#**Q5.2:** Find the minimum and maximum credit scores\n",
    "bank_data[0:11,2]\n",
    "minimum_cre_sco=np.min(bank_data[0:11,2])\n",
    "maximum_cre_sco=np.max(bank_data[0:11,2])\n",
    "print(f\"min:{minimum_cre_sco}\")\n",
    "print(f\"max:{maximum_cre_sco}\")"
   ]
  },
  {
   "cell_type": "code",
   "execution_count": null,
   "id": "db559db0",
   "metadata": {},
   "outputs": [
    {
     "name": "stdout",
     "output_type": "stream",
     "text": [
      "25th:28500.0\n",
      "50th:32500.0\n",
      "75th:38000.0\n"
     ]
    }
   ],
   "source": [
    "#**Q5.3:** Calculate the percentile values for account balances (25th, 50th, 75th)\n",
    "percentile=np.percentile(bank_data[:,1],[25,50,75])\n",
    "print(f\"25th:{percentile[0]}\")\n",
    "print(f\"50th:{percentile[1]}\")\n",
    "print(f\"75th:{percentile[2]}\")\n"
   ]
  },
  {
   "cell_type": "code",
   "execution_count": null,
   "id": "fdcaad00",
   "metadata": {},
   "outputs": [
    {
     "name": "stdout",
     "output_type": "stream",
     "text": [
      "[146460000]\n"
     ]
    }
   ],
   "source": [
    "# **Q5.4:** Calculate the correlation between account balance and credit score\n",
    "bank_data\n",
    "acc_bal=bank_data[:,1]\n",
    "cre_score=bank_data[:,2]\n",
    "corr=np.correlate(acc_bal,cre_score)\n",
    "print(corr)"
   ]
  },
  {
   "cell_type": "code",
   "execution_count": null,
   "id": "0e6dd50b",
   "metadata": {},
   "outputs": [
    {
     "name": "stdout",
     "output_type": "stream",
     "text": [
      "453888.8888888889\n"
     ]
    }
   ],
   "source": [
    "# **Q5.5:** Calculate the covariance between account balance and credit score\n",
    "bank_data\n",
    "covariance=np.cov(bank_data[:,1],bank_data[:,2])[0,1]\n",
    "print(covariance)"
   ]
  },
  {
   "cell_type": "code",
   "execution_count": null,
   "id": "08b638d1",
   "metadata": {},
   "outputs": [
    {
     "name": "stdout",
     "output_type": "stream",
     "text": [
      "[[    1 25000   300  1200    10     2 32000   450  1500    15]\n",
      " [    3 28000   380  1100     8     4 41000   500  1600    20]\n",
      " [    5 35000   420  1400    12     6 27000   360  1300     9]\n",
      " [    7 39000   480  1700    18     8 30000   400  1250    14]\n",
      " [    9 45000   550  1800    25    10 33000   410  1450    11]]\n"
     ]
    }
   ],
   "source": [
    "# **Q6.1:** Reshape the `banking_data` to 5 rows × 10 columns\n",
    "reshape=bank_data.reshape(5,10)\n",
    "print(reshape)"
   ]
  },
  {
   "cell_type": "code",
   "execution_count": null,
   "id": "9d9163ec",
   "metadata": {},
   "outputs": [
    {
     "name": "stdout",
     "output_type": "stream",
     "text": [
      "[    1 25000   300  1200    10     2 32000   450  1500    15     3 28000\n",
      "   380  1100     8     4 41000   500  1600    20     5 35000   420  1400\n",
      "    12     6 27000   360  1300     9     7 39000   480  1700    18     8\n",
      " 30000   400  1250    14     9 45000   550  1800    25    10 33000   410\n",
      "  1450    11]\n"
     ]
    }
   ],
   "source": [
    "# **Q6.2:** Flatten the `banking_data` to a 1D array\n",
    "flatten=bank_data.flatten()\n",
    "print(flatten)"
   ]
  },
  {
   "cell_type": "code",
   "execution_count": null,
   "id": "b952d81b",
   "metadata": {},
   "outputs": [
    {
     "name": "stdout",
     "output_type": "stream",
     "text": [
      "[[    1     2     3     4     5     6     7     8     9    10]\n",
      " [25000 32000 28000 41000 35000 27000 39000 30000 45000 33000]\n",
      " [  300   450   380   500   420   360   480   400   550   410]\n",
      " [ 1200  1500  1100  1600  1400  1300  1700  1250  1800  1450]\n",
      " [   10    15     8    20    12     9    18    14    25    11]]\n"
     ]
    }
   ],
   "source": [
    "# **Q6.3:** Transpose the `banking_data`\n",
    "transpose=bank_data.transpose()\n",
    "print(transpose)"
   ]
  },
  {
   "cell_type": "code",
   "execution_count": null,
   "id": "56982950",
   "metadata": {},
   "outputs": [
    {
     "name": "stdout",
     "output_type": "stream",
     "text": [
      "[[    1 25000   300  1200    10]\n",
      " [    2 32000   450  1500    15]\n",
      " [    3 28000   380  1100     8]\n",
      " [    4 41000   500  1600    20]\n",
      " [    5 35000   420  1400    12]]\n",
      "[[    6 27000   360  1300     9]\n",
      " [    7 39000   480  1700    18]\n",
      " [    8 30000   400  1250    14]\n",
      " [    9 45000   550  1800    25]\n",
      " [   10 33000   410  1450    11]]\n"
     ]
    }
   ],
   "source": [
    "# **Q6.4:** Split the `banking_data` into 2 equal parts vertically\n",
    "bank_data\n",
    "split_ver=np.vsplit(bank_data,2)    # bank_data,2 will split in two parts 0 and 1\n",
    "print(split_ver[0])\n",
    "print(split_ver[1])"
   ]
  },
  {
   "cell_type": "code",
   "execution_count": null,
   "id": "fe377583",
   "metadata": {},
   "outputs": [
    {
     "ename": "ValueError",
     "evalue": "array split does not result in an equal division",
     "output_type": "error",
     "traceback": [
      "\u001b[31m---------------------------------------------------------------------------\u001b[39m",
      "\u001b[31mValueError\u001b[39m                                Traceback (most recent call last)",
      "\u001b[36mCell\u001b[39m\u001b[36m \u001b[39m\u001b[32mIn[451]\u001b[39m\u001b[32m, line 3\u001b[39m\n\u001b[32m      1\u001b[39m \u001b[38;5;66;03m# **Q6.5:** Split the `banking_data` into 2 equal parts horizontally\u001b[39;00m\n\u001b[32m      2\u001b[39m bank_data\n\u001b[32m----> \u001b[39m\u001b[32m3\u001b[39m split_hor=\u001b[43mnp\u001b[49m\u001b[43m.\u001b[49m\u001b[43mhsplit\u001b[49m\u001b[43m(\u001b[49m\u001b[43mbank_data\u001b[49m\u001b[43m,\u001b[49m\u001b[32;43m2\u001b[39;49m\u001b[43m)\u001b[49m \u001b[38;5;66;03m######################################################################\u001b[39;00m\n",
      "\u001b[36mFile \u001b[39m\u001b[32mc:\\Users\\DELL\\AppData\\Local\\Programs\\Python\\Python313\\Lib\\site-packages\\numpy\\lib\\_shape_base_impl.py:959\u001b[39m, in \u001b[36mhsplit\u001b[39m\u001b[34m(ary, indices_or_sections)\u001b[39m\n\u001b[32m    957\u001b[39m     \u001b[38;5;28;01mraise\u001b[39;00m \u001b[38;5;167;01mValueError\u001b[39;00m(\u001b[33m'\u001b[39m\u001b[33mhsplit only works on arrays of 1 or more dimensions\u001b[39m\u001b[33m'\u001b[39m)\n\u001b[32m    958\u001b[39m \u001b[38;5;28;01mif\u001b[39;00m ary.ndim > \u001b[32m1\u001b[39m:\n\u001b[32m--> \u001b[39m\u001b[32m959\u001b[39m     \u001b[38;5;28;01mreturn\u001b[39;00m \u001b[43msplit\u001b[49m\u001b[43m(\u001b[49m\u001b[43mary\u001b[49m\u001b[43m,\u001b[49m\u001b[43m \u001b[49m\u001b[43mindices_or_sections\u001b[49m\u001b[43m,\u001b[49m\u001b[43m \u001b[49m\u001b[32;43m1\u001b[39;49m\u001b[43m)\u001b[49m\n\u001b[32m    960\u001b[39m \u001b[38;5;28;01melse\u001b[39;00m:\n\u001b[32m    961\u001b[39m     \u001b[38;5;28;01mreturn\u001b[39;00m split(ary, indices_or_sections, \u001b[32m0\u001b[39m)\n",
      "\u001b[36mFile \u001b[39m\u001b[32mc:\\Users\\DELL\\AppData\\Local\\Programs\\Python\\Python313\\Lib\\site-packages\\numpy\\lib\\_shape_base_impl.py:884\u001b[39m, in \u001b[36msplit\u001b[39m\u001b[34m(ary, indices_or_sections, axis)\u001b[39m\n\u001b[32m    882\u001b[39m     N = ary.shape[axis]\n\u001b[32m    883\u001b[39m     \u001b[38;5;28;01mif\u001b[39;00m N % sections:\n\u001b[32m--> \u001b[39m\u001b[32m884\u001b[39m         \u001b[38;5;28;01mraise\u001b[39;00m \u001b[38;5;167;01mValueError\u001b[39;00m(\n\u001b[32m    885\u001b[39m             \u001b[33m'\u001b[39m\u001b[33marray split does not result in an equal division\u001b[39m\u001b[33m'\u001b[39m) \u001b[38;5;28;01mfrom\u001b[39;00m\u001b[38;5;250m \u001b[39m\u001b[38;5;28;01mNone\u001b[39;00m\n\u001b[32m    886\u001b[39m \u001b[38;5;28;01mreturn\u001b[39;00m array_split(ary, indices_or_sections, axis)\n",
      "\u001b[31mValueError\u001b[39m: array split does not result in an equal division"
     ]
    }
   ],
   "source": [
    "# **Q6.5:** Split the `banking_data` into 2 equal parts horizontally\n",
    "bank_data\n",
    "split_hor=np.hsplit(bank_data,2) ######################################################################"
   ]
  },
  {
   "cell_type": "code",
   "execution_count": null,
   "id": "91ce1e14",
   "metadata": {},
   "outputs": [],
   "source": [
    "### Question 7: Logical Operations and Filtering\n"
   ]
  },
  {
   "cell_type": "code",
   "execution_count": null,
   "id": "e9daf0aa",
   "metadata": {},
   "outputs": [
    {
     "name": "stdout",
     "output_type": "stream",
     "text": [
      "[[     1 125000    300     12     10]\n",
      " [     3 628000    380     11      8]\n",
      " [     5 935000    820     14     12]\n",
      " [     6 227000    360     13      9]\n",
      " [     8 730000    900     12     14]\n",
      " [    10 433000    810     19     11]]\n"
     ]
    }
   ],
   "source": [
    "# **Q7.1:** Find customers with account balance greater than $100,000\n",
    "bank_data \n",
    "greater=bank_data[bank_data[:,1]>100000]\n",
    "print(greater)"
   ]
  },
  {
   "cell_type": "code",
   "execution_count": null,
   "id": "a9a74d49",
   "metadata": {},
   "outputs": [
    {
     "data": {
      "text/plain": [
       "array([[     5, 935000,    820,     82,     12],\n",
       "       [     8, 730000,    900,     31,     14],\n",
       "       [    10, 433000,    810,     10,     11]])"
      ]
     },
     "execution_count": 349,
     "metadata": {},
     "output_type": "execute_result"
    }
   ],
   "source": [
    "# **Q7.2:** Find customers with credit score greater than 800\n",
    "# bank_data\n",
    "# credit_score=bank_data[bank_data[:,2]>800]\n",
    "# print(cre_score)\n",
    "A=bank_data[bank_data[:,2]>800]\n",
    "A\n"
   ]
  },
  {
   "cell_type": "code",
   "execution_count": null,
   "id": "83069f0a",
   "metadata": {},
   "outputs": [
    {
     "name": "stdout",
     "output_type": "stream",
     "text": [
      "[[     1 125000    300    120     10]\n",
      " [     2   3320    450     75     15]\n",
      " [     7  53000    480     92     18]\n",
      " [     9  84500    550     98     25]]\n"
     ]
    }
   ],
   "source": [
    "# **Q7.3:** Find customers with transaction count greater than 50 AND credit score less than 750\n",
    "bank_data\n",
    "tran=bank_data[:,3].mean()\n",
    "cre_score=bank_data[:,2].mean()\n",
    "data=bank_data[(bank_data[:,3]>tran) & (bank_data[:,2]<750)]\n",
    "print(data)"
   ]
  },
  {
   "cell_type": "code",
   "execution_count": null,
   "id": "5e5631b6",
   "metadata": {},
   "outputs": [
    {
     "name": "stdout",
     "output_type": "stream",
     "text": [
      "[[    1 25000   300  1200    10]\n",
      " [    2 32000   450  1500    15]\n",
      " [    3 28000   380  1100     8]\n",
      " [    4 41000   500  1600    20]\n",
      " [    5 35000   420  1400    12]\n",
      " [    6 27000   360  1300     9]\n",
      " [    7 39000   480  1700    18]\n",
      " [    8 30000   400  1250    14]\n",
      " [    9 45000   550  1800    25]\n",
      " [   10 33000   410  1450    11]]\n",
      "10\n"
     ]
    }
   ],
   "source": [
    "# **Q7.4:** Count how many customers have account balance between $10,000 and $100,000\n",
    "\n",
    "print(bank_data)\n",
    "data=np.sum([(bank_data[:,1]>=10000) & (bank_data[:,1]<=100000)])\n",
    "print(data)"
   ]
  },
  {
   "cell_type": "code",
   "execution_count": null,
   "id": "22e0b4e9",
   "metadata": {},
   "outputs": [
    {
     "name": "stdout",
     "output_type": "stream",
     "text": [
      "8\n"
     ]
    }
   ],
   "source": [
    "# **Q7.5:** Find the index of the customer with the highest credit score\n",
    "index=bank_data[:,2].argmax()+1\n",
    "print(index)"
   ]
  },
  {
   "cell_type": "code",
   "execution_count": null,
   "id": "2c69d49d",
   "metadata": {},
   "outputs": [],
   "source": [
    "### Question 8: Sorting and Searching\n"
   ]
  },
  {
   "cell_type": "code",
   "execution_count": null,
   "id": "3027b83e",
   "metadata": {},
   "outputs": [
    {
     "name": "stdout",
     "output_type": "stream",
     "text": [
      "[[    1 25000   300  1200    10]\n",
      " [    2 32000   450  1500    15]\n",
      " [    3 28000   380  1100     8]\n",
      " [    4 41000   500  1600    20]\n",
      " [    5 35000   420  1400    12]\n",
      " [    6 27000   360  1300     9]\n",
      " [    7 39000   480  1700    18]\n",
      " [    8 30000   400  1250    14]\n",
      " [    9 45000   550  1800    25]\n",
      " [   10 33000   410  1450    11]]\n",
      "[0 5 2 7 1 9 4 6 3 8]\n"
     ]
    }
   ],
   "source": [
    "# **Q8.1:** Sort the `banking_data` by account balance (ascending)\n",
    "print(bank_data)\n",
    "sort=bank_data[:,1].argsort()\n",
    "print(sort)\n"
   ]
  },
  {
   "cell_type": "code",
   "execution_count": null,
   "id": "d2e2f23a",
   "metadata": {},
   "outputs": [
    {
     "name": "stdout",
     "output_type": "stream",
     "text": [
      "[[    1 25000   300  1200    10]\n",
      " [    6 27000   360  1300     9]\n",
      " [    9 45000   550  1800    25]\n",
      " [    4 41000   500  1600    20]\n",
      " [    2 32000   450  1500    15]\n",
      " [    7 39000   480  1700    18]\n",
      " [   10 33000   410  1450    11]\n",
      " [    5 35000   420  1400    12]\n",
      " [    8 30000   400  1250    14]\n",
      " [    3 28000   380  1100     8]]\n"
     ]
    }
   ],
   "source": [
    "# **Q8.2:** Sort the `banking_data` by credit score (descending)\n",
    "\n",
    "descending=bank_data[-bank_data[:,2].argsort()]\n",
    "print(descending)"
   ]
  },
  {
   "cell_type": "code",
   "execution_count": null,
   "id": "a095ed6f",
   "metadata": {},
   "outputs": [
    {
     "name": "stdout",
     "output_type": "stream",
     "text": [
      "[2 5 0 9 4 7 1 6 3 8]\n"
     ]
    }
   ],
   "source": [
    "# **Q8.3:** Find the indices that would sort the array by years active\n",
    "year_active=bank_data[:,4].argsort()\n",
    "print(year_active)"
   ]
  },
  {
   "cell_type": "code",
   "execution_count": null,
   "id": "96900d0f",
   "metadata": {},
   "outputs": [
    {
     "name": "stdout",
     "output_type": "stream",
     "text": [
      "4\n"
     ]
    }
   ],
   "source": [
    "# **Q8.4:** Find the customer with the second highest account balance\n",
    "sec_hig_ind=np.argsort(bank_data[:,2])[-2]\n",
    "sec_hig=bank_data[sec_hig_ind]\n",
    "print(sec_hig[0])\n",
    "\n"
   ]
  },
  {
   "cell_type": "code",
   "execution_count": null,
   "id": "dcd0220a",
   "metadata": {},
   "outputs": [
    {
     "name": "stdout",
     "output_type": "stream",
     "text": [
      "3\n"
     ]
    }
   ],
   "source": [
    "# **Q8.5:** Find the customer with the lowest transaction count\n",
    "data=np.argmin(bank_data[:,3])\n",
    "data1=bank_data[data]\n",
    "print(data1[0])"
   ]
  },
  {
   "cell_type": "code",
   "execution_count": null,
   "id": "4f0069dc",
   "metadata": {},
   "outputs": [
    {
     "data": {
      "text/plain": [
       "array([[    1, 25000,   300,  1200,    10],\n",
       "       [    2, 32000,   450,  1500,    15],\n",
       "       [    3, 28000,   380,  1100,     8],\n",
       "       [    4, 41000,   500,  1600,    20],\n",
       "       [    5, 35000,   420,  1400,    12],\n",
       "       [    6, 27000,   360,  1300,     9],\n",
       "       [    7, 39000,   480,  1700,    18],\n",
       "       [    8, 30000,   400,  1250,    14],\n",
       "       [    9, 45000,   550,  1800,    25],\n",
       "       [   10, 33000,   410,  1450,    11]])"
      ]
     },
     "execution_count": 481,
     "metadata": {},
     "output_type": "execute_result"
    }
   ],
   "source": [
    "bank_data"
   ]
  },
  {
   "cell_type": "code",
   "execution_count": null,
   "id": "33a7caa4",
   "metadata": {},
   "outputs": [
    {
     "name": "stdout",
     "output_type": "stream",
     "text": [
      "[[    1 25000   300  1200    10]\n",
      " [    2 32000   450  1500    15]\n",
      " [    3 28000   380  1100     8]\n",
      " [    4 41000   500  1600    20]\n",
      " [    5 35000   420  1400    12]\n",
      " [    6 27000   360  1300     9]\n",
      " [    7 39000   480  1700    18]\n",
      " [    8 30000   400  1250    14]\n",
      " [    9 45000   550  1800    25]\n",
      " [   10 33000   410  1450    11]]\n"
     ]
    }
   ],
   "source": [
    "# **Q9.1:** Calculate the absolute values of all elements\n",
    "absolut=np.abs(bank_data[:])\n",
    "print(absolut)"
   ]
  },
  {
   "cell_type": "code",
   "execution_count": null,
   "id": "b1b006d2",
   "metadata": {},
   "outputs": [
    {
     "name": "stdout",
     "output_type": "stream",
     "text": [
      "[158.11388301 178.8854382  167.33200531 202.48456731 187.08286934\n",
      " 164.31676725 197.48417658 173.20508076 212.13203436 181.65902125]\n"
     ]
    }
   ],
   "source": [
    "# **Q9.2:** Calculate the square root of all account balances\n",
    "import math\n",
    "root_square=np.sqrt(bank_data[:,1])\n",
    "print(root_square)"
   ]
  },
  {
   "cell_type": "code",
   "execution_count": null,
   "id": "e31dd143",
   "metadata": {},
   "outputs": [
    {
     "name": "stdout",
     "output_type": "stream",
     "text": [
      "[ 90000 202500 144400 250000 176400 129600 230400 160000 302500 168100]\n"
     ]
    }
   ],
   "source": [
    "# **Q9.3:** Calculate the square of all credit scores\n",
    "square=np.square(bank_data[:,2])\n",
    "print(square)"
   ]
  },
  {
   "cell_type": "code",
   "execution_count": null,
   "id": "cd983ecb",
   "metadata": {},
   "outputs": [
    {
     "name": "stdout",
     "output_type": "stream",
     "text": [
      "[2.20254658e+04 3.26901637e+06 2.97995799e+03 4.85165194e+08\n",
      " 1.62753791e+05 8.10208393e+03 6.56599681e+07 1.20260328e+06\n",
      " 7.20048993e+10 5.98731417e+04]\n"
     ]
    }
   ],
   "source": [
    "# **Q9.4:** Calculate the exponential of all transaction counts\n",
    "exponential=np.exp(bank_data[:,4])\n",
    "print(exponential)"
   ]
  },
  {
   "cell_type": "code",
   "execution_count": null,
   "id": "d51a12bc",
   "metadata": {},
   "outputs": [
    {
     "name": "stdout",
     "output_type": "stream",
     "text": [
      "[10.1266311  10.37349118 10.23995979 10.62132735 10.46310334 10.20359214\n",
      " 10.57131693 10.30895266 10.71441777 10.40426284]\n"
     ]
    }
   ],
   "source": [
    "# **Q9.5:** Calculate the natural logarithm of all account balances\n",
    "logarithm=np.log(bank_data[:,1])\n",
    "print(logarithm)"
   ]
  },
  {
   "cell_type": "code",
   "execution_count": null,
   "id": "7ff3c9c6",
   "metadata": {},
   "outputs": [],
   "source": [
    "### Question 10: Advanced Operations\n"
   ]
  },
  {
   "cell_type": "code",
   "execution_count": null,
   "id": "48f83228",
   "metadata": {},
   "outputs": [
    {
     "name": "stdout",
     "output_type": "stream",
     "text": [
      "[ 25000  57000  85000 126000 161000 188000 227000 257000 302000 335000]\n"
     ]
    }
   ],
   "source": [
    "# **Q10.1:** Calculate the cumulative sum of account balances\n",
    "cumulative=np.cumsum(bank_data[:,1])\n",
    "print(cumulative)"
   ]
  },
  {
   "cell_type": "code",
   "execution_count": null,
   "id": "2f77b5c0",
   "metadata": {},
   "outputs": [
    {
     "data": {
      "text/plain": [
       "array([               25000,            800000000,       22400000000000,\n",
       "         918400000000000000, -8674920475748466688, -4543341318423707648,\n",
       "        9112153529354551296,  2305452334693482496,   866390664194031616,\n",
       "       -1561395846761676800])"
      ]
     },
     "execution_count": 30,
     "metadata": {},
     "output_type": "execute_result"
    }
   ],
   "source": [
    "# **Q10.2:** Calculate the cumulative product of transaction counts\n",
    "cumulative_product=np.cumprod(bank_data[:,1])\n",
    "cumulative_product"
   ]
  },
  {
   "cell_type": "code",
   "execution_count": null,
   "id": "0379983c",
   "metadata": {},
   "outputs": [
    {
     "data": {
      "text/plain": [
       "array([ 150,  -70,  120,  -80,  -60,  120,  -80,  150, -140])"
      ]
     },
     "execution_count": 37,
     "metadata": {},
     "output_type": "execute_result"
    }
   ],
   "source": [
    "# **Q10.3:** Calculate the difference between consecutive account balances\n",
    "consecutive=np.diff(bank_data[:,2])\n",
    "consecutive"
   ]
  },
  {
   "cell_type": "code",
   "execution_count": null,
   "id": "9ee94126",
   "metadata": {},
   "outputs": [
    {
     "name": "stdout",
     "output_type": "stream",
     "text": [
      "[  7000.   1500.   4500.   3500.  -7000.   2000.   1500.   3000.   1500.\n",
      " -12000.]\n"
     ]
    }
   ],
   "source": [
    "# **Q10.4:** Calculate the gradient of account balances\n",
    "gradient=np.gradient(bank_data[:,1])\n",
    "print(gradient)"
   ]
  },
  {
   "cell_type": "code",
   "execution_count": null,
   "id": "9e992825",
   "metadata": {},
   "outputs": [
    {
     "name": "stdout",
     "output_type": "stream",
     "text": [
      "[3 2 2 1 2]\n",
      "[25000. 29000. 33000. 37000. 41000. 45000.]\n"
     ]
    }
   ],
   "source": [
    "# **Q10.5:** Calculate the histogram of account balances with 5 bins\n",
    "acc_bal,bin_data=np.histogram(bank_data[:,1], bins=5)\n",
    "print(acc_bal)\n",
    "print(bin_data)"
   ]
  },
  {
   "cell_type": "code",
   "execution_count": null,
   "id": "dac3293e",
   "metadata": {},
   "outputs": [
    {
     "name": "stdout",
     "output_type": "stream",
     "text": [
      "[504 828  73  24 539 343]\n"
     ]
    }
   ],
   "source": [
    "# ## Question 11: Random Numbers and Simulation\n",
    "# **Q11.1:** Generate 6 random integers between 1 and 1000\n",
    "data=np.random.randint(1,1000,6)\n",
    "print(data)"
   ]
  },
  {
   "cell_type": "code",
   "execution_count": null,
   "id": "41f70f03",
   "metadata": {},
   "outputs": [
    {
     "name": "stdout",
     "output_type": "stream",
     "text": [
      "[0.93765191 0.70202359 0.35494405 0.92879688 0.16227721 0.73384393]\n"
     ]
    }
   ],
   "source": [
    "# **Q11.2:** Generate 6 random floats between 0 and 1\n",
    "data=np.random.random(6)\n",
    "print(data)"
   ]
  },
  {
   "cell_type": "code",
   "execution_count": null,
   "id": "bfa41a28",
   "metadata": {},
   "outputs": [
    {
     "data": {
      "text/plain": [
       "array([392.11880644, 708.90668307, 657.81912384, 704.83250414,\n",
       "       896.30024356, 640.78235271])"
      ]
     },
     "execution_count": 58,
     "metadata": {},
     "output_type": "execute_result"
    }
   ],
   "source": [
    "# **Q11.3:** Generate 6 random numbers from normal distribution (mean=700, std=100)\n",
    "data=np.random.normal(700,100,6)# first ps is mean and second ps is std\n",
    "data"
   ]
  },
  {
   "cell_type": "code",
   "execution_count": null,
   "id": "63cd0e4e",
   "metadata": {},
   "outputs": [
    {
     "name": "stdout",
     "output_type": "stream",
     "text": [
      "[[   10 33000   410  1450    11]\n",
      " [    7 39000   480  1700    18]\n",
      " [    9 45000   550  1800    25]\n",
      " [    6 27000   360  1300     9]\n",
      " [    1 25000   300  1200    10]\n",
      " [    8 30000   400  1250    14]\n",
      " [    3 28000   380  1100     8]\n",
      " [    2 32000   450  1500    15]\n",
      " [    5 35000   420  1400    12]\n",
      " [    4 41000   500  1600    20]]\n"
     ]
    }
   ],
   "source": [
    "# **Q11.4:** Shuffle the `banking_data` rows randomly\n",
    "bank_data\n",
    "shuffle_data=bank_data.copy()\n",
    "np.random.shuffle(shuffle_data)  # shuffle is there in np.random\n",
    "print(shuffle_data)"
   ]
  },
  {
   "cell_type": "code",
   "execution_count": null,
   "id": "b47db8a3",
   "metadata": {},
   "outputs": [
    {
     "name": "stdout",
     "output_type": "stream",
     "text": [
      "[0.37454012 0.95071431 0.73199394]\n"
     ]
    }
   ],
   "source": [
    "# **Q11.5:** Set random seed to 123 and generate 4 random numbers\n",
    "np.random.seed(123)\n",
    "seeded_random=np.random.random(4)\n",
    "print(seeded_random)\n",
    "\n"
   ]
  },
  {
   "cell_type": "code",
   "execution_count": null,
   "id": "d2eddda6",
   "metadata": {},
   "outputs": [],
   "source": [
    "### Question 12: Linear Algebra Operations\n"
   ]
  },
  {
   "cell_type": "code",
   "execution_count": null,
   "id": "9716c96e",
   "metadata": {},
   "outputs": [
    {
     "name": "stdout",
     "output_type": "stream",
     "text": [
      "146460000\n"
     ]
    }
   ],
   "source": [
    "# **Q12.1:** Calculate the dot product of account balance and credit score columns\n",
    "bank_data\n",
    "a=bank_data[:,1]\n",
    "b=bank_data[:,2]\n",
    "the_dot_product=np.dot(a,b)\n",
    "print(the_dot_product)\n"
   ]
  },
  {
   "cell_type": "code",
   "execution_count": 77,
   "id": "e8680735",
   "metadata": {},
   "outputs": [
    {
     "ename": "ValueError",
     "evalue": "incompatible dimensions for cross product\n(dimension must be 2 or 3)",
     "output_type": "error",
     "traceback": [
      "\u001b[31m---------------------------------------------------------------------------\u001b[39m",
      "\u001b[31mValueError\u001b[39m                                Traceback (most recent call last)",
      "\u001b[36mCell\u001b[39m\u001b[36m \u001b[39m\u001b[32mIn[77]\u001b[39m\u001b[32m, line 2\u001b[39m\n\u001b[32m      1\u001b[39m \u001b[38;5;66;03m# **Q12.2:** Calculate the cross product of first two rows\u001b[39;00m\n\u001b[32m----> \u001b[39m\u001b[32m2\u001b[39m cross_product=\u001b[43mnp\u001b[49m\u001b[43m.\u001b[49m\u001b[43mcross\u001b[49m\u001b[43m(\u001b[49m\u001b[43mbank_data\u001b[49m\u001b[43m[\u001b[49m\u001b[32;43m0\u001b[39;49m\u001b[43m]\u001b[49m\u001b[43m,\u001b[49m\u001b[43mbank_data\u001b[49m\u001b[43m[\u001b[49m\u001b[32;43m1\u001b[39;49m\u001b[43m]\u001b[49m\u001b[43m)\u001b[49m\n\u001b[32m      3\u001b[39m cross_product\n",
      "\u001b[36mFile \u001b[39m\u001b[32mc:\\Users\\DELL\\AppData\\Local\\Programs\\Python\\Python313\\Lib\\site-packages\\numpy\\_core\\numeric.py:1695\u001b[39m, in \u001b[36mcross\u001b[39m\u001b[34m(a, b, axisa, axisb, axisc, axis)\u001b[39m\n\u001b[32m   1692\u001b[39m msg = (\u001b[33m\"\u001b[39m\u001b[33mincompatible dimensions for cross product\u001b[39m\u001b[38;5;130;01m\\n\u001b[39;00m\u001b[33m\"\u001b[39m\n\u001b[32m   1693\u001b[39m        \u001b[33m\"\u001b[39m\u001b[33m(dimension must be 2 or 3)\u001b[39m\u001b[33m\"\u001b[39m)\n\u001b[32m   1694\u001b[39m \u001b[38;5;28;01mif\u001b[39;00m a.shape[-\u001b[32m1\u001b[39m] \u001b[38;5;129;01mnot\u001b[39;00m \u001b[38;5;129;01min\u001b[39;00m (\u001b[32m2\u001b[39m, \u001b[32m3\u001b[39m) \u001b[38;5;129;01mor\u001b[39;00m b.shape[-\u001b[32m1\u001b[39m] \u001b[38;5;129;01mnot\u001b[39;00m \u001b[38;5;129;01min\u001b[39;00m (\u001b[32m2\u001b[39m, \u001b[32m3\u001b[39m):\n\u001b[32m-> \u001b[39m\u001b[32m1695\u001b[39m     \u001b[38;5;28;01mraise\u001b[39;00m \u001b[38;5;167;01mValueError\u001b[39;00m(msg)\n\u001b[32m   1696\u001b[39m \u001b[38;5;28;01mif\u001b[39;00m a.shape[-\u001b[32m1\u001b[39m] == \u001b[32m2\u001b[39m \u001b[38;5;129;01mor\u001b[39;00m b.shape[-\u001b[32m1\u001b[39m] == \u001b[32m2\u001b[39m:\n\u001b[32m   1697\u001b[39m     \u001b[38;5;66;03m# Deprecated in NumPy 2.0, 2023-09-26\u001b[39;00m\n\u001b[32m   1698\u001b[39m     warnings.warn(\n\u001b[32m   1699\u001b[39m         \u001b[33m\"\u001b[39m\u001b[33mArrays of 2-dimensional vectors are deprecated. Use arrays of \u001b[39m\u001b[33m\"\u001b[39m\n\u001b[32m   1700\u001b[39m         \u001b[33m\"\u001b[39m\u001b[33m3-dimensional vectors instead. (deprecated in NumPy 2.0)\u001b[39m\u001b[33m\"\u001b[39m,\n\u001b[32m   1701\u001b[39m         \u001b[38;5;167;01mDeprecationWarning\u001b[39;00m, stacklevel=\u001b[32m2\u001b[39m\n\u001b[32m   1702\u001b[39m     )\n",
      "\u001b[31mValueError\u001b[39m: incompatible dimensions for cross product\n(dimension must be 2 or 3)"
     ]
    }
   ],
   "source": [
    "# **Q12.2:** Calculate the cross product of first two rows\n",
    "cross_product=np.cross(bank_data[0],bank_data[1])\n",
    "cross_product"
   ]
  },
  {
   "cell_type": "code",
   "execution_count": null,
   "id": "341485e2",
   "metadata": {},
   "outputs": [
    {
     "name": "stdout",
     "output_type": "stream",
     "text": [
      "107717.22239270747\n"
     ]
    }
   ],
   "source": [
    "# **Q12.3:** Calculate the norm (magnitude) of the account balance column\n",
    "data=np.linalg.norm(bank_data[:,1])\n",
    "print(data)"
   ]
  },
  {
   "cell_type": "code",
   "execution_count": null,
   "id": "5752f262",
   "metadata": {},
   "outputs": [
    {
     "name": "stdout",
     "output_type": "stream",
     "text": [
      "[[7 0 7]\n",
      " [7 2 0]\n",
      " [7 2 2]]\n",
      "2\n"
     ]
    }
   ],
   "source": [
    "# **Q12.4:** Create a 3x3 matrix and calculate its determinant\n",
    "data=np.random.randint(0,10,(3,3))\n",
    "print(data)\n",
    "print(np.ndim(data))\n"
   ]
  },
  {
   "cell_type": "code",
   "execution_count": 80,
   "id": "e2fad79c",
   "metadata": {},
   "outputs": [
    {
     "name": "stdout",
     "output_type": "stream",
     "text": [
      "[[ 0.0625     -0.14285714  0.19642857]\n",
      " [-0.125       0.14285714  0.17857143]\n",
      " [ 0.25       -0.         -0.5       ]]\n"
     ]
    }
   ],
   "source": [
    "# **Q12.5:** Calculate the inverse of the 3x3 matrix\n",
    "a=np.random.randint(1,10,(3,3))\n",
    "data1=np.linalg.inv(a)\n",
    "print(data1)"
   ]
  },
  {
   "cell_type": "code",
   "execution_count": null,
   "id": "d166aa16",
   "metadata": {},
   "outputs": [],
   "source": [
    "### Question 13: String Operations\n"
   ]
  },
  {
   "cell_type": "code",
   "execution_count": null,
   "id": "bd503e97",
   "metadata": {},
   "outputs": [
    {
     "data": {
      "text/plain": [
       "array(['1', '2', '3', '4', '5', '6', '7', '8', '9', '10'], dtype='<U21')"
      ]
     },
     "execution_count": 143,
     "metadata": {},
     "output_type": "execute_result"
    }
   ],
   "source": [
    "# **Q13.1:** Convert all customer IDs to strings\n",
    "bank_data\n",
    "a=(bank_data[:,0]).astype(str)\n",
    "a\n"
   ]
  },
  {
   "cell_type": "code",
   "execution_count": null,
   "id": "3ea966ba",
   "metadata": {},
   "outputs": [
    {
     "name": "stdout",
     "output_type": "stream",
     "text": [
      "[False False False False False False False False False False]\n"
     ]
    }
   ],
   "source": [
    "# **Q13.2:** Check if any customer ID contains '100'\n",
    "bank_data[:,0]\n",
    "contains_100=np.char.find(a,'100')>=0\n",
    "print(contains_100)\n"
   ]
  },
  {
   "cell_type": "code",
   "execution_count": null,
   "id": "fe59d397",
   "metadata": {},
   "outputs": [
    {
     "name": "stdout",
     "output_type": "stream",
     "text": [
      "['1' '2' '3' '4' '5' '6' '7' '8' '9' '10']\n"
     ]
    }
   ],
   "source": [
    "# **Q13.3:** Convert all customer IDs to uppercase (if they were strings)\n",
    "customer_uppercase=np.char.upper(a)\n",
    "print(customer_uppercase)\n"
   ]
  },
  {
   "cell_type": "code",
   "execution_count": null,
   "id": "ee914a31",
   "metadata": {},
   "outputs": [
    {
     "name": "stdout",
     "output_type": "stream",
     "text": [
      "[1 1 1 1 1 1 1 1 1 2]\n"
     ]
    }
   ],
   "source": [
    "# **Q13.4:** Count the length of each customer ID string\n",
    "len_custome=np.char.str_len(a)\n",
    "print(len_custome)"
   ]
  },
  {
   "cell_type": "code",
   "execution_count": null,
   "id": "a3e118cd",
   "metadata": {},
   "outputs": [
    {
     "name": "stdout",
     "output_type": "stream",
     "text": [
      "['1' 'CUST' '3' '4' '5' '6' '7' '8' '9' '10']\n"
     ]
    }
   ],
   "source": [
    "# **Q13.5:** Replace '100' with 'CUST' in customer IDs\n",
    "replace_100=np.char.replace(a,2,new='CUST')\n",
    "print(replace_100)\n"
   ]
  },
  {
   "cell_type": "code",
   "execution_count": null,
   "id": "332faa06",
   "metadata": {},
   "outputs": [],
   "source": [
    "### Question 14: Date and Time Operations\n"
   ]
  },
  {
   "cell_type": "code",
   "execution_count": null,
   "id": "a0fd60fd",
   "metadata": {},
   "outputs": [
    {
     "name": "stdout",
     "output_type": "stream",
     "text": [
      "[120 180  96 240 144 108 216 168 300 132]\n"
     ]
    }
   ],
   "source": [
    "# **Q14.1:** Convert years active to months\n",
    "year_to_months=bank_data[:,4]*12\n",
    "print(year_to_months)"
   ]
  },
  {
   "cell_type": "code",
   "execution_count": null,
   "id": "3140dc2a",
   "metadata": {},
   "outputs": [
    {
     "name": "stdout",
     "output_type": "stream",
     "text": [
      "14.2\n"
     ]
    }
   ],
   "source": [
    "# **Q14.2:** Calculate the average years active\n",
    "bank_data\n",
    "avarage_year_active=np.average(bank_data[:,4])\n",
    "print(avarage_year_active)\n",
    "\n",
    "\n"
   ]
  },
  {
   "cell_type": "code",
   "execution_count": null,
   "id": "58ab4587",
   "metadata": {},
   "outputs": [
    {
     "name": "stdout",
     "output_type": "stream",
     "text": [
      "[[    1 25000   300  1200    10]\n",
      " [    2 32000   450  1500    15]\n",
      " [    3 28000   380  1100     8]\n",
      " [    4 41000   500  1600    20]\n",
      " [    5 35000   420  1400    12]\n",
      " [    6 27000   360  1300     9]\n",
      " [    7 39000   480  1700    18]\n",
      " [    8 30000   400  1250    14]\n",
      " [    9 45000   550  1800    25]\n",
      " [   10 33000   410  1450    11]]\n"
     ]
    }
   ],
   "source": [
    "# **Q14.3:** Find customers who have been active for more than 5 years\n",
    "\n",
    "active_5=bank_data[bank_data[:,4]>5]\n",
    "print(active_5)"
   ]
  },
  {
   "cell_type": "code",
   "execution_count": null,
   "id": "8891215e",
   "metadata": {},
   "outputs": [
    {
     "name": "stdout",
     "output_type": "stream",
     "text": [
      "142\n"
     ]
    }
   ],
   "source": [
    "# **Q14.4:** Calculate the total time all customers have been active (in years)\n",
    "bank_data\n",
    "total_active=np.sum(bank_data[:,4])\n",
    "print(total_active)"
   ]
  },
  {
   "cell_type": "code",
   "execution_count": null,
   "id": "ee6222b6",
   "metadata": {},
   "outputs": [
    {
     "name": "stdout",
     "output_type": "stream",
     "text": [
      "8\n"
     ]
    }
   ],
   "source": [
    "# **Q14.5:** Find the customer with the shortest time active\n",
    "bank_data\n",
    "shortest_time=np.sort(bank_data[:,4])\n",
    "print(shortest_time[0])"
   ]
  },
  {
   "cell_type": "code",
   "execution_count": null,
   "id": "8b31ddf0",
   "metadata": {},
   "outputs": [],
   "source": [
    "### Question 15: Advanced Array Operations\n"
   ]
  },
  {
   "cell_type": "code",
   "execution_count": 58,
   "id": "c5aebe9c",
   "metadata": {},
   "outputs": [
    {
     "name": "stdout",
     "output_type": "stream",
     "text": [
      "[25000 32000 28000 41000 35000 27000 39000 30000 45000 33000]\n",
      "[1250. 1600. 1400. 2050. 1750. 1350. 1950. 1500. 2250. 1650.]\n",
      "[26250. 33600. 29400. 43050. 36750. 28350. 40950. 31500. 47250. 34650.]\n"
     ]
    }
   ],
   "source": [
    "# **Q15.1:** Apply a function to calculate 5% interest on all account balances\n",
    "print(bank_data[:,1])\n",
    "interest=[]\n",
    "acc_bal=bank_data[:,1]\n",
    "for i in acc_bal:\n",
    "    z=(acc_bal*0.05)\n",
    "    interest=z+acc_bal\n",
    "print(z)\n",
    "print(interest)\n",
    "##################################################333\n",
    "# def square_price(x):\n",
    "#     return x *0.05\n",
    "\n",
    "# squared_prices = np.vectorize(square_price)(bank_data[:, 1])\n",
    "# print(squared_prices)\n"
   ]
  },
  {
   "cell_type": "code",
   "execution_count": 13,
   "id": "3fd10ce8",
   "metadata": {},
   "outputs": [
    {
     "name": "stdout",
     "output_type": "stream",
     "text": [
      "['lower' 'lower' 'lower' 'higher' 'lower' 'lower' 'lower' 'lower' 'higher'\n",
      " 'lower']\n"
     ]
    }
   ],
   "source": [
    "# **Q15.2:** Use `np.where` to categorize customers by balance ranges\n",
    "range_customer=np.where(bank_data[:,1]>39000,\"higher\",\"lower\") #########t T are F\n",
    "print(range_customer)"
   ]
  },
  {
   "cell_type": "code",
   "execution_count": null,
   "id": "089e64c1",
   "metadata": {},
   "outputs": [
    {
     "name": "stdout",
     "output_type": "stream",
     "text": [
      "['low' 'good' 'low' 'good' 'good' 'low' 'good' 'good' 'good' 'good']\n"
     ]
    }
   ],
   "source": [
    "# **Q15.3:** Use `np.select` to categorize customers by credit score ranges\n",
    "range=[\n",
    "    bank_data[:,2]<400,                                          #firt give a range and then tel what is low and what is high thn compare them ,print\n",
    "    (bank_data[:,2] >=400) & (bank_data[:,2]<700),\n",
    "    bank_data[:,2]>=700\n",
    "]\n",
    "choices=['low','good','excellent']\n",
    "customer=np.select(range,choices,default='unknowen')\n",
    "print(customer)\n",
    "\n",
    "\n"
   ]
  },
  {
   "cell_type": "code",
   "execution_count": null,
   "id": "dc44fb08",
   "metadata": {},
   "outputs": [
    {
     "name": "stdout",
     "output_type": "stream",
     "text": [
      "[12500 16000 14000 20500 17500 13500 19500 15000 22500 16500]\n"
     ]
    }
   ],
   "source": [
    "# **Q15.4:** Use `np.piecewise` to apply different interest rates based on balance\n",
    "\n",
    "bank_data[:,1]\n",
    "def low_balance(x): return x*0.5 \n",
    "def normal_balance(x): return x*1.0\n",
    "def high_balance(x): return x*0.5\n",
    "                                                                 ####\n",
    "interest=np.piecewise(bank_data[:,1],\n",
    "                   [bank_data[:,1]<20,\n",
    "                   (bank_data[:,1]>=20) & (bank_data[:,1]<50),\n",
    "                   bank_data[:,1]>=50],\n",
    "                   [low_balance,normal_balance,high_balance])\n",
    "print(interest)"
   ]
  },
  {
   "cell_type": "code",
   "execution_count": null,
   "id": "8c8b0a4a",
   "metadata": {},
   "outputs": [
    {
     "name": "stdout",
     "output_type": "stream",
     "text": [
      "[26511 33967 29491 43124 36837 28675 41205 31672 47384 34881]\n"
     ]
    }
   ],
   "source": [
    "# **Q15.5:** Use `np.apply_along_axis` to calculate the sum of each row\n",
    "bank_data\n",
    "sum_of_row=np.apply_along_axis(np.sum,1,bank_data) \n",
    "print(sum_of_row)"
   ]
  },
  {
   "cell_type": "code",
   "execution_count": null,
   "id": "2b08bc71",
   "metadata": {},
   "outputs": [],
   "source": [
    "### Question 16: Array Concatenation and Stacking\n"
   ]
  },
  {
   "cell_type": "code",
   "execution_count": 74,
   "id": "e4a1de7a",
   "metadata": {},
   "outputs": [
    {
     "name": "stdout",
     "output_type": "stream",
     "text": [
      "[8 5 7]\n",
      "[6 6 8]\n",
      "[8 5 7 6 6 8]\n"
     ]
    }
   ],
   "source": [
    "# **Q16.1:** Concatenate two arrays horizontally using `np.hstack()`\n",
    "a=np.random.randint(1,10,(3))\n",
    "b=np.random.randint(1,10,(3))\n",
    "data=np.hstack([a,b])\n",
    "print(a)\n",
    "print(b)\n",
    "print(data)\n"
   ]
  },
  {
   "cell_type": "code",
   "execution_count": 73,
   "id": "67fd9538",
   "metadata": {},
   "outputs": [
    {
     "name": "stdout",
     "output_type": "stream",
     "text": [
      "\n",
      "Q16.2: Concatenate two arrays vertically using np.vstack()\n",
      "[[1]\n",
      " [2]\n",
      " [3]]\n",
      "[[1]\n",
      " [8]\n",
      " [5]]\n",
      "[[1 1]\n",
      " [2 8]\n",
      " [3 5]]\n"
     ]
    }
   ],
   "source": [
    "print(\"\\nQ16.2: Concatenate two arrays vertically using np.vstack()\")\n",
    "\n",
    "a=np.random.randint(1,10,(3,1))\n",
    "b=np.random.randint(1,10,(3,1))\n",
    "data=np.hstack([a,b])\n",
    "print(a)\n",
    "print(b)\n",
    "print(data)\n"
   ]
  },
  {
   "cell_type": "code",
   "execution_count": null,
   "id": "f66cc4fd",
   "metadata": {},
   "outputs": [
    {
     "name": "stdout",
     "output_type": "stream",
     "text": [
      "\n",
      "Q16.2: Concatenate two arrays vertically using np.vstack()\n",
      "[[2 8 5]]\n",
      "[[8 7 1]]\n",
      "[[2 8 5]\n",
      " [8 7 1]]\n"
     ]
    }
   ],
   "source": [
    "print(\"\\nQ16.2: Concatenate two arrays vertically using np.vstack()\")\n",
    "a=np.random.randint(1,10,(1,3))\n",
    "b=np.random.randint(1,10,(1,3))\n",
    "data=np.vstack([a,b])\n",
    "print(a)\n",
    "print(b)\n",
    "print(data)"
   ]
  },
  {
   "cell_type": "code",
   "execution_count": 75,
   "id": "145f5518",
   "metadata": {},
   "outputs": [
    {
     "name": "stdout",
     "output_type": "stream",
     "text": [
      "**Q16.4:** Stack arrays depth-wise using `np.dstack()`\n",
      "[[[4 8]\n",
      "  [7 1]\n",
      "  [8 1]]]\n"
     ]
    }
   ],
   "source": [
    "print('**Q16.4:** Stack arrays depth-wise using `np.dstack()`')\n",
    "a=np.random.randint(1,10,(1,3))\n",
    "b=np.random.randint(1,10,(1,3))\n",
    "data=np.dstack([a,b])\n",
    "print(data)\n"
   ]
  },
  {
   "cell_type": "code",
   "execution_count": null,
   "id": "1961bd30",
   "metadata": {},
   "outputs": [
    {
     "name": "stdout",
     "output_type": "stream",
     "text": [
      "**Q16.5:** Create a column stack using `np.column_stack()`\n",
      "[[9 2 6]]\n",
      "[[5 7 8]]\n",
      "[[9 2 6 5 7 8]]\n"
     ]
    }
   ],
   "source": [
    "print('**Q16.5:** Create a column stack using `np.column_stack()`')\n",
    "a=np.random.randint(1,10,)\n",
    "b=np.random.randint(1,10,(1,3))\n",
    "data=np.column_stack([a,b])\n",
    "print(a)\n",
    "print(b)\n",
    "print(data)"
   ]
  },
  {
   "cell_type": "code",
   "execution_count": null,
   "id": "bd089be7",
   "metadata": {},
   "outputs": [],
   "source": [
    "### Question 17: Array Splitting Operations\n"
   ]
  },
  {
   "cell_type": "code",
   "execution_count": 11,
   "id": "5517f934",
   "metadata": {},
   "outputs": [
    {
     "name": "stdout",
     "output_type": "stream",
     "text": [
      "**Q17.1:** Split an array into 3 equal parts using `np.split()`\n",
      "[1 2 3 4 5 6 7 8 9]\n",
      "1:[1 2 3]\n",
      "2:[4 5 6]\n",
      "3:[7 8 9]\n"
     ]
    }
   ],
   "source": [
    "print(\"**Q17.1:** Split an array into 3 equal parts using `np.split()`\")\n",
    "str=np.array([1,2,3,4,5,6,7,8,9])\n",
    "str1=np.split(str,3)\n",
    "print(str)\n",
    "for i ,part in enumerate(str1):\n",
    "    print(f\"{i+1}:{part}\")"
   ]
  },
  {
   "cell_type": "code",
   "execution_count": 19,
   "id": "cad6c1c8",
   "metadata": {},
   "outputs": [
    {
     "name": "stdout",
     "output_type": "stream",
     "text": [
      "[array([1, 2, 3, 4]), array([5, 6, 7, 8]), array([ 9, 10])]\n"
     ]
    }
   ],
   "source": [
    "# **Q17.2:** Split an array at specific indices using `np.split()`\n",
    "str=np.array([1,2,3,4,5,6,7,8,9,10])\n",
    "str1=np.split(str,[4,8])\n",
    "print(str1)"
   ]
  },
  {
   "cell_type": "code",
   "execution_count": 27,
   "id": "1246f1f0",
   "metadata": {},
   "outputs": [
    {
     "name": "stdout",
     "output_type": "stream",
     "text": [
      "1,[1 2]\n",
      "2,[3 5]\n",
      "3,[6 7]\n"
     ]
    }
   ],
   "source": [
    "# **Q17.3:** Split an array horizontally using `np.hsplit()`\n",
    "str=np.array([1,2,3,5,6,7])\n",
    "split_hor=np.hsplit(str,3)\n",
    "for i ,part in enumerate(split_hor):\n",
    "    print(f\"{i+1},{part}\")"
   ]
  },
  {
   "cell_type": "code",
   "execution_count": 32,
   "id": "89b6fccf",
   "metadata": {},
   "outputs": [
    {
     "name": "stdout",
     "output_type": "stream",
     "text": [
      "1,[[1 2 3]]\n",
      "2,[[5 6 7]]\n"
     ]
    }
   ],
   "source": [
    "# **Q17.4:** Split an array vertically using `np.vsplit()`\n",
    "str=np.array([[1,2,3],[5,6,7]])\n",
    "split_ver=np.vsplit(str,2)\n",
    "for i ,part in enumerate(split_ver):\n",
    "    print(f\"{i+1},{part}\")"
   ]
  },
  {
   "cell_type": "code",
   "execution_count": 34,
   "id": "68fce4f0",
   "metadata": {},
   "outputs": [
    {
     "name": "stdout",
     "output_type": "stream",
     "text": [
      "1,[1 2 3]\n",
      "2,[4 5 6]\n",
      "3,[7 8]\n",
      "4,[ 9 20]\n"
     ]
    }
   ],
   "source": [
    "# **Q17.5:** Split an array into equal chunks using `np.array_split()`\n",
    "data=np.array([1,2,3,4,5,6,7,8,9,20])\n",
    "split_array=np.array_split(data,4)\n",
    "for i ,part in enumerate(split_array):\n",
    "    print(f\"{i+1},{part}\")\n"
   ]
  },
  {
   "cell_type": "code",
   "execution_count": null,
   "id": "4ac7aa48",
   "metadata": {},
   "outputs": [],
   "source": [
    "### Question 18: Array Repetition and Tiling\n"
   ]
  },
  {
   "cell_type": "code",
   "execution_count": 35,
   "id": "5c5b6738",
   "metadata": {},
   "outputs": [
    {
     "name": "stdout",
     "output_type": "stream",
     "text": [
      "[1 2 3 4 5]\n",
      "[1 1 1 2 2 2 3 3 3 4 4 4 5 5 5]\n"
     ]
    }
   ],
   "source": [
    "# **Q18.1:** Repeat each element of an array 3 times using `np.repeat()`\n",
    "data=np.array([1,2,3,4,5])\n",
    "repeat=np.repeat(data,3)\n",
    "print(data)\n",
    "print(repeat)\n"
   ]
  },
  {
   "cell_type": "code",
   "execution_count": 36,
   "id": "6ada2718",
   "metadata": {},
   "outputs": [
    {
     "name": "stdout",
     "output_type": "stream",
     "text": [
      "[1 2 3 4 5]\n",
      "[1 2 3 4 5 1 2 3 4 5]\n"
     ]
    }
   ],
   "source": [
    "# **Q18.2:** Repeat an entire array 2 times using `np.tile()`\n",
    "repeat_2_times=np.tile(data,2)\n",
    "print(data)\n",
    "print(repeat_2_times)"
   ]
  },
  {
   "cell_type": "code",
   "execution_count": 40,
   "id": "6abf93cb",
   "metadata": {},
   "outputs": [
    {
     "name": "stdout",
     "output_type": "stream",
     "text": [
      "[[4 8]\n",
      " [7 4]]\n",
      "[[4 8 4 8]\n",
      " [7 4 7 4]\n",
      " [4 8 4 8]\n",
      " [7 4 7 4]]\n"
     ]
    }
   ],
   "source": [
    "# **Q18.3:** Repeat a 2D array using `np.tile()`\n",
    "array_2D=np.random.randint(1,10,(2,2))\n",
    "data=np.tile(array_2D,(2,2))\n",
    "print(array_2D)\n",
    "print(data)"
   ]
  },
  {
   "cell_type": "code",
   "execution_count": 46,
   "id": "037d14fb",
   "metadata": {},
   "outputs": [
    {
     "name": "stdout",
     "output_type": "stream",
     "text": [
      "[1 0]\n",
      "[[1 0 1 0 1 0 1 0 1 0 1 0]\n",
      " [1 0 1 0 1 0 1 0 1 0 1 0]\n",
      " [1 0 1 0 1 0 1 0 1 0 1 0]\n",
      " [1 0 1 0 1 0 1 0 1 0 1 0]\n",
      " [1 0 1 0 1 0 1 0 1 0 1 0]\n",
      " [1 0 1 0 1 0 1 0 1 0 1 0]]\n"
     ]
    }
   ],
   "source": [
    "# **Q18.4:** Create a pattern using `np.tile()`\n",
    "arr=np.array([1,0])\n",
    "arr_pattern=np.tile(arr,(6,6))\n",
    "print(arr)\n",
    "print(arr_pattern)\n"
   ]
  },
  {
   "cell_type": "code",
   "execution_count": 54,
   "id": "e3fdc219",
   "metadata": {},
   "outputs": [
    {
     "name": "stdout",
     "output_type": "stream",
     "text": [
      "[1 0]\n",
      "[2, 3]\n",
      "[1 1 0 0 0]\n"
     ]
    }
   ],
   "source": [
    "# **Q18.5:** Repeat elements with different counts using `np.repeat()`\n",
    "b=[2,3]\n",
    "repeat=np.repeat(arr,b)\n",
    "print(arr)\n",
    "print(b)\n",
    "print(repeat)"
   ]
  },
  {
   "cell_type": "code",
   "execution_count": null,
   "id": "feb53715",
   "metadata": {},
   "outputs": [],
   "source": [
    "# ## Question 19: Array Comparison and Logical Operations\n"
   ]
  },
  {
   "cell_type": "code",
   "execution_count": 57,
   "id": "e65ab35a",
   "metadata": {},
   "outputs": [
    {
     "name": "stdout",
     "output_type": "stream",
     "text": [
      "True\n",
      "False\n"
     ]
    }
   ],
   "source": [
    "# **Q19.1:** Compare two arrays for equality using `np.array_equal()`\n",
    "a=np.array([1,2,3,4,5])\n",
    "b=np.array([1,2,3,4,5])\n",
    "compare=np.array_equal(a,b)\n",
    "print(compare)\n",
    "#equal\n",
    "a=np.array([1,2,3,4,5])\n",
    "b=np.array([6,7,8,1,2])\n",
    "compare=np.array_equal(a,b)\n",
    "print(compare)\n",
    "#!equal\n"
   ]
  },
  {
   "cell_type": "code",
   "execution_count": null,
   "id": "c7585484",
   "metadata": {},
   "outputs": [
    {
     "name": "stdout",
     "output_type": "stream",
     "text": [
      "[1 2 3 4 5 6]\n",
      "[ 5  6  7  8  9 10]\n",
      "True\n"
     ]
    }
   ],
   "source": [
    "\n",
    "# **Q19.2:** Check if arrays are close using `np.allclose()`\n",
    "a=np.array([1,2,3,4,5,6])\n",
    "b=np.array([5,6,7,8,9,10])\n",
    "close=np.allclose(a,b,atol=4) # will check the differenc b/t a and b is same\n",
    "print(a)\n",
    "print(b)\n",
    "print(close)"
   ]
  },
  {
   "cell_type": "code",
   "execution_count": 62,
   "id": "cd07e3cf",
   "metadata": {},
   "outputs": [
    {
     "name": "stdout",
     "output_type": "stream",
     "text": [
      "[1 2 3 4 5 6]\n",
      "[ True  True  True  True  True False]\n"
     ]
    }
   ],
   "source": [
    "# **Q19.3:** Apply logical AND operation between arrays\n",
    "AND_operation=np.logical_and(a>0 , a<6)\n",
    "print(a)\n",
    "print(AND_operation)"
   ]
  },
  {
   "cell_type": "code",
   "execution_count": 63,
   "id": "5d917db3",
   "metadata": {},
   "outputs": [
    {
     "name": "stdout",
     "output_type": "stream",
     "text": [
      "[1 2 3 4 5 6]\n",
      "[False  True False False False  True]\n"
     ]
    }
   ],
   "source": [
    "# **Q19.4:** Apply logical OR operation between arrays\n",
    "OR_operation=np.logical_or(a==2,a==6)\n",
    "print(a)\n",
    "print(OR_operation)"
   ]
  },
  {
   "cell_type": "code",
   "execution_count": 66,
   "id": "8448f520",
   "metadata": {},
   "outputs": [
    {
     "name": "stdout",
     "output_type": "stream",
     "text": [
      "[1 2 3 4 5 6]\n",
      "[ True False False False False False]\n"
     ]
    }
   ],
   "source": [
    "# **Q19.5:** Apply logical NOT operation to an array\n",
    "NOT_operation=np.logical_not(a!=1)\n",
    "print(a)\n",
    "print(NOT_operation)"
   ]
  },
  {
   "cell_type": "code",
   "execution_count": null,
   "id": "789a445c",
   "metadata": {},
   "outputs": [],
   "source": [
    "### Question 20: Array Set Operations\n"
   ]
  },
  {
   "cell_type": "code",
   "execution_count": 71,
   "id": "79afeabf",
   "metadata": {},
   "outputs": [
    {
     "name": "stdout",
     "output_type": "stream",
     "text": [
      "[1 2 3 4 7]\n"
     ]
    }
   ],
   "source": [
    "# **Q20.1:** Find unique elements in an array using `np.unique()`\n",
    "\n",
    "\n",
    "b=np.array([1,1,2,2,3,3,4,4,4,4,4,7,7,7])\n",
    "arr2=np.unique(b)\n",
    "print(arr2)\n"
   ]
  },
  {
   "cell_type": "code",
   "execution_count": null,
   "id": "64208b1a",
   "metadata": {},
   "outputs": [
    {
     "name": "stdout",
     "output_type": "stream",
     "text": [
      "[1 2 3 5]\n"
     ]
    }
   ],
   "source": [
    "# **Q20.2:** Find the intersection of two arrays using `np.intersect1d()`\n",
    "a=np.array([1,2,3,4,5])\n",
    "b=np.array([1,3,2,5,7])     #common elements\n",
    "intersection=np.intersect1d(a,b)\n",
    "print(intersection)"
   ]
  },
  {
   "cell_type": "code",
   "execution_count": null,
   "id": "a0b49601",
   "metadata": {},
   "outputs": [
    {
     "name": "stdout",
     "output_type": "stream",
     "text": [
      "[1 2 3 4 5]\n",
      "[1 3 2 5 7]\n",
      "[1 2 3 4 5 7]\n"
     ]
    }
   ],
   "source": [
    "# **Q20.3:** Find the union of two arrays using `np.union1d()`\n",
    "union=np.union1d(a,b)\n",
    "print(a)\n",
    "print(b)\n",
    "print(union) #will take the two set and give unique elements "
   ]
  },
  {
   "cell_type": "code",
   "execution_count": null,
   "id": "f898d839",
   "metadata": {},
   "outputs": [
    {
     "name": "stdout",
     "output_type": "stream",
     "text": [
      "[1 2 3 4 5]\n",
      "[1 3 2 5 7]\n",
      "[4]\n"
     ]
    }
   ],
   "source": [
    "# **Q20.4:** Find elements in first array but not in second using `np.setdiff1d()`\n",
    "elements=np.setdiff1d(a,b)\n",
    "print(a)\n",
    "print(b)\n",
    "print(elements) # it will compare both and will give a element which is present in 'a' but not in 'b"
   ]
  },
  {
   "cell_type": "code",
   "execution_count": null,
   "id": "a7e8e2f2",
   "metadata": {},
   "outputs": [
    {
     "name": "stdout",
     "output_type": "stream",
     "text": [
      "[1 2 3 4 5]\n",
      "[1 3 2 5 7]\n",
      "[4 7]\n"
     ]
    }
   ],
   "source": [
    "# **Q20.5:** Find the symmetric difference between two arrays using `np.setxor1d()`\n",
    "symmtric_diff=np.setxor1d(a,b)\n",
    "print(a)\n",
    "print(b)\n",
    "print(symmtric_diff) # which are not common in both the set "
   ]
  },
  {
   "cell_type": "code",
   "execution_count": null,
   "id": "cce4a005",
   "metadata": {},
   "outputs": [],
   "source": []
  },
  {
   "cell_type": "code",
   "execution_count": null,
   "id": "d6927770",
   "metadata": {},
   "outputs": [],
   "source": []
  },
  {
   "cell_type": "code",
   "execution_count": null,
   "id": "155f91de",
   "metadata": {},
   "outputs": [],
   "source": []
  },
  {
   "cell_type": "code",
   "execution_count": null,
   "id": "5a431fc9",
   "metadata": {},
   "outputs": [],
   "source": []
  },
  {
   "cell_type": "code",
   "execution_count": null,
   "id": "36c7c63e",
   "metadata": {},
   "outputs": [],
   "source": []
  },
  {
   "cell_type": "code",
   "execution_count": null,
   "id": "6619a8d3",
   "metadata": {},
   "outputs": [],
   "source": []
  },
  {
   "cell_type": "code",
   "execution_count": null,
   "id": "e8261895",
   "metadata": {},
   "outputs": [],
   "source": []
  },
  {
   "cell_type": "code",
   "execution_count": null,
   "id": "8d186c76",
   "metadata": {},
   "outputs": [],
   "source": []
  },
  {
   "cell_type": "code",
   "execution_count": null,
   "id": "9b05452c",
   "metadata": {},
   "outputs": [],
   "source": []
  },
  {
   "cell_type": "code",
   "execution_count": null,
   "id": "0565f261",
   "metadata": {},
   "outputs": [],
   "source": []
  },
  {
   "cell_type": "code",
   "execution_count": null,
   "id": "da8dfba8",
   "metadata": {},
   "outputs": [],
   "source": []
  },
  {
   "cell_type": "code",
   "execution_count": null,
   "id": "777b5a60",
   "metadata": {},
   "outputs": [],
   "source": []
  },
  {
   "cell_type": "code",
   "execution_count": null,
   "id": "3d0f40f7",
   "metadata": {},
   "outputs": [],
   "source": []
  },
  {
   "cell_type": "code",
   "execution_count": null,
   "id": "c6711ba8",
   "metadata": {},
   "outputs": [],
   "source": []
  },
  {
   "cell_type": "code",
   "execution_count": null,
   "id": "e1f7a71f",
   "metadata": {},
   "outputs": [],
   "source": []
  },
  {
   "cell_type": "code",
   "execution_count": null,
   "id": "f4329b08",
   "metadata": {},
   "outputs": [],
   "source": []
  },
  {
   "cell_type": "code",
   "execution_count": null,
   "id": "5b1db341",
   "metadata": {},
   "outputs": [],
   "source": []
  },
  {
   "cell_type": "code",
   "execution_count": null,
   "id": "f59eaee1",
   "metadata": {},
   "outputs": [],
   "source": []
  },
  {
   "cell_type": "code",
   "execution_count": null,
   "id": "43f3333c",
   "metadata": {},
   "outputs": [],
   "source": []
  }
 ],
 "metadata": {
  "kernelspec": {
   "display_name": "Python 3",
   "language": "python",
   "name": "python3"
  },
  "language_info": {
   "codemirror_mode": {
    "name": "ipython",
    "version": 3
   },
   "file_extension": ".py",
   "mimetype": "text/x-python",
   "name": "python",
   "nbconvert_exporter": "python",
   "pygments_lexer": "ipython3",
   "version": "3.13.5"
  }
 },
 "nbformat": 4,
 "nbformat_minor": 5
}
