{
  "nbformat": 4,
  "nbformat_minor": 0,
  "metadata": {
    "colab": {
      "provenance": [],
      "authorship_tag": "ABX9TyNs0pZUcjWlbr0hZEQSoWVP",
      "include_colab_link": true
    },
    "kernelspec": {
      "name": "python3",
      "display_name": "Python 3"
    },
    "language_info": {
      "name": "python"
    }
  },
  "cells": [
    {
      "cell_type": "markdown",
      "metadata": {
        "id": "view-in-github",
        "colab_type": "text"
      },
      "source": [
        "<a href=\"https://colab.research.google.com/github/gaganreddy7977/python-assignment/blob/main/EXCEPTION_HANDLING.ipynb\" target=\"_parent\"><img src=\"https://colab.research.google.com/assets/colab-badge.svg\" alt=\"Open In Colab\"/></a>"
      ]
    },
    {
      "cell_type": "code",
      "execution_count": 1,
      "metadata": {
        "colab": {
          "base_uri": "https://localhost:8080/"
        },
        "id": "Fgbrxsh9XAWC",
        "outputId": "8294c56b-8a86-4720-ab18-d0d868fd55e0"
      },
      "outputs": [
        {
          "output_type": "stream",
          "name": "stdout",
          "text": [
            "# 5) Write a program that handles multiple exceptions (ZeroDivisionError, ValueError).\n",
            "enter a number:0\n",
            "Erroe: division by zero\n"
          ]
        }
      ],
      "source": [
        "print('# 5) Write a program that handles multiple exceptions (ZeroDivisionError, ValueError).')\n",
        "try:\n",
        "    a=10\n",
        "    b=int(input('enter a number:'))\n",
        "    result=a/b\n",
        "    print('result is :',result)\n",
        "except ZeroDivisionError as e:\n",
        "    print('Erroe:',e)\n",
        "except ValueError as e:\n",
        "    print('Error:',e)\n",
        "\n",
        "\n",
        "\n"
      ]
    }
  ]
}