{
  "nbformat": 4,
  "nbformat_minor": 0,
  "metadata": {
    "colab": {
      "provenance": [],
      "authorship_tag": "ABX9TyOyII/9rzhaf+jW3CGVgaYo",
      "include_colab_link": true
    },
    "kernelspec": {
      "name": "python3",
      "display_name": "Python 3"
    },
    "language_info": {
      "name": "python"
    }
  },
  "cells": [
    {
      "cell_type": "markdown",
      "metadata": {
        "id": "view-in-github",
        "colab_type": "text"
      },
      "source": [
        "<a href=\"https://colab.research.google.com/github/gaganreddy7977/python-assignment/blob/main/pandas_Assignment.ipynb\" target=\"_parent\"><img src=\"https://colab.research.google.com/assets/colab-badge.svg\" alt=\"Open In Colab\"/></a>"
      ]
    },
    {
      "cell_type": "code",
      "execution_count": 2,
      "metadata": {
        "id": "hQUbcBXPN8pX"
      },
      "outputs": [],
      "source": [
        "import pandas as pd\n"
      ]
    },
    {
      "cell_type": "code",
      "source": [
        "#------------------loading the data set---------------------\n",
        "data_set=pd.read_excel('Sample - Superstore.xls')"
      ],
      "metadata": {
        "id": "c4YuQ-m1OURV"
      },
      "execution_count": 6,
      "outputs": []
    },
    {
      "cell_type": "code",
      "source": [
        "print('Question 1: Find total number of orders in the dataset.')\n",
        "data_set['Order ID'].unique()\n"
      ],
      "metadata": {
        "colab": {
          "base_uri": "https://localhost:8080/"
        },
        "id": "Ps4KwrJROUNw",
        "outputId": "efc8e4eb-14c4-4825-c664-3e7c015d247e"
      },
      "execution_count": 7,
      "outputs": [
        {
          "output_type": "stream",
          "name": "stdout",
          "text": [
            "Question 1: Find total number of orders in the dataset.\n"
          ]
        },
        {
          "output_type": "execute_result",
          "data": {
            "text/plain": [
              "array(['CA-2016-152156', 'CA-2016-138688', 'US-2015-108966', ...,\n",
              "       'CA-2014-110422', 'CA-2017-121258', 'CA-2017-119914'], dtype=object)"
            ]
          },
          "metadata": {},
          "execution_count": 7
        }
      ]
    },
    {
      "cell_type": "code",
      "source": [
        "print('Question 2: Find the earliest order date.')\n",
        "data_set['Order Date'].min()\n",
        "\n"
      ],
      "metadata": {
        "colab": {
          "base_uri": "https://localhost:8080/"
        },
        "id": "U4_n8TinOUK6",
        "outputId": "e809bc83-0651-413e-c435-41d9ede6d424"
      },
      "execution_count": null,
      "outputs": [
        {
          "output_type": "stream",
          "name": "stdout",
          "text": [
            "Question 2: Find the earliest order date.\n"
          ]
        },
        {
          "output_type": "execute_result",
          "data": {
            "text/plain": [
              "Timestamp('2014-01-03 00:00:00')"
            ]
          },
          "metadata": {},
          "execution_count": 18
        }
      ]
    },
    {
      "cell_type": "code",
      "source": [
        "print('Question 3: Find the latest order date.')\n",
        "data_set['Order Date'].max()\n",
        "\n"
      ],
      "metadata": {
        "colab": {
          "base_uri": "https://localhost:8080/"
        },
        "id": "KbPtbrOJOUIM",
        "outputId": "7500e907-1e6d-48e9-9e85-123eca6afe35"
      },
      "execution_count": null,
      "outputs": [
        {
          "output_type": "stream",
          "name": "stdout",
          "text": [
            "Question 3: Find the latest order date.\n"
          ]
        },
        {
          "output_type": "execute_result",
          "data": {
            "text/plain": [
              "Timestamp('2017-12-30 00:00:00')"
            ]
          },
          "metadata": {},
          "execution_count": 17
        }
      ]
    },
    {
      "cell_type": "code",
      "source": [
        "print(' Question 4: Find the total number of unique customers.')\n",
        "number=data_set['Customer Name'].unique()\n",
        "unique_customers=len(number)\n",
        "unique_customers\n",
        "\n"
      ],
      "metadata": {
        "colab": {
          "base_uri": "https://localhost:8080/"
        },
        "id": "czTtr9uaOUFk",
        "outputId": "eaae9612-2752-45f0-b54f-7b8ea1f52be5"
      },
      "execution_count": null,
      "outputs": [
        {
          "output_type": "stream",
          "name": "stdout",
          "text": [
            " Question 4: Find the total number of unique customers.\n"
          ]
        },
        {
          "output_type": "execute_result",
          "data": {
            "text/plain": [
              "793"
            ]
          },
          "metadata": {},
          "execution_count": 20
        }
      ]
    },
    {
      "cell_type": "code",
      "source": [
        "print('Question 5: Find the total number of unique products sold.')\n",
        "pd.Series(data_set['Product ID'].unique())\n"
      ],
      "metadata": {
        "colab": {
          "base_uri": "https://localhost:8080/",
          "height": 475
        },
        "id": "FAKd5MfKOUCu",
        "outputId": "072352f8-142b-4e6f-832c-7781c2b75d44"
      },
      "execution_count": null,
      "outputs": [
        {
          "output_type": "stream",
          "name": "stdout",
          "text": [
            "Question 5: Find the total number of unique products sold.\n"
          ]
        },
        {
          "output_type": "execute_result",
          "data": {
            "text/plain": [
              "0       FUR-BO-10001798\n",
              "1       FUR-CH-10000454\n",
              "2       OFF-LA-10000240\n",
              "3       FUR-TA-10000577\n",
              "4       OFF-ST-10000760\n",
              "             ...       \n",
              "1857    TEC-PH-10002817\n",
              "1858    TEC-MA-10003589\n",
              "1859    OFF-AP-10003099\n",
              "1860    TEC-PH-10002645\n",
              "1861    OFF-ST-10001627\n",
              "Length: 1862, dtype: object"
            ],
            "text/html": [
              "<div>\n",
              "<style scoped>\n",
              "    .dataframe tbody tr th:only-of-type {\n",
              "        vertical-align: middle;\n",
              "    }\n",
              "\n",
              "    .dataframe tbody tr th {\n",
              "        vertical-align: top;\n",
              "    }\n",
              "\n",
              "    .dataframe thead th {\n",
              "        text-align: right;\n",
              "    }\n",
              "</style>\n",
              "<table border=\"1\" class=\"dataframe\">\n",
              "  <thead>\n",
              "    <tr style=\"text-align: right;\">\n",
              "      <th></th>\n",
              "      <th>0</th>\n",
              "    </tr>\n",
              "  </thead>\n",
              "  <tbody>\n",
              "    <tr>\n",
              "      <th>0</th>\n",
              "      <td>FUR-BO-10001798</td>\n",
              "    </tr>\n",
              "    <tr>\n",
              "      <th>1</th>\n",
              "      <td>FUR-CH-10000454</td>\n",
              "    </tr>\n",
              "    <tr>\n",
              "      <th>2</th>\n",
              "      <td>OFF-LA-10000240</td>\n",
              "    </tr>\n",
              "    <tr>\n",
              "      <th>3</th>\n",
              "      <td>FUR-TA-10000577</td>\n",
              "    </tr>\n",
              "    <tr>\n",
              "      <th>4</th>\n",
              "      <td>OFF-ST-10000760</td>\n",
              "    </tr>\n",
              "    <tr>\n",
              "      <th>...</th>\n",
              "      <td>...</td>\n",
              "    </tr>\n",
              "    <tr>\n",
              "      <th>1857</th>\n",
              "      <td>TEC-PH-10002817</td>\n",
              "    </tr>\n",
              "    <tr>\n",
              "      <th>1858</th>\n",
              "      <td>TEC-MA-10003589</td>\n",
              "    </tr>\n",
              "    <tr>\n",
              "      <th>1859</th>\n",
              "      <td>OFF-AP-10003099</td>\n",
              "    </tr>\n",
              "    <tr>\n",
              "      <th>1860</th>\n",
              "      <td>TEC-PH-10002645</td>\n",
              "    </tr>\n",
              "    <tr>\n",
              "      <th>1861</th>\n",
              "      <td>OFF-ST-10001627</td>\n",
              "    </tr>\n",
              "  </tbody>\n",
              "</table>\n",
              "<p>1862 rows × 1 columns</p>\n",
              "</div><br><label><b>dtype:</b> object</label>"
            ]
          },
          "metadata": {},
          "execution_count": 33
        }
      ]
    },
    {
      "cell_type": "markdown",
      "source": [],
      "metadata": {
        "id": "3QC5cBKSSSNC"
      }
    },
    {
      "cell_type": "code",
      "source": [
        "print('Question 6: Find the total number of unique categories.')\n",
        "pd.Series(data_set['Category'].unique())\n"
      ],
      "metadata": {
        "colab": {
          "base_uri": "https://localhost:8080/",
          "height": 195
        },
        "id": "WzXQF7GhOUAG",
        "outputId": "565a6dd4-50d3-4a43-9826-4d35f263e9d6"
      },
      "execution_count": null,
      "outputs": [
        {
          "output_type": "stream",
          "name": "stdout",
          "text": [
            "Question 6: Find the total number of unique categories.\n"
          ]
        },
        {
          "output_type": "execute_result",
          "data": {
            "text/plain": [
              "0          Furniture\n",
              "1    Office Supplies\n",
              "2         Technology\n",
              "dtype: object"
            ],
            "text/html": [
              "<div>\n",
              "<style scoped>\n",
              "    .dataframe tbody tr th:only-of-type {\n",
              "        vertical-align: middle;\n",
              "    }\n",
              "\n",
              "    .dataframe tbody tr th {\n",
              "        vertical-align: top;\n",
              "    }\n",
              "\n",
              "    .dataframe thead th {\n",
              "        text-align: right;\n",
              "    }\n",
              "</style>\n",
              "<table border=\"1\" class=\"dataframe\">\n",
              "  <thead>\n",
              "    <tr style=\"text-align: right;\">\n",
              "      <th></th>\n",
              "      <th>0</th>\n",
              "    </tr>\n",
              "  </thead>\n",
              "  <tbody>\n",
              "    <tr>\n",
              "      <th>0</th>\n",
              "      <td>Furniture</td>\n",
              "    </tr>\n",
              "    <tr>\n",
              "      <th>1</th>\n",
              "      <td>Office Supplies</td>\n",
              "    </tr>\n",
              "    <tr>\n",
              "      <th>2</th>\n",
              "      <td>Technology</td>\n",
              "    </tr>\n",
              "  </tbody>\n",
              "</table>\n",
              "</div><br><label><b>dtype:</b> object</label>"
            ]
          },
          "metadata": {},
          "execution_count": 31
        }
      ]
    },
    {
      "cell_type": "code",
      "source": [
        "print('Question 7: Find the total number of unique sub-categories.')\n",
        "pd.Series(data_set['Sub-Category'].unique)"
      ],
      "metadata": {
        "colab": {
          "base_uri": "https://localhost:8080/",
          "height": 132
        },
        "id": "a2tP_momOT9Y",
        "outputId": "ca40949b-2feb-40f6-a41c-e337be7219c7"
      },
      "execution_count": null,
      "outputs": [
        {
          "output_type": "stream",
          "name": "stdout",
          "text": [
            "Question 7: Find the total number of unique sub-categories.\n"
          ]
        },
        {
          "output_type": "execute_result",
          "data": {
            "text/plain": [
              "0    <bound method Series.unique of 0         Bookc...\n",
              "dtype: object"
            ],
            "text/html": [
              "<div>\n",
              "<style scoped>\n",
              "    .dataframe tbody tr th:only-of-type {\n",
              "        vertical-align: middle;\n",
              "    }\n",
              "\n",
              "    .dataframe tbody tr th {\n",
              "        vertical-align: top;\n",
              "    }\n",
              "\n",
              "    .dataframe thead th {\n",
              "        text-align: right;\n",
              "    }\n",
              "</style>\n",
              "<table border=\"1\" class=\"dataframe\">\n",
              "  <thead>\n",
              "    <tr style=\"text-align: right;\">\n",
              "      <th></th>\n",
              "      <th>0</th>\n",
              "    </tr>\n",
              "  </thead>\n",
              "  <tbody>\n",
              "    <tr>\n",
              "      <th>0</th>\n",
              "      <td>&lt;bound method Series.unique of 0         Bookc...</td>\n",
              "    </tr>\n",
              "  </tbody>\n",
              "</table>\n",
              "</div><br><label><b>dtype:</b> object</label>"
            ]
          },
          "metadata": {},
          "execution_count": 32
        }
      ]
    },
    {
      "cell_type": "code",
      "source": [
        "print('Question 8: Count number of orders in each region.')\n",
        "# south_total=0\n",
        "# west_total=0\n",
        "# East_total=0\n",
        "# center_total=0\n",
        "# for i in data_set['Region']:\n",
        "#   if i=='South':\n",
        "#     south_total=south_total+1\n",
        "#   elif i=='West':\n",
        "#     west_total=west_total+1\n",
        "#   elif i=='Central':\n",
        "#    center_total=center_total+1\n",
        "#   elif i=='East':\n",
        "#     East_total=East_total+1\n",
        "# print(south_total)\n",
        "# print(west_total)\n",
        "# print(East_total)\n",
        "# print(center_total)\n",
        "\n",
        "data_set['Region'].value_counts()\n",
        "\n",
        "\n",
        "\n",
        "\n",
        "\n",
        "\n"
      ],
      "metadata": {
        "colab": {
          "base_uri": "https://localhost:8080/",
          "height": 258
        },
        "id": "rMSJeGCdOT6p",
        "outputId": "f0929c2f-fdd5-416b-92aa-7704234e5aaf"
      },
      "execution_count": null,
      "outputs": [
        {
          "output_type": "stream",
          "name": "stdout",
          "text": [
            "Question 8: Count number of orders in each region.\n"
          ]
        },
        {
          "output_type": "execute_result",
          "data": {
            "text/plain": [
              "Region\n",
              "West       3203\n",
              "East       2848\n",
              "Central    2323\n",
              "South      1620\n",
              "Name: count, dtype: int64"
            ],
            "text/html": [
              "<div>\n",
              "<style scoped>\n",
              "    .dataframe tbody tr th:only-of-type {\n",
              "        vertical-align: middle;\n",
              "    }\n",
              "\n",
              "    .dataframe tbody tr th {\n",
              "        vertical-align: top;\n",
              "    }\n",
              "\n",
              "    .dataframe thead th {\n",
              "        text-align: right;\n",
              "    }\n",
              "</style>\n",
              "<table border=\"1\" class=\"dataframe\">\n",
              "  <thead>\n",
              "    <tr style=\"text-align: right;\">\n",
              "      <th></th>\n",
              "      <th>count</th>\n",
              "    </tr>\n",
              "    <tr>\n",
              "      <th>Region</th>\n",
              "      <th></th>\n",
              "    </tr>\n",
              "  </thead>\n",
              "  <tbody>\n",
              "    <tr>\n",
              "      <th>West</th>\n",
              "      <td>3203</td>\n",
              "    </tr>\n",
              "    <tr>\n",
              "      <th>East</th>\n",
              "      <td>2848</td>\n",
              "    </tr>\n",
              "    <tr>\n",
              "      <th>Central</th>\n",
              "      <td>2323</td>\n",
              "    </tr>\n",
              "    <tr>\n",
              "      <th>South</th>\n",
              "      <td>1620</td>\n",
              "    </tr>\n",
              "  </tbody>\n",
              "</table>\n",
              "</div><br><label><b>dtype:</b> int64</label>"
            ]
          },
          "metadata": {},
          "execution_count": 42
        }
      ]
    },
    {
      "cell_type": "code",
      "source": [
        "print('Question 9: Count number of orders by state.')\n",
        "data_set['State'].value_counts()"
      ],
      "metadata": {
        "colab": {
          "base_uri": "https://localhost:8080/",
          "height": 1000
        },
        "id": "VbzAxA1lOT4B",
        "outputId": "4c9ddc06-c5fe-4cfc-bdd1-2b32eea52110"
      },
      "execution_count": null,
      "outputs": [
        {
          "output_type": "stream",
          "name": "stdout",
          "text": [
            "Question 9: Count number of orders by state.\n"
          ]
        },
        {
          "output_type": "execute_result",
          "data": {
            "text/plain": [
              "State\n",
              "California              2001\n",
              "New York                1128\n",
              "Texas                    985\n",
              "Pennsylvania             587\n",
              "Washington               506\n",
              "Illinois                 492\n",
              "Ohio                     469\n",
              "Florida                  383\n",
              "Michigan                 255\n",
              "North Carolina           249\n",
              "Arizona                  224\n",
              "Virginia                 224\n",
              "Georgia                  184\n",
              "Tennessee                183\n",
              "Colorado                 182\n",
              "Indiana                  149\n",
              "Kentucky                 139\n",
              "Massachusetts            135\n",
              "New Jersey               130\n",
              "Oregon                   124\n",
              "Wisconsin                110\n",
              "Maryland                 105\n",
              "Delaware                  96\n",
              "Minnesota                 89\n",
              "Connecticut               82\n",
              "Missouri                  66\n",
              "Oklahoma                  66\n",
              "Alabama                   61\n",
              "Arkansas                  60\n",
              "Rhode Island              56\n",
              "Utah                      53\n",
              "Mississippi               53\n",
              "South Carolina            42\n",
              "Louisiana                 42\n",
              "Nevada                    39\n",
              "Nebraska                  38\n",
              "New Mexico                37\n",
              "Iowa                      30\n",
              "New Hampshire             27\n",
              "Kansas                    24\n",
              "Idaho                     21\n",
              "Montana                   15\n",
              "South Dakota              12\n",
              "Vermont                   11\n",
              "District of Columbia      10\n",
              "Maine                      8\n",
              "North Dakota               7\n",
              "West Virginia              4\n",
              "Wyoming                    1\n",
              "Name: count, dtype: int64"
            ],
            "text/html": [
              "<div>\n",
              "<style scoped>\n",
              "    .dataframe tbody tr th:only-of-type {\n",
              "        vertical-align: middle;\n",
              "    }\n",
              "\n",
              "    .dataframe tbody tr th {\n",
              "        vertical-align: top;\n",
              "    }\n",
              "\n",
              "    .dataframe thead th {\n",
              "        text-align: right;\n",
              "    }\n",
              "</style>\n",
              "<table border=\"1\" class=\"dataframe\">\n",
              "  <thead>\n",
              "    <tr style=\"text-align: right;\">\n",
              "      <th></th>\n",
              "      <th>count</th>\n",
              "    </tr>\n",
              "    <tr>\n",
              "      <th>State</th>\n",
              "      <th></th>\n",
              "    </tr>\n",
              "  </thead>\n",
              "  <tbody>\n",
              "    <tr>\n",
              "      <th>California</th>\n",
              "      <td>2001</td>\n",
              "    </tr>\n",
              "    <tr>\n",
              "      <th>New York</th>\n",
              "      <td>1128</td>\n",
              "    </tr>\n",
              "    <tr>\n",
              "      <th>Texas</th>\n",
              "      <td>985</td>\n",
              "    </tr>\n",
              "    <tr>\n",
              "      <th>Pennsylvania</th>\n",
              "      <td>587</td>\n",
              "    </tr>\n",
              "    <tr>\n",
              "      <th>Washington</th>\n",
              "      <td>506</td>\n",
              "    </tr>\n",
              "    <tr>\n",
              "      <th>Illinois</th>\n",
              "      <td>492</td>\n",
              "    </tr>\n",
              "    <tr>\n",
              "      <th>Ohio</th>\n",
              "      <td>469</td>\n",
              "    </tr>\n",
              "    <tr>\n",
              "      <th>Florida</th>\n",
              "      <td>383</td>\n",
              "    </tr>\n",
              "    <tr>\n",
              "      <th>Michigan</th>\n",
              "      <td>255</td>\n",
              "    </tr>\n",
              "    <tr>\n",
              "      <th>North Carolina</th>\n",
              "      <td>249</td>\n",
              "    </tr>\n",
              "    <tr>\n",
              "      <th>Arizona</th>\n",
              "      <td>224</td>\n",
              "    </tr>\n",
              "    <tr>\n",
              "      <th>Virginia</th>\n",
              "      <td>224</td>\n",
              "    </tr>\n",
              "    <tr>\n",
              "      <th>Georgia</th>\n",
              "      <td>184</td>\n",
              "    </tr>\n",
              "    <tr>\n",
              "      <th>Tennessee</th>\n",
              "      <td>183</td>\n",
              "    </tr>\n",
              "    <tr>\n",
              "      <th>Colorado</th>\n",
              "      <td>182</td>\n",
              "    </tr>\n",
              "    <tr>\n",
              "      <th>Indiana</th>\n",
              "      <td>149</td>\n",
              "    </tr>\n",
              "    <tr>\n",
              "      <th>Kentucky</th>\n",
              "      <td>139</td>\n",
              "    </tr>\n",
              "    <tr>\n",
              "      <th>Massachusetts</th>\n",
              "      <td>135</td>\n",
              "    </tr>\n",
              "    <tr>\n",
              "      <th>New Jersey</th>\n",
              "      <td>130</td>\n",
              "    </tr>\n",
              "    <tr>\n",
              "      <th>Oregon</th>\n",
              "      <td>124</td>\n",
              "    </tr>\n",
              "    <tr>\n",
              "      <th>Wisconsin</th>\n",
              "      <td>110</td>\n",
              "    </tr>\n",
              "    <tr>\n",
              "      <th>Maryland</th>\n",
              "      <td>105</td>\n",
              "    </tr>\n",
              "    <tr>\n",
              "      <th>Delaware</th>\n",
              "      <td>96</td>\n",
              "    </tr>\n",
              "    <tr>\n",
              "      <th>Minnesota</th>\n",
              "      <td>89</td>\n",
              "    </tr>\n",
              "    <tr>\n",
              "      <th>Connecticut</th>\n",
              "      <td>82</td>\n",
              "    </tr>\n",
              "    <tr>\n",
              "      <th>Missouri</th>\n",
              "      <td>66</td>\n",
              "    </tr>\n",
              "    <tr>\n",
              "      <th>Oklahoma</th>\n",
              "      <td>66</td>\n",
              "    </tr>\n",
              "    <tr>\n",
              "      <th>Alabama</th>\n",
              "      <td>61</td>\n",
              "    </tr>\n",
              "    <tr>\n",
              "      <th>Arkansas</th>\n",
              "      <td>60</td>\n",
              "    </tr>\n",
              "    <tr>\n",
              "      <th>Rhode Island</th>\n",
              "      <td>56</td>\n",
              "    </tr>\n",
              "    <tr>\n",
              "      <th>Utah</th>\n",
              "      <td>53</td>\n",
              "    </tr>\n",
              "    <tr>\n",
              "      <th>Mississippi</th>\n",
              "      <td>53</td>\n",
              "    </tr>\n",
              "    <tr>\n",
              "      <th>South Carolina</th>\n",
              "      <td>42</td>\n",
              "    </tr>\n",
              "    <tr>\n",
              "      <th>Louisiana</th>\n",
              "      <td>42</td>\n",
              "    </tr>\n",
              "    <tr>\n",
              "      <th>Nevada</th>\n",
              "      <td>39</td>\n",
              "    </tr>\n",
              "    <tr>\n",
              "      <th>Nebraska</th>\n",
              "      <td>38</td>\n",
              "    </tr>\n",
              "    <tr>\n",
              "      <th>New Mexico</th>\n",
              "      <td>37</td>\n",
              "    </tr>\n",
              "    <tr>\n",
              "      <th>Iowa</th>\n",
              "      <td>30</td>\n",
              "    </tr>\n",
              "    <tr>\n",
              "      <th>New Hampshire</th>\n",
              "      <td>27</td>\n",
              "    </tr>\n",
              "    <tr>\n",
              "      <th>Kansas</th>\n",
              "      <td>24</td>\n",
              "    </tr>\n",
              "    <tr>\n",
              "      <th>Idaho</th>\n",
              "      <td>21</td>\n",
              "    </tr>\n",
              "    <tr>\n",
              "      <th>Montana</th>\n",
              "      <td>15</td>\n",
              "    </tr>\n",
              "    <tr>\n",
              "      <th>South Dakota</th>\n",
              "      <td>12</td>\n",
              "    </tr>\n",
              "    <tr>\n",
              "      <th>Vermont</th>\n",
              "      <td>11</td>\n",
              "    </tr>\n",
              "    <tr>\n",
              "      <th>District of Columbia</th>\n",
              "      <td>10</td>\n",
              "    </tr>\n",
              "    <tr>\n",
              "      <th>Maine</th>\n",
              "      <td>8</td>\n",
              "    </tr>\n",
              "    <tr>\n",
              "      <th>North Dakota</th>\n",
              "      <td>7</td>\n",
              "    </tr>\n",
              "    <tr>\n",
              "      <th>West Virginia</th>\n",
              "      <td>4</td>\n",
              "    </tr>\n",
              "    <tr>\n",
              "      <th>Wyoming</th>\n",
              "      <td>1</td>\n",
              "    </tr>\n",
              "  </tbody>\n",
              "</table>\n",
              "</div><br><label><b>dtype:</b> int64</label>"
            ]
          },
          "metadata": {},
          "execution_count": 44
        }
      ]
    },
    {
      "cell_type": "code",
      "source": [
        "print('Question 10: Count number of orders by city.')\n",
        "data_set['City'].value_counts()"
      ],
      "metadata": {
        "colab": {
          "base_uri": "https://localhost:8080/",
          "height": 507
        },
        "id": "BK6YY0qBOT1S",
        "outputId": "605ac892-4bee-4daf-85b1-13ba8960f569"
      },
      "execution_count": null,
      "outputs": [
        {
          "output_type": "stream",
          "name": "stdout",
          "text": [
            "Question 10: Count number of orders by city.\n"
          ]
        },
        {
          "output_type": "execute_result",
          "data": {
            "text/plain": [
              "City\n",
              "New York City    915\n",
              "Los Angeles      747\n",
              "Philadelphia     537\n",
              "San Francisco    510\n",
              "Seattle          428\n",
              "                ... \n",
              "Abilene            1\n",
              "Montebello         1\n",
              "Kissimmee          1\n",
              "Danbury            1\n",
              "Springdale         1\n",
              "Name: count, Length: 531, dtype: int64"
            ],
            "text/html": [
              "<div>\n",
              "<style scoped>\n",
              "    .dataframe tbody tr th:only-of-type {\n",
              "        vertical-align: middle;\n",
              "    }\n",
              "\n",
              "    .dataframe tbody tr th {\n",
              "        vertical-align: top;\n",
              "    }\n",
              "\n",
              "    .dataframe thead th {\n",
              "        text-align: right;\n",
              "    }\n",
              "</style>\n",
              "<table border=\"1\" class=\"dataframe\">\n",
              "  <thead>\n",
              "    <tr style=\"text-align: right;\">\n",
              "      <th></th>\n",
              "      <th>count</th>\n",
              "    </tr>\n",
              "    <tr>\n",
              "      <th>City</th>\n",
              "      <th></th>\n",
              "    </tr>\n",
              "  </thead>\n",
              "  <tbody>\n",
              "    <tr>\n",
              "      <th>New York City</th>\n",
              "      <td>915</td>\n",
              "    </tr>\n",
              "    <tr>\n",
              "      <th>Los Angeles</th>\n",
              "      <td>747</td>\n",
              "    </tr>\n",
              "    <tr>\n",
              "      <th>Philadelphia</th>\n",
              "      <td>537</td>\n",
              "    </tr>\n",
              "    <tr>\n",
              "      <th>San Francisco</th>\n",
              "      <td>510</td>\n",
              "    </tr>\n",
              "    <tr>\n",
              "      <th>Seattle</th>\n",
              "      <td>428</td>\n",
              "    </tr>\n",
              "    <tr>\n",
              "      <th>...</th>\n",
              "      <td>...</td>\n",
              "    </tr>\n",
              "    <tr>\n",
              "      <th>Abilene</th>\n",
              "      <td>1</td>\n",
              "    </tr>\n",
              "    <tr>\n",
              "      <th>Montebello</th>\n",
              "      <td>1</td>\n",
              "    </tr>\n",
              "    <tr>\n",
              "      <th>Kissimmee</th>\n",
              "      <td>1</td>\n",
              "    </tr>\n",
              "    <tr>\n",
              "      <th>Danbury</th>\n",
              "      <td>1</td>\n",
              "    </tr>\n",
              "    <tr>\n",
              "      <th>Springdale</th>\n",
              "      <td>1</td>\n",
              "    </tr>\n",
              "  </tbody>\n",
              "</table>\n",
              "<p>531 rows × 1 columns</p>\n",
              "</div><br><label><b>dtype:</b> int64</label>"
            ]
          },
          "metadata": {},
          "execution_count": 45
        }
      ]
    },
    {
      "cell_type": "code",
      "source": [
        "print('Question 11: Find the most common ship mode.')\n",
        "data_set['Ship Mode'].mode()"
      ],
      "metadata": {
        "colab": {
          "base_uri": "https://localhost:8080/",
          "height": 132
        },
        "id": "0nEYPLgrOTyz",
        "outputId": "dfb0aeb7-4c6e-4e4d-c8e8-4b4c69b284c3"
      },
      "execution_count": null,
      "outputs": [
        {
          "output_type": "stream",
          "name": "stdout",
          "text": [
            "Question 11: Find the most common ship mode.\n"
          ]
        },
        {
          "output_type": "execute_result",
          "data": {
            "text/plain": [
              "0    Standard Class\n",
              "Name: Ship Mode, dtype: object"
            ],
            "text/html": [
              "<div>\n",
              "<style scoped>\n",
              "    .dataframe tbody tr th:only-of-type {\n",
              "        vertical-align: middle;\n",
              "    }\n",
              "\n",
              "    .dataframe tbody tr th {\n",
              "        vertical-align: top;\n",
              "    }\n",
              "\n",
              "    .dataframe thead th {\n",
              "        text-align: right;\n",
              "    }\n",
              "</style>\n",
              "<table border=\"1\" class=\"dataframe\">\n",
              "  <thead>\n",
              "    <tr style=\"text-align: right;\">\n",
              "      <th></th>\n",
              "      <th>Ship Mode</th>\n",
              "    </tr>\n",
              "  </thead>\n",
              "  <tbody>\n",
              "    <tr>\n",
              "      <th>0</th>\n",
              "      <td>Standard Class</td>\n",
              "    </tr>\n",
              "  </tbody>\n",
              "</table>\n",
              "</div><br><label><b>dtype:</b> object</label>"
            ]
          },
          "metadata": {},
          "execution_count": 49
        }
      ]
    },
    {
      "cell_type": "code",
      "source": [
        "print('Question 12: Find the least common ship mode.')\n",
        "least_common=data_set['Ship Mode'].min()\n",
        "least_common"
      ],
      "metadata": {
        "colab": {
          "base_uri": "https://localhost:8080/",
          "height": 52
        },
        "id": "WjZ6rzhmOTwM",
        "outputId": "36380cf3-18dd-47d9-bb09-791fcfb3addd"
      },
      "execution_count": null,
      "outputs": [
        {
          "output_type": "stream",
          "name": "stdout",
          "text": [
            "Question 12: Find the least common ship mode.\n"
          ]
        },
        {
          "output_type": "execute_result",
          "data": {
            "text/plain": [
              "'First Class'"
            ],
            "application/vnd.google.colaboratory.intrinsic+json": {
              "type": "string"
            }
          },
          "metadata": {},
          "execution_count": 55
        }
      ]
    },
    {
      "cell_type": "code",
      "source": [
        "print('Question 13: Count number of orders shipped with \"Same Day\" mode.')\n",
        "data_set['Ship Mode'].value_counts()['Same Day']"
      ],
      "metadata": {
        "colab": {
          "base_uri": "https://localhost:8080/"
        },
        "id": "OzC0wQ8tOTtk",
        "outputId": "c5c0bf88-9598-4380-90e6-b7b8eb954eb1"
      },
      "execution_count": null,
      "outputs": [
        {
          "output_type": "stream",
          "name": "stdout",
          "text": [
            "Question 13: Count number of orders shipped with \"Same Day\" mode.\n"
          ]
        },
        {
          "output_type": "execute_result",
          "data": {
            "text/plain": [
              "np.int64(543)"
            ]
          },
          "metadata": {},
          "execution_count": 75
        }
      ]
    },
    {
      "cell_type": "code",
      "source": [
        "print('Question 14: Count number of orders shipped with \"First Class\".')\n",
        "data_set['Ship Mode'].value_counts()['First Class']"
      ],
      "metadata": {
        "colab": {
          "base_uri": "https://localhost:8080/"
        },
        "id": "pggLnRvwOTq7",
        "outputId": "7ddd9e65-5fd1-4148-9d59-f9804cbbf433"
      },
      "execution_count": null,
      "outputs": [
        {
          "output_type": "stream",
          "name": "stdout",
          "text": [
            "Question 14: Count number of orders shipped with \"First Class\".\n"
          ]
        },
        {
          "output_type": "execute_result",
          "data": {
            "text/plain": [
              "np.int64(1538)"
            ]
          },
          "metadata": {},
          "execution_count": 78
        }
      ]
    },
    {
      "cell_type": "code",
      "source": [
        "print('Question 15: Count number of orders shipped with \"Second Class\".')\n",
        "data_set['Ship Mode'].value_counts()[\"Second Class\"]"
      ],
      "metadata": {
        "colab": {
          "base_uri": "https://localhost:8080/"
        },
        "id": "ncbuF_qwOToT",
        "outputId": "c3f3795c-8acf-4ac4-816e-2710ce8db94f"
      },
      "execution_count": null,
      "outputs": [
        {
          "output_type": "stream",
          "name": "stdout",
          "text": [
            "Question 15: Count number of orders shipped with \"Second Class\".\n"
          ]
        },
        {
          "output_type": "execute_result",
          "data": {
            "text/plain": [
              "np.int64(1945)"
            ]
          },
          "metadata": {},
          "execution_count": 79
        }
      ]
    },
    {
      "cell_type": "code",
      "source": [
        "print('Question 16: Count number of orders shipped with \"Standard Class\".')\n",
        "data_set['Ship Mode'].value_counts()[\"Standard Class\"]"
      ],
      "metadata": {
        "colab": {
          "base_uri": "https://localhost:8080/"
        },
        "id": "zxP6mJB1OTly",
        "outputId": "385b99a5-c8cc-42f5-8379-0345d4d867c9"
      },
      "execution_count": null,
      "outputs": [
        {
          "output_type": "stream",
          "name": "stdout",
          "text": [
            "Question 16: Count number of orders shipped with \"Standard Class\".\n"
          ]
        },
        {
          "output_type": "execute_result",
          "data": {
            "text/plain": [
              "np.int64(5968)"
            ]
          },
          "metadata": {},
          "execution_count": 80
        }
      ]
    },
    {
      "cell_type": "code",
      "source": [
        "print('Question 17: Find number of orders in each year.')\n",
        "data_set['Order Date'].dt.year.value_counts()\n"
      ],
      "metadata": {
        "colab": {
          "base_uri": "https://localhost:8080/",
          "height": 258
        },
        "id": "nBQxMYXGOTjD",
        "outputId": "e53923c1-db4c-4c20-b952-699d85a106a4"
      },
      "execution_count": null,
      "outputs": [
        {
          "output_type": "stream",
          "name": "stdout",
          "text": [
            "Question 17: Find number of orders in each year.\n"
          ]
        },
        {
          "output_type": "execute_result",
          "data": {
            "text/plain": [
              "Order Date\n",
              "2017    3312\n",
              "2016    2587\n",
              "2015    2102\n",
              "2014    1993\n",
              "Name: count, dtype: int64"
            ],
            "text/html": [
              "<div>\n",
              "<style scoped>\n",
              "    .dataframe tbody tr th:only-of-type {\n",
              "        vertical-align: middle;\n",
              "    }\n",
              "\n",
              "    .dataframe tbody tr th {\n",
              "        vertical-align: top;\n",
              "    }\n",
              "\n",
              "    .dataframe thead th {\n",
              "        text-align: right;\n",
              "    }\n",
              "</style>\n",
              "<table border=\"1\" class=\"dataframe\">\n",
              "  <thead>\n",
              "    <tr style=\"text-align: right;\">\n",
              "      <th></th>\n",
              "      <th>count</th>\n",
              "    </tr>\n",
              "    <tr>\n",
              "      <th>Order Date</th>\n",
              "      <th></th>\n",
              "    </tr>\n",
              "  </thead>\n",
              "  <tbody>\n",
              "    <tr>\n",
              "      <th>2017</th>\n",
              "      <td>3312</td>\n",
              "    </tr>\n",
              "    <tr>\n",
              "      <th>2016</th>\n",
              "      <td>2587</td>\n",
              "    </tr>\n",
              "    <tr>\n",
              "      <th>2015</th>\n",
              "      <td>2102</td>\n",
              "    </tr>\n",
              "    <tr>\n",
              "      <th>2014</th>\n",
              "      <td>1993</td>\n",
              "    </tr>\n",
              "  </tbody>\n",
              "</table>\n",
              "</div><br><label><b>dtype:</b> int64</label>"
            ]
          },
          "metadata": {},
          "execution_count": 88
        }
      ]
    },
    {
      "cell_type": "code",
      "source": [
        "print('Question 18: Find number of orders in each quarter.')\n",
        "data_set['Order Date'].dt.quarter"
      ],
      "metadata": {
        "colab": {
          "base_uri": "https://localhost:8080/",
          "height": 475
        },
        "id": "1aMSHM2mOTgj",
        "outputId": "aabd2cb0-9b77-4238-b49f-3f83711c2cb0"
      },
      "execution_count": null,
      "outputs": [
        {
          "output_type": "stream",
          "name": "stdout",
          "text": [
            "Question 18: Find number of orders in each quarter.\n"
          ]
        },
        {
          "output_type": "execute_result",
          "data": {
            "text/plain": [
              "0       4\n",
              "1       4\n",
              "2       2\n",
              "3       4\n",
              "4       4\n",
              "       ..\n",
              "9989    1\n",
              "9990    1\n",
              "9991    1\n",
              "9992    1\n",
              "9993    2\n",
              "Name: Order Date, Length: 9994, dtype: int32"
            ],
            "text/html": [
              "<div>\n",
              "<style scoped>\n",
              "    .dataframe tbody tr th:only-of-type {\n",
              "        vertical-align: middle;\n",
              "    }\n",
              "\n",
              "    .dataframe tbody tr th {\n",
              "        vertical-align: top;\n",
              "    }\n",
              "\n",
              "    .dataframe thead th {\n",
              "        text-align: right;\n",
              "    }\n",
              "</style>\n",
              "<table border=\"1\" class=\"dataframe\">\n",
              "  <thead>\n",
              "    <tr style=\"text-align: right;\">\n",
              "      <th></th>\n",
              "      <th>Order Date</th>\n",
              "    </tr>\n",
              "  </thead>\n",
              "  <tbody>\n",
              "    <tr>\n",
              "      <th>0</th>\n",
              "      <td>4</td>\n",
              "    </tr>\n",
              "    <tr>\n",
              "      <th>1</th>\n",
              "      <td>4</td>\n",
              "    </tr>\n",
              "    <tr>\n",
              "      <th>2</th>\n",
              "      <td>2</td>\n",
              "    </tr>\n",
              "    <tr>\n",
              "      <th>3</th>\n",
              "      <td>4</td>\n",
              "    </tr>\n",
              "    <tr>\n",
              "      <th>4</th>\n",
              "      <td>4</td>\n",
              "    </tr>\n",
              "    <tr>\n",
              "      <th>...</th>\n",
              "      <td>...</td>\n",
              "    </tr>\n",
              "    <tr>\n",
              "      <th>9989</th>\n",
              "      <td>1</td>\n",
              "    </tr>\n",
              "    <tr>\n",
              "      <th>9990</th>\n",
              "      <td>1</td>\n",
              "    </tr>\n",
              "    <tr>\n",
              "      <th>9991</th>\n",
              "      <td>1</td>\n",
              "    </tr>\n",
              "    <tr>\n",
              "      <th>9992</th>\n",
              "      <td>1</td>\n",
              "    </tr>\n",
              "    <tr>\n",
              "      <th>9993</th>\n",
              "      <td>2</td>\n",
              "    </tr>\n",
              "  </tbody>\n",
              "</table>\n",
              "<p>9994 rows × 1 columns</p>\n",
              "</div><br><label><b>dtype:</b> int32</label>"
            ]
          },
          "metadata": {},
          "execution_count": 92
        }
      ]
    },
    {
      "cell_type": "code",
      "source": [
        "print('Question 19: Find number of orders in each month.')\n",
        "data_set['Order Date'].dt.month.value_counts()"
      ],
      "metadata": {
        "colab": {
          "base_uri": "https://localhost:8080/",
          "height": 509
        },
        "id": "NBA63S8rOTdz",
        "outputId": "5ab3dfcc-93e1-441b-f09c-266f0a7fd414"
      },
      "execution_count": null,
      "outputs": [
        {
          "output_type": "stream",
          "name": "stdout",
          "text": [
            "Question 19: Find number of orders in each month.\n"
          ]
        },
        {
          "output_type": "execute_result",
          "data": {
            "text/plain": [
              "Order Date\n",
              "11    1471\n",
              "12    1408\n",
              "9     1383\n",
              "10     819\n",
              "5      735\n",
              "6      717\n",
              "7      710\n",
              "8      706\n",
              "3      696\n",
              "4      668\n",
              "1      381\n",
              "2      300\n",
              "Name: count, dtype: int64"
            ],
            "text/html": [
              "<div>\n",
              "<style scoped>\n",
              "    .dataframe tbody tr th:only-of-type {\n",
              "        vertical-align: middle;\n",
              "    }\n",
              "\n",
              "    .dataframe tbody tr th {\n",
              "        vertical-align: top;\n",
              "    }\n",
              "\n",
              "    .dataframe thead th {\n",
              "        text-align: right;\n",
              "    }\n",
              "</style>\n",
              "<table border=\"1\" class=\"dataframe\">\n",
              "  <thead>\n",
              "    <tr style=\"text-align: right;\">\n",
              "      <th></th>\n",
              "      <th>count</th>\n",
              "    </tr>\n",
              "    <tr>\n",
              "      <th>Order Date</th>\n",
              "      <th></th>\n",
              "    </tr>\n",
              "  </thead>\n",
              "  <tbody>\n",
              "    <tr>\n",
              "      <th>11</th>\n",
              "      <td>1471</td>\n",
              "    </tr>\n",
              "    <tr>\n",
              "      <th>12</th>\n",
              "      <td>1408</td>\n",
              "    </tr>\n",
              "    <tr>\n",
              "      <th>9</th>\n",
              "      <td>1383</td>\n",
              "    </tr>\n",
              "    <tr>\n",
              "      <th>10</th>\n",
              "      <td>819</td>\n",
              "    </tr>\n",
              "    <tr>\n",
              "      <th>5</th>\n",
              "      <td>735</td>\n",
              "    </tr>\n",
              "    <tr>\n",
              "      <th>6</th>\n",
              "      <td>717</td>\n",
              "    </tr>\n",
              "    <tr>\n",
              "      <th>7</th>\n",
              "      <td>710</td>\n",
              "    </tr>\n",
              "    <tr>\n",
              "      <th>8</th>\n",
              "      <td>706</td>\n",
              "    </tr>\n",
              "    <tr>\n",
              "      <th>3</th>\n",
              "      <td>696</td>\n",
              "    </tr>\n",
              "    <tr>\n",
              "      <th>4</th>\n",
              "      <td>668</td>\n",
              "    </tr>\n",
              "    <tr>\n",
              "      <th>1</th>\n",
              "      <td>381</td>\n",
              "    </tr>\n",
              "    <tr>\n",
              "      <th>2</th>\n",
              "      <td>300</td>\n",
              "    </tr>\n",
              "  </tbody>\n",
              "</table>\n",
              "</div><br><label><b>dtype:</b> int64</label>"
            ]
          },
          "metadata": {},
          "execution_count": 100
        }
      ]
    },
    {
      "cell_type": "code",
      "source": [
        "print('Question 20: Find number of orders in each weekday.')\n",
        "data_set['Order Date'].dt.day_name().value_counts()"
      ],
      "metadata": {
        "colab": {
          "base_uri": "https://localhost:8080/",
          "height": 352
        },
        "id": "NPNZCdGhOTba",
        "outputId": "3924bb93-5487-4816-f527-119f545f9aee"
      },
      "execution_count": null,
      "outputs": [
        {
          "output_type": "stream",
          "name": "stdout",
          "text": [
            "Question 20: Find number of orders in each weekday.\n"
          ]
        },
        {
          "output_type": "execute_result",
          "data": {
            "text/plain": [
              "Order Date\n",
              "Monday       1871\n",
              "Friday       1818\n",
              "Sunday       1710\n",
              "Saturday     1655\n",
              "Thursday     1463\n",
              "Tuesday      1106\n",
              "Wednesday     371\n",
              "Name: count, dtype: int64"
            ],
            "text/html": [
              "<div>\n",
              "<style scoped>\n",
              "    .dataframe tbody tr th:only-of-type {\n",
              "        vertical-align: middle;\n",
              "    }\n",
              "\n",
              "    .dataframe tbody tr th {\n",
              "        vertical-align: top;\n",
              "    }\n",
              "\n",
              "    .dataframe thead th {\n",
              "        text-align: right;\n",
              "    }\n",
              "</style>\n",
              "<table border=\"1\" class=\"dataframe\">\n",
              "  <thead>\n",
              "    <tr style=\"text-align: right;\">\n",
              "      <th></th>\n",
              "      <th>count</th>\n",
              "    </tr>\n",
              "    <tr>\n",
              "      <th>Order Date</th>\n",
              "      <th></th>\n",
              "    </tr>\n",
              "  </thead>\n",
              "  <tbody>\n",
              "    <tr>\n",
              "      <th>Monday</th>\n",
              "      <td>1871</td>\n",
              "    </tr>\n",
              "    <tr>\n",
              "      <th>Friday</th>\n",
              "      <td>1818</td>\n",
              "    </tr>\n",
              "    <tr>\n",
              "      <th>Sunday</th>\n",
              "      <td>1710</td>\n",
              "    </tr>\n",
              "    <tr>\n",
              "      <th>Saturday</th>\n",
              "      <td>1655</td>\n",
              "    </tr>\n",
              "    <tr>\n",
              "      <th>Thursday</th>\n",
              "      <td>1463</td>\n",
              "    </tr>\n",
              "    <tr>\n",
              "      <th>Tuesday</th>\n",
              "      <td>1106</td>\n",
              "    </tr>\n",
              "    <tr>\n",
              "      <th>Wednesday</th>\n",
              "      <td>371</td>\n",
              "    </tr>\n",
              "  </tbody>\n",
              "</table>\n",
              "</div><br><label><b>dtype:</b> int64</label>"
            ]
          },
          "metadata": {},
          "execution_count": 110
        }
      ]
    },
    {
      "cell_type": "code",
      "source": [
        "print('Question 21: Count orders with discount applied.')\n",
        "discount_applied=data_set['Discount'].apply(lambda x:x>0).sum()\n",
        "discount_applied"
      ],
      "metadata": {
        "colab": {
          "base_uri": "https://localhost:8080/"
        },
        "id": "FjqL_2pROTY5",
        "outputId": "cc64d3fa-6fea-4082-a31e-6c605959f87c"
      },
      "execution_count": null,
      "outputs": [
        {
          "output_type": "stream",
          "name": "stdout",
          "text": [
            "Question 21: Count orders with discount applied.\n"
          ]
        },
        {
          "output_type": "execute_result",
          "data": {
            "text/plain": [
              "np.int64(5196)"
            ]
          },
          "metadata": {},
          "execution_count": 118
        }
      ]
    },
    {
      "cell_type": "code",
      "source": [
        "print('Question 22: Count orders without discount.')\n",
        "discount_applied=data_set['Discount'].apply(lambda x:x<0).sum()\n",
        "discount_applied"
      ],
      "metadata": {
        "colab": {
          "base_uri": "https://localhost:8080/"
        },
        "id": "gUofBO-POTWR",
        "outputId": "0777dfdc-58c4-4fd9-c4c9-d59d644fc5bc"
      },
      "execution_count": null,
      "outputs": [
        {
          "output_type": "stream",
          "name": "stdout",
          "text": [
            "Question 22: Count orders without discount.\n"
          ]
        },
        {
          "output_type": "execute_result",
          "data": {
            "text/plain": [
              "np.int64(0)"
            ]
          },
          "metadata": {},
          "execution_count": 119
        }
      ]
    },
    {
      "cell_type": "code",
      "source": [
        "print('Question 23: Count orders where discount = 0.')\n",
        "discount_applied=data_set['Discount'].apply(lambda x:x==0).sum()\n",
        "discount_applied"
      ],
      "metadata": {
        "colab": {
          "base_uri": "https://localhost:8080/"
        },
        "id": "mcoUFpCdOTT4",
        "outputId": "e0fb1b9f-195d-49f1-b3bb-e7bb2be9898c"
      },
      "execution_count": null,
      "outputs": [
        {
          "output_type": "stream",
          "name": "stdout",
          "text": [
            "Question 23: Count orders where discount = 0.\n"
          ]
        },
        {
          "output_type": "execute_result",
          "data": {
            "text/plain": [
              "np.int64(4798)"
            ]
          },
          "metadata": {},
          "execution_count": 121
        }
      ]
    },
    {
      "cell_type": "code",
      "source": [
        "print('Question 24: Count orders where discount > 0.2.')\n",
        "discount_applied=data_set['Discount'].apply(lambda x:x>0.2).sum()\n",
        "discount_applied"
      ],
      "metadata": {
        "colab": {
          "base_uri": "https://localhost:8080/"
        },
        "id": "iqX2zaYJwOzI",
        "outputId": "ff4b88de-bd37-43d1-a309-a10b43b3ae69"
      },
      "execution_count": null,
      "outputs": [
        {
          "output_type": "stream",
          "name": "stdout",
          "text": [
            "Question 24: Count orders where discount > 0.2.\n"
          ]
        },
        {
          "output_type": "execute_result",
          "data": {
            "text/plain": [
              "np.int64(1393)"
            ]
          },
          "metadata": {},
          "execution_count": 122
        }
      ]
    },
    {
      "cell_type": "code",
      "source": [
        "print('Question 25: Count orders where discount = 0.5.')\n",
        "discount_applied=data_set['Discount'].apply(lambda x:x==0.5).sum()\n",
        "discount_applied"
      ],
      "metadata": {
        "colab": {
          "base_uri": "https://localhost:8080/"
        },
        "id": "gvruK2q-wOv0",
        "outputId": "29469230-0146-4127-d352-575f304fae6d"
      },
      "execution_count": null,
      "outputs": [
        {
          "output_type": "stream",
          "name": "stdout",
          "text": [
            "Question 25: Count orders where discount = 0.5.\n"
          ]
        },
        {
          "output_type": "execute_result",
          "data": {
            "text/plain": [
              "np.int64(66)"
            ]
          },
          "metadata": {},
          "execution_count": 123
        }
      ]
    },
    {
      "cell_type": "code",
      "source": [
        "print('Question 26: Find maximum discount given.')\n",
        "data_set['Discount'].max()"
      ],
      "metadata": {
        "colab": {
          "base_uri": "https://localhost:8080/"
        },
        "id": "ZAbgbBUHwOtb",
        "outputId": "ab57f1b5-baba-4c81-e318-4a0869f66524"
      },
      "execution_count": null,
      "outputs": [
        {
          "output_type": "stream",
          "name": "stdout",
          "text": [
            "Question 26: Find maximum discount given.\n"
          ]
        },
        {
          "output_type": "execute_result",
          "data": {
            "text/plain": [
              "0.8"
            ]
          },
          "metadata": {},
          "execution_count": 125
        }
      ]
    },
    {
      "cell_type": "code",
      "source": [
        "print('Question 27: Find minimum discount given.')\n",
        "data_set['Discount'].min()"
      ],
      "metadata": {
        "colab": {
          "base_uri": "https://localhost:8080/"
        },
        "id": "XxNWu2nmwOrB",
        "outputId": "0ed7ee79-5fb6-41a0-c6ca-10c4dc3b2089"
      },
      "execution_count": null,
      "outputs": [
        {
          "output_type": "stream",
          "name": "stdout",
          "text": [
            "Question 27: Find minimum discount given.\n"
          ]
        },
        {
          "output_type": "execute_result",
          "data": {
            "text/plain": [
              "0.0"
            ]
          },
          "metadata": {},
          "execution_count": 126
        }
      ]
    },
    {
      "cell_type": "code",
      "source": [
        "print('Question 28: Count orders where profit < 0.')\n",
        "profit=data_set['Profit'].apply(lambda x:x<0).sum()\n",
        "profit"
      ],
      "metadata": {
        "colab": {
          "base_uri": "https://localhost:8080/"
        },
        "id": "le-HSKD7wOoe",
        "outputId": "7b53859f-482c-40b3-87b8-c2a6bfad871a"
      },
      "execution_count": null,
      "outputs": [
        {
          "output_type": "stream",
          "name": "stdout",
          "text": [
            "Question 28: Count orders where profit < 0.\n"
          ]
        },
        {
          "output_type": "execute_result",
          "data": {
            "text/plain": [
              "np.int64(1871)"
            ]
          },
          "metadata": {},
          "execution_count": 128
        }
      ]
    },
    {
      "cell_type": "code",
      "source": [
        "print('Question 29: Count orders where profit = 0.')\n",
        "profit=data_set['Profit'].apply(lambda x:x==0).sum()\n",
        "profit"
      ],
      "metadata": {
        "colab": {
          "base_uri": "https://localhost:8080/"
        },
        "id": "KH7FvgGKwOl4",
        "outputId": "527623d6-8e89-4cb0-cc9b-38d6c809057b"
      },
      "execution_count": null,
      "outputs": [
        {
          "output_type": "stream",
          "name": "stdout",
          "text": [
            "Question 29: Count orders where profit = 0.\n"
          ]
        },
        {
          "output_type": "execute_result",
          "data": {
            "text/plain": [
              "np.int64(65)"
            ]
          },
          "metadata": {},
          "execution_count": 129
        }
      ]
    },
    {
      "cell_type": "code",
      "source": [
        "print('Question 30: Count orders where profit > 100.')\n",
        "profit=data_set['Profit'].apply(lambda x:x>0).sum()\n",
        "profit"
      ],
      "metadata": {
        "colab": {
          "base_uri": "https://localhost:8080/"
        },
        "id": "5hgvxRAFwOjd",
        "outputId": "54cc1e98-4b7d-4e5d-f435-d785be6b96e4"
      },
      "execution_count": null,
      "outputs": [
        {
          "output_type": "stream",
          "name": "stdout",
          "text": [
            "Question 30: Count orders where profit > 100.\n"
          ]
        },
        {
          "output_type": "execute_result",
          "data": {
            "text/plain": [
              "np.int64(8058)"
            ]
          },
          "metadata": {},
          "execution_count": 130
        }
      ]
    },
    {
      "cell_type": "code",
      "source": [
        "print('Question 31: Count orders where sales > 1000.')\n",
        "data_set['Sales'].apply(lambda x:x>1000).sum()"
      ],
      "metadata": {
        "colab": {
          "base_uri": "https://localhost:8080/"
        },
        "id": "H4bzXzbIwOg-",
        "outputId": "0dbbb118-675f-49b4-ab27-7ad70a040ee5"
      },
      "execution_count": null,
      "outputs": [
        {
          "output_type": "stream",
          "name": "stdout",
          "text": [
            "Question 31: Count orders where sales > 1000.\n"
          ]
        },
        {
          "output_type": "execute_result",
          "data": {
            "text/plain": [
              "np.int64(468)"
            ]
          },
          "metadata": {},
          "execution_count": 131
        }
      ]
    },
    {
      "cell_type": "code",
      "source": [
        "print('Question 32: Find total quantity sold.')\n",
        "data_set['Quantity'].sum()"
      ],
      "metadata": {
        "colab": {
          "base_uri": "https://localhost:8080/"
        },
        "id": "2iW_ogAdwOeW",
        "outputId": "feca9130-5242-4687-a81e-5796c881d0d8"
      },
      "execution_count": null,
      "outputs": [
        {
          "output_type": "stream",
          "name": "stdout",
          "text": [
            "Question 32: Find total quantity sold.\n"
          ]
        },
        {
          "output_type": "execute_result",
          "data": {
            "text/plain": [
              "np.int64(37873)"
            ]
          },
          "metadata": {},
          "execution_count": 133
        }
      ]
    },
    {
      "cell_type": "code",
      "source": [
        "print('Question 33: Find average quantity per order.')\n",
        "data_set['Order ID'].value_counts().sum()"
      ],
      "metadata": {
        "colab": {
          "base_uri": "https://localhost:8080/"
        },
        "id": "kHJ6hl9LwOb2",
        "outputId": "d16253bd-8ec7-42db-b9c4-31e41d65dd19"
      },
      "execution_count": null,
      "outputs": [
        {
          "output_type": "stream",
          "name": "stdout",
          "text": [
            "Question 33: Find average quantity per order.\n"
          ]
        },
        {
          "output_type": "execute_result",
          "data": {
            "text/plain": [
              "np.int64(9994)"
            ]
          },
          "metadata": {},
          "execution_count": 145
        }
      ]
    },
    {
      "cell_type": "code",
      "source": [
        "print('Question 34: Find average sales per order.')\n",
        "total=data_set.groupby('Order ID')['Quantity'].sum()\n",
        "total.mean()"
      ],
      "metadata": {
        "colab": {
          "base_uri": "https://localhost:8080/"
        },
        "id": "skeRNrs2wOZO",
        "outputId": "fefcfb60-e646-4666-99a6-37edd28f4b1f"
      },
      "execution_count": null,
      "outputs": [
        {
          "output_type": "stream",
          "name": "stdout",
          "text": [
            "Question 34: Find average sales per order.\n"
          ]
        },
        {
          "output_type": "execute_result",
          "data": {
            "text/plain": [
              "np.float64(7.560990217608305)"
            ]
          },
          "metadata": {},
          "execution_count": 152
        }
      ]
    },
    {
      "cell_type": "code",
      "source": [
        "\n",
        "print('Question 35: Find average profit per order.')\n",
        "total=data_set.groupby('Order ID')['Profit'].sum()\n",
        "total.mean()\n"
      ],
      "metadata": {
        "id": "zm_YDzaawOWs",
        "colab": {
          "base_uri": "https://localhost:8080/"
        },
        "outputId": "15cfbae0-2e7e-447f-f4cc-5613a8204a70"
      },
      "execution_count": 155,
      "outputs": [
        {
          "output_type": "stream",
          "name": "stdout",
          "text": [
            "Question 35: Find average profit per order.\n"
          ]
        },
        {
          "output_type": "execute_result",
          "data": {
            "text/plain": [
              "np.float64(57.17648666400478)"
            ]
          },
          "metadata": {},
          "execution_count": 155
        }
      ]
    },
    {
      "cell_type": "code",
      "source": [],
      "metadata": {
        "id": "Wl6tikbfwOUM"
      },
      "execution_count": null,
      "outputs": []
    },
    {
      "cell_type": "code",
      "source": [
        "data_set.columns"
      ],
      "metadata": {
        "colab": {
          "base_uri": "https://localhost:8080/"
        },
        "id": "rvVkfhGGwORk",
        "outputId": "e6398058-5cf4-4430-fcf8-2c2d00d8346b"
      },
      "execution_count": null,
      "outputs": [
        {
          "output_type": "execute_result",
          "data": {
            "text/plain": [
              "Index(['Row ID', 'Order ID', 'Order Date', 'Ship Date', 'Ship Mode',\n",
              "       'Customer ID', 'Customer Name', 'Segment', 'Country', 'City', 'State',\n",
              "       'Postal Code', 'Region', 'Product ID', 'Category', 'Sub-Category',\n",
              "       'Product Name', 'Sales', 'Quantity', 'Discount', 'Profit'],\n",
              "      dtype='object')"
            ]
          },
          "metadata": {},
          "execution_count": 147
        }
      ]
    },
    {
      "cell_type": "code",
      "source": [
        "print('Question 36: Find maximum sales in a single order.')\n",
        "max_sales=data_set.groupby('Order ID')['Sales'].sum().max()\n",
        "max_sales"
      ],
      "metadata": {
        "id": "tnjGRCE2wOPL",
        "colab": {
          "base_uri": "https://localhost:8080/"
        },
        "outputId": "063d0acd-243e-4465-c3c5-b094252b66c1"
      },
      "execution_count": 9,
      "outputs": [
        {
          "output_type": "stream",
          "name": "stdout",
          "text": [
            "Question 36: Find maximum sales in a single order.\n"
          ]
        },
        {
          "output_type": "execute_result",
          "data": {
            "text/plain": [
              "23661.228"
            ]
          },
          "metadata": {},
          "execution_count": 9
        }
      ]
    },
    {
      "cell_type": "code",
      "source": [
        "print('Question 37: Find minimum sales in a single order.')\n",
        "data_set.groupby('Order ID')['Sales'].sum().min()"
      ],
      "metadata": {
        "id": "SJdTUAQJwOMp",
        "colab": {
          "base_uri": "https://localhost:8080/"
        },
        "outputId": "3cd2736e-e765-4916-f917-f6e7bd5572de"
      },
      "execution_count": 10,
      "outputs": [
        {
          "output_type": "stream",
          "name": "stdout",
          "text": [
            "Question 37: Find minimum sales in a single order.\n"
          ]
        },
        {
          "output_type": "execute_result",
          "data": {
            "text/plain": [
              "0.5559999999999998"
            ]
          },
          "metadata": {},
          "execution_count": 10
        }
      ]
    },
    {
      "cell_type": "code",
      "source": [
        "print('Question 38: Find maximum profit in a single order.')\n",
        "data_set.groupby('Order ID')['Profit'].sum().max()"
      ],
      "metadata": {
        "id": "3v7CMR0swOKJ",
        "colab": {
          "base_uri": "https://localhost:8080/"
        },
        "outputId": "e9069e75-23d6-420c-a4b7-f436e71a23ef"
      },
      "execution_count": 11,
      "outputs": [
        {
          "output_type": "stream",
          "name": "stdout",
          "text": [
            "Question 38: Find maximum profit in a single order.\n"
          ]
        },
        {
          "output_type": "execute_result",
          "data": {
            "text/plain": [
              "8762.389099999999"
            ]
          },
          "metadata": {},
          "execution_count": 11
        }
      ]
    },
    {
      "cell_type": "code",
      "source": [
        "print('Question 39: Find minimum profit in a single order.')\n",
        "data_set.groupby('Order ID')['Profit'].sum().min()"
      ],
      "metadata": {
        "id": "aRWQHBa9wOHi",
        "colab": {
          "base_uri": "https://localhost:8080/"
        },
        "outputId": "99ab1b3e-e6fb-476f-ee8d-c85d201c4f67"
      },
      "execution_count": 16,
      "outputs": [
        {
          "output_type": "stream",
          "name": "stdout",
          "text": [
            "Question 39: Find minimum profit in a single order.\n"
          ]
        },
        {
          "output_type": "execute_result",
          "data": {
            "text/plain": [
              "-6893.3748000000005"
            ]
          },
          "metadata": {},
          "execution_count": 16
        }
      ]
    },
    {
      "cell_type": "code",
      "source": [
        "print('Question 40: Find number of orders per customer.')\n",
        "data_set.groupby('Order ID')['Customer ID'].sum().value_counts()"
      ],
      "metadata": {
        "id": "ocP7ZAd_wOFB",
        "colab": {
          "base_uri": "https://localhost:8080/",
          "height": 507
        },
        "outputId": "be98748e-5014-46ad-bc18-ea2008e032be"
      },
      "execution_count": 17,
      "outputs": [
        {
          "output_type": "stream",
          "name": "stdout",
          "text": [
            "Question 40: Find number of orders per customer.\n"
          ]
        },
        {
          "output_type": "execute_result",
          "data": {
            "text/plain": [
              "Customer ID\n",
              "EP-13915                                    9\n",
              "EB-13870                                    9\n",
              "GM-14500                                    8\n",
              "SZ-20035                                    8\n",
              "BM-11785                                    8\n",
              "                                           ..\n",
              "JE-16165                                    1\n",
              "CC-12370CC-12370                            1\n",
              "AB-10600AB-10600AB-10600AB-10600AB-10600    1\n",
              "DP-13000DP-13000DP-13000                    1\n",
              "FM-14290FM-14290FM-14290FM-14290FM-14290    1\n",
              "Name: count, Length: 2380, dtype: int64"
            ],
            "text/html": [
              "<div>\n",
              "<style scoped>\n",
              "    .dataframe tbody tr th:only-of-type {\n",
              "        vertical-align: middle;\n",
              "    }\n",
              "\n",
              "    .dataframe tbody tr th {\n",
              "        vertical-align: top;\n",
              "    }\n",
              "\n",
              "    .dataframe thead th {\n",
              "        text-align: right;\n",
              "    }\n",
              "</style>\n",
              "<table border=\"1\" class=\"dataframe\">\n",
              "  <thead>\n",
              "    <tr style=\"text-align: right;\">\n",
              "      <th></th>\n",
              "      <th>count</th>\n",
              "    </tr>\n",
              "    <tr>\n",
              "      <th>Customer ID</th>\n",
              "      <th></th>\n",
              "    </tr>\n",
              "  </thead>\n",
              "  <tbody>\n",
              "    <tr>\n",
              "      <th>EP-13915</th>\n",
              "      <td>9</td>\n",
              "    </tr>\n",
              "    <tr>\n",
              "      <th>EB-13870</th>\n",
              "      <td>9</td>\n",
              "    </tr>\n",
              "    <tr>\n",
              "      <th>GM-14500</th>\n",
              "      <td>8</td>\n",
              "    </tr>\n",
              "    <tr>\n",
              "      <th>SZ-20035</th>\n",
              "      <td>8</td>\n",
              "    </tr>\n",
              "    <tr>\n",
              "      <th>BM-11785</th>\n",
              "      <td>8</td>\n",
              "    </tr>\n",
              "    <tr>\n",
              "      <th>...</th>\n",
              "      <td>...</td>\n",
              "    </tr>\n",
              "    <tr>\n",
              "      <th>JE-16165</th>\n",
              "      <td>1</td>\n",
              "    </tr>\n",
              "    <tr>\n",
              "      <th>CC-12370CC-12370</th>\n",
              "      <td>1</td>\n",
              "    </tr>\n",
              "    <tr>\n",
              "      <th>AB-10600AB-10600AB-10600AB-10600AB-10600</th>\n",
              "      <td>1</td>\n",
              "    </tr>\n",
              "    <tr>\n",
              "      <th>DP-13000DP-13000DP-13000</th>\n",
              "      <td>1</td>\n",
              "    </tr>\n",
              "    <tr>\n",
              "      <th>FM-14290FM-14290FM-14290FM-14290FM-14290</th>\n",
              "      <td>1</td>\n",
              "    </tr>\n",
              "  </tbody>\n",
              "</table>\n",
              "<p>2380 rows × 1 columns</p>\n",
              "</div><br><label><b>dtype:</b> int64</label>"
            ]
          },
          "metadata": {},
          "execution_count": 17
        }
      ]
    },
    {
      "cell_type": "code",
      "source": [
        "print('Question 41: Find customers who placed only 1 order.')\n",
        "one_order=data_set.groupby('Order ID')['Customer Name'].sum()\n",
        "one_order.unique()"
      ],
      "metadata": {
        "id": "bgdFZSZXwOBZ",
        "colab": {
          "base_uri": "https://localhost:8080/"
        },
        "outputId": "e33e14a1-7eae-48a5-fee0-1ef3d8bdb829"
      },
      "execution_count": 24,
      "outputs": [
        {
          "output_type": "stream",
          "name": "stdout",
          "text": [
            "Question 41: Find customers who placed only 1 order.\n"
          ]
        },
        {
          "output_type": "execute_result",
          "data": {
            "text/plain": [
              "array(['Dennis Kane', 'Ed BraxtonEd Braxton', 'Neil Französisch', ...,\n",
              "       'John LeeJohn LeeJohn LeeJohn LeeJohn LeeJohn LeeJohn Lee',\n",
              "       'Grant ThorntonGrant Thornton',\n",
              "       'Rob LucasRob LucasRob LucasRob LucasRob LucasRob Lucas'],\n",
              "      dtype=object)"
            ]
          },
          "metadata": {},
          "execution_count": 24
        }
      ]
    },
    {
      "cell_type": "code",
      "source": [
        "print('Question 42: Find customers who placed more than 10 orders.')\n",
        "data_set.groupby('Order ID')['Customer ID'].sum().value_counts().apply(lambda x: x>10 ).sum()"
      ],
      "metadata": {
        "id": "ruKJbcs9wN_H",
        "colab": {
          "base_uri": "https://localhost:8080/"
        },
        "outputId": "dd278e63-5102-4f23-d37c-5f978dfc58d7"
      },
      "execution_count": 28,
      "outputs": [
        {
          "output_type": "stream",
          "name": "stdout",
          "text": [
            "Question 42: Find customers who placed more than 10 orders.\n"
          ]
        },
        {
          "output_type": "execute_result",
          "data": {
            "text/plain": [
              "np.int64(0)"
            ]
          },
          "metadata": {},
          "execution_count": 28
        }
      ]
    },
    {
      "cell_type": "code",
      "source": [
        "print('Question 43: Find total number of states represented.')\n",
        "data_set['State'].value_counts()"
      ],
      "metadata": {
        "colab": {
          "base_uri": "https://localhost:8080/",
          "height": 1000
        },
        "id": "RV2_Cfn8p7cY",
        "outputId": "6b69cf6c-6203-4b5d-93e8-096d21a9a092"
      },
      "execution_count": 29,
      "outputs": [
        {
          "output_type": "stream",
          "name": "stdout",
          "text": [
            "Question 43: Find total number of states represented.\n"
          ]
        },
        {
          "output_type": "execute_result",
          "data": {
            "text/plain": [
              "State\n",
              "California              2001\n",
              "New York                1128\n",
              "Texas                    985\n",
              "Pennsylvania             587\n",
              "Washington               506\n",
              "Illinois                 492\n",
              "Ohio                     469\n",
              "Florida                  383\n",
              "Michigan                 255\n",
              "North Carolina           249\n",
              "Arizona                  224\n",
              "Virginia                 224\n",
              "Georgia                  184\n",
              "Tennessee                183\n",
              "Colorado                 182\n",
              "Indiana                  149\n",
              "Kentucky                 139\n",
              "Massachusetts            135\n",
              "New Jersey               130\n",
              "Oregon                   124\n",
              "Wisconsin                110\n",
              "Maryland                 105\n",
              "Delaware                  96\n",
              "Minnesota                 89\n",
              "Connecticut               82\n",
              "Missouri                  66\n",
              "Oklahoma                  66\n",
              "Alabama                   61\n",
              "Arkansas                  60\n",
              "Rhode Island              56\n",
              "Utah                      53\n",
              "Mississippi               53\n",
              "South Carolina            42\n",
              "Louisiana                 42\n",
              "Nevada                    39\n",
              "Nebraska                  38\n",
              "New Mexico                37\n",
              "Iowa                      30\n",
              "New Hampshire             27\n",
              "Kansas                    24\n",
              "Idaho                     21\n",
              "Montana                   15\n",
              "South Dakota              12\n",
              "Vermont                   11\n",
              "District of Columbia      10\n",
              "Maine                      8\n",
              "North Dakota               7\n",
              "West Virginia              4\n",
              "Wyoming                    1\n",
              "Name: count, dtype: int64"
            ],
            "text/html": [
              "<div>\n",
              "<style scoped>\n",
              "    .dataframe tbody tr th:only-of-type {\n",
              "        vertical-align: middle;\n",
              "    }\n",
              "\n",
              "    .dataframe tbody tr th {\n",
              "        vertical-align: top;\n",
              "    }\n",
              "\n",
              "    .dataframe thead th {\n",
              "        text-align: right;\n",
              "    }\n",
              "</style>\n",
              "<table border=\"1\" class=\"dataframe\">\n",
              "  <thead>\n",
              "    <tr style=\"text-align: right;\">\n",
              "      <th></th>\n",
              "      <th>count</th>\n",
              "    </tr>\n",
              "    <tr>\n",
              "      <th>State</th>\n",
              "      <th></th>\n",
              "    </tr>\n",
              "  </thead>\n",
              "  <tbody>\n",
              "    <tr>\n",
              "      <th>California</th>\n",
              "      <td>2001</td>\n",
              "    </tr>\n",
              "    <tr>\n",
              "      <th>New York</th>\n",
              "      <td>1128</td>\n",
              "    </tr>\n",
              "    <tr>\n",
              "      <th>Texas</th>\n",
              "      <td>985</td>\n",
              "    </tr>\n",
              "    <tr>\n",
              "      <th>Pennsylvania</th>\n",
              "      <td>587</td>\n",
              "    </tr>\n",
              "    <tr>\n",
              "      <th>Washington</th>\n",
              "      <td>506</td>\n",
              "    </tr>\n",
              "    <tr>\n",
              "      <th>Illinois</th>\n",
              "      <td>492</td>\n",
              "    </tr>\n",
              "    <tr>\n",
              "      <th>Ohio</th>\n",
              "      <td>469</td>\n",
              "    </tr>\n",
              "    <tr>\n",
              "      <th>Florida</th>\n",
              "      <td>383</td>\n",
              "    </tr>\n",
              "    <tr>\n",
              "      <th>Michigan</th>\n",
              "      <td>255</td>\n",
              "    </tr>\n",
              "    <tr>\n",
              "      <th>North Carolina</th>\n",
              "      <td>249</td>\n",
              "    </tr>\n",
              "    <tr>\n",
              "      <th>Arizona</th>\n",
              "      <td>224</td>\n",
              "    </tr>\n",
              "    <tr>\n",
              "      <th>Virginia</th>\n",
              "      <td>224</td>\n",
              "    </tr>\n",
              "    <tr>\n",
              "      <th>Georgia</th>\n",
              "      <td>184</td>\n",
              "    </tr>\n",
              "    <tr>\n",
              "      <th>Tennessee</th>\n",
              "      <td>183</td>\n",
              "    </tr>\n",
              "    <tr>\n",
              "      <th>Colorado</th>\n",
              "      <td>182</td>\n",
              "    </tr>\n",
              "    <tr>\n",
              "      <th>Indiana</th>\n",
              "      <td>149</td>\n",
              "    </tr>\n",
              "    <tr>\n",
              "      <th>Kentucky</th>\n",
              "      <td>139</td>\n",
              "    </tr>\n",
              "    <tr>\n",
              "      <th>Massachusetts</th>\n",
              "      <td>135</td>\n",
              "    </tr>\n",
              "    <tr>\n",
              "      <th>New Jersey</th>\n",
              "      <td>130</td>\n",
              "    </tr>\n",
              "    <tr>\n",
              "      <th>Oregon</th>\n",
              "      <td>124</td>\n",
              "    </tr>\n",
              "    <tr>\n",
              "      <th>Wisconsin</th>\n",
              "      <td>110</td>\n",
              "    </tr>\n",
              "    <tr>\n",
              "      <th>Maryland</th>\n",
              "      <td>105</td>\n",
              "    </tr>\n",
              "    <tr>\n",
              "      <th>Delaware</th>\n",
              "      <td>96</td>\n",
              "    </tr>\n",
              "    <tr>\n",
              "      <th>Minnesota</th>\n",
              "      <td>89</td>\n",
              "    </tr>\n",
              "    <tr>\n",
              "      <th>Connecticut</th>\n",
              "      <td>82</td>\n",
              "    </tr>\n",
              "    <tr>\n",
              "      <th>Missouri</th>\n",
              "      <td>66</td>\n",
              "    </tr>\n",
              "    <tr>\n",
              "      <th>Oklahoma</th>\n",
              "      <td>66</td>\n",
              "    </tr>\n",
              "    <tr>\n",
              "      <th>Alabama</th>\n",
              "      <td>61</td>\n",
              "    </tr>\n",
              "    <tr>\n",
              "      <th>Arkansas</th>\n",
              "      <td>60</td>\n",
              "    </tr>\n",
              "    <tr>\n",
              "      <th>Rhode Island</th>\n",
              "      <td>56</td>\n",
              "    </tr>\n",
              "    <tr>\n",
              "      <th>Utah</th>\n",
              "      <td>53</td>\n",
              "    </tr>\n",
              "    <tr>\n",
              "      <th>Mississippi</th>\n",
              "      <td>53</td>\n",
              "    </tr>\n",
              "    <tr>\n",
              "      <th>South Carolina</th>\n",
              "      <td>42</td>\n",
              "    </tr>\n",
              "    <tr>\n",
              "      <th>Louisiana</th>\n",
              "      <td>42</td>\n",
              "    </tr>\n",
              "    <tr>\n",
              "      <th>Nevada</th>\n",
              "      <td>39</td>\n",
              "    </tr>\n",
              "    <tr>\n",
              "      <th>Nebraska</th>\n",
              "      <td>38</td>\n",
              "    </tr>\n",
              "    <tr>\n",
              "      <th>New Mexico</th>\n",
              "      <td>37</td>\n",
              "    </tr>\n",
              "    <tr>\n",
              "      <th>Iowa</th>\n",
              "      <td>30</td>\n",
              "    </tr>\n",
              "    <tr>\n",
              "      <th>New Hampshire</th>\n",
              "      <td>27</td>\n",
              "    </tr>\n",
              "    <tr>\n",
              "      <th>Kansas</th>\n",
              "      <td>24</td>\n",
              "    </tr>\n",
              "    <tr>\n",
              "      <th>Idaho</th>\n",
              "      <td>21</td>\n",
              "    </tr>\n",
              "    <tr>\n",
              "      <th>Montana</th>\n",
              "      <td>15</td>\n",
              "    </tr>\n",
              "    <tr>\n",
              "      <th>South Dakota</th>\n",
              "      <td>12</td>\n",
              "    </tr>\n",
              "    <tr>\n",
              "      <th>Vermont</th>\n",
              "      <td>11</td>\n",
              "    </tr>\n",
              "    <tr>\n",
              "      <th>District of Columbia</th>\n",
              "      <td>10</td>\n",
              "    </tr>\n",
              "    <tr>\n",
              "      <th>Maine</th>\n",
              "      <td>8</td>\n",
              "    </tr>\n",
              "    <tr>\n",
              "      <th>North Dakota</th>\n",
              "      <td>7</td>\n",
              "    </tr>\n",
              "    <tr>\n",
              "      <th>West Virginia</th>\n",
              "      <td>4</td>\n",
              "    </tr>\n",
              "    <tr>\n",
              "      <th>Wyoming</th>\n",
              "      <td>1</td>\n",
              "    </tr>\n",
              "  </tbody>\n",
              "</table>\n",
              "</div><br><label><b>dtype:</b> int64</label>"
            ]
          },
          "metadata": {},
          "execution_count": 29
        }
      ]
    },
    {
      "cell_type": "code",
      "source": [
        "print('Question 44: Find total number of cities represented.')\n",
        "data_set.columns\n",
        "data_set['City'].value_counts()"
      ],
      "metadata": {
        "colab": {
          "base_uri": "https://localhost:8080/",
          "height": 507
        },
        "id": "BZwbA8LGp7Y_",
        "outputId": "3468a201-68cf-4c40-fe9c-dc19b93f759d"
      },
      "execution_count": 32,
      "outputs": [
        {
          "output_type": "stream",
          "name": "stdout",
          "text": [
            "Question 44: Find total number of cities represented.\n"
          ]
        },
        {
          "output_type": "execute_result",
          "data": {
            "text/plain": [
              "City\n",
              "New York City    915\n",
              "Los Angeles      747\n",
              "Philadelphia     537\n",
              "San Francisco    510\n",
              "Seattle          428\n",
              "                ... \n",
              "Abilene            1\n",
              "Montebello         1\n",
              "Kissimmee          1\n",
              "Danbury            1\n",
              "Springdale         1\n",
              "Name: count, Length: 531, dtype: int64"
            ],
            "text/html": [
              "<div>\n",
              "<style scoped>\n",
              "    .dataframe tbody tr th:only-of-type {\n",
              "        vertical-align: middle;\n",
              "    }\n",
              "\n",
              "    .dataframe tbody tr th {\n",
              "        vertical-align: top;\n",
              "    }\n",
              "\n",
              "    .dataframe thead th {\n",
              "        text-align: right;\n",
              "    }\n",
              "</style>\n",
              "<table border=\"1\" class=\"dataframe\">\n",
              "  <thead>\n",
              "    <tr style=\"text-align: right;\">\n",
              "      <th></th>\n",
              "      <th>count</th>\n",
              "    </tr>\n",
              "    <tr>\n",
              "      <th>City</th>\n",
              "      <th></th>\n",
              "    </tr>\n",
              "  </thead>\n",
              "  <tbody>\n",
              "    <tr>\n",
              "      <th>New York City</th>\n",
              "      <td>915</td>\n",
              "    </tr>\n",
              "    <tr>\n",
              "      <th>Los Angeles</th>\n",
              "      <td>747</td>\n",
              "    </tr>\n",
              "    <tr>\n",
              "      <th>Philadelphia</th>\n",
              "      <td>537</td>\n",
              "    </tr>\n",
              "    <tr>\n",
              "      <th>San Francisco</th>\n",
              "      <td>510</td>\n",
              "    </tr>\n",
              "    <tr>\n",
              "      <th>Seattle</th>\n",
              "      <td>428</td>\n",
              "    </tr>\n",
              "    <tr>\n",
              "      <th>...</th>\n",
              "      <td>...</td>\n",
              "    </tr>\n",
              "    <tr>\n",
              "      <th>Abilene</th>\n",
              "      <td>1</td>\n",
              "    </tr>\n",
              "    <tr>\n",
              "      <th>Montebello</th>\n",
              "      <td>1</td>\n",
              "    </tr>\n",
              "    <tr>\n",
              "      <th>Kissimmee</th>\n",
              "      <td>1</td>\n",
              "    </tr>\n",
              "    <tr>\n",
              "      <th>Danbury</th>\n",
              "      <td>1</td>\n",
              "    </tr>\n",
              "    <tr>\n",
              "      <th>Springdale</th>\n",
              "      <td>1</td>\n",
              "    </tr>\n",
              "  </tbody>\n",
              "</table>\n",
              "<p>531 rows × 1 columns</p>\n",
              "</div><br><label><b>dtype:</b> int64</label>"
            ]
          },
          "metadata": {},
          "execution_count": 32
        }
      ]
    },
    {
      "cell_type": "code",
      "source": [
        "print('Question 45: Find number of orders placed from California.')\n",
        "data_set['State'].value_counts()['California']"
      ],
      "metadata": {
        "colab": {
          "base_uri": "https://localhost:8080/"
        },
        "id": "p1KwmMe_p7WX",
        "outputId": "41e07aec-c422-47dc-f4c9-b6348f129157"
      },
      "execution_count": 38,
      "outputs": [
        {
          "output_type": "stream",
          "name": "stdout",
          "text": [
            "Question 45: Find number of orders placed from California.\n"
          ]
        },
        {
          "output_type": "execute_result",
          "data": {
            "text/plain": [
              "np.int64(2001)"
            ]
          },
          "metadata": {},
          "execution_count": 38
        }
      ]
    },
    {
      "cell_type": "code",
      "source": [
        "data_set.columns"
      ],
      "metadata": {
        "colab": {
          "base_uri": "https://localhost:8080/"
        },
        "id": "bow4RcGfp7Tq",
        "outputId": "110aa3e1-6e0a-4b3e-9fd1-ddb7ae354ef2"
      },
      "execution_count": 33,
      "outputs": [
        {
          "output_type": "execute_result",
          "data": {
            "text/plain": [
              "Index(['Row ID', 'Order ID', 'Order Date', 'Ship Date', 'Ship Mode',\n",
              "       'Customer ID', 'Customer Name', 'Segment', 'Country', 'City', 'State',\n",
              "       'Postal Code', 'Region', 'Product ID', 'Category', 'Sub-Category',\n",
              "       'Product Name', 'Sales', 'Quantity', 'Discount', 'Profit'],\n",
              "      dtype='object')"
            ]
          },
          "metadata": {},
          "execution_count": 33
        }
      ]
    },
    {
      "cell_type": "code",
      "source": [
        "print('Question 46: Find number of orders placed from New York.')\n",
        "data_set['State'].value_counts()['New York']"
      ],
      "metadata": {
        "colab": {
          "base_uri": "https://localhost:8080/"
        },
        "id": "BKtIsG5Dp7RD",
        "outputId": "bb5fcd99-3761-454a-e835-cf0dc5917dcc"
      },
      "execution_count": 39,
      "outputs": [
        {
          "output_type": "stream",
          "name": "stdout",
          "text": [
            "Question 46: Find number of orders placed from New York.\n"
          ]
        },
        {
          "output_type": "execute_result",
          "data": {
            "text/plain": [
              "np.int64(1128)"
            ]
          },
          "metadata": {},
          "execution_count": 39
        }
      ]
    },
    {
      "cell_type": "code",
      "source": [
        "print('Question 47: Find number of orders placed from Texas.')\n",
        "data_set['State'].value_counts()['Texas']"
      ],
      "metadata": {
        "colab": {
          "base_uri": "https://localhost:8080/"
        },
        "id": "1w29R3YMp7Oh",
        "outputId": "8f419c5c-fa20-49e3-be63-aaf65fb6769a"
      },
      "execution_count": 40,
      "outputs": [
        {
          "output_type": "stream",
          "name": "stdout",
          "text": [
            "Question 47: Find number of orders placed from Texas.\n"
          ]
        },
        {
          "output_type": "execute_result",
          "data": {
            "text/plain": [
              "np.int64(985)"
            ]
          },
          "metadata": {},
          "execution_count": 40
        }
      ]
    },
    {
      "cell_type": "code",
      "source": [
        "print('Question 48: Find number of orders placed from Florida.')\n",
        "data_set['State'].value_counts()['Florida']"
      ],
      "metadata": {
        "colab": {
          "base_uri": "https://localhost:8080/"
        },
        "id": "HfrXBNu9p7Ly",
        "outputId": "e52b7292-10ca-43aa-8a74-df9a8a71879c"
      },
      "execution_count": 41,
      "outputs": [
        {
          "output_type": "stream",
          "name": "stdout",
          "text": [
            "Question 48: Find number of orders placed from Florida.\n"
          ]
        },
        {
          "output_type": "execute_result",
          "data": {
            "text/plain": [
              "np.int64(383)"
            ]
          },
          "metadata": {},
          "execution_count": 41
        }
      ]
    },
    {
      "cell_type": "code",
      "source": [
        "print('Question 49: Find number of orders shipped after 5 days of order.')\n",
        "order_to_shipped=(data_set['Order Date']-data_set['Ship Date']).dt.days\n",
        "shipped_after_5days=(-order_to_shipped<5).value_counts()\n",
        "shipped_after_5days"
      ],
      "metadata": {
        "colab": {
          "base_uri": "https://localhost:8080/",
          "height": 164
        },
        "id": "-NzXBo4Zp7JD",
        "outputId": "0eecdfa2-5684-4366-fa4d-a36266720dde"
      },
      "execution_count": 71,
      "outputs": [
        {
          "output_type": "stream",
          "name": "stdout",
          "text": [
            "Question 49: Find number of orders shipped after 5 days of order.\n"
          ]
        },
        {
          "output_type": "execute_result",
          "data": {
            "text/plain": [
              "True     6001\n",
              "False    3993\n",
              "Name: count, dtype: int64"
            ],
            "text/html": [
              "<div>\n",
              "<style scoped>\n",
              "    .dataframe tbody tr th:only-of-type {\n",
              "        vertical-align: middle;\n",
              "    }\n",
              "\n",
              "    .dataframe tbody tr th {\n",
              "        vertical-align: top;\n",
              "    }\n",
              "\n",
              "    .dataframe thead th {\n",
              "        text-align: right;\n",
              "    }\n",
              "</style>\n",
              "<table border=\"1\" class=\"dataframe\">\n",
              "  <thead>\n",
              "    <tr style=\"text-align: right;\">\n",
              "      <th></th>\n",
              "      <th>count</th>\n",
              "    </tr>\n",
              "  </thead>\n",
              "  <tbody>\n",
              "    <tr>\n",
              "      <th>True</th>\n",
              "      <td>6001</td>\n",
              "    </tr>\n",
              "    <tr>\n",
              "      <th>False</th>\n",
              "      <td>3993</td>\n",
              "    </tr>\n",
              "  </tbody>\n",
              "</table>\n",
              "</div><br><label><b>dtype:</b> int64</label>"
            ]
          },
          "metadata": {},
          "execution_count": 71
        }
      ]
    },
    {
      "cell_type": "code",
      "source": [
        "print('Question 50: Find average shipping time in days.')\n",
        "data_set['Ship Date'].mean()"
      ],
      "metadata": {
        "colab": {
          "base_uri": "https://localhost:8080/"
        },
        "id": "qY3ZAUWWp7Gc",
        "outputId": "601ded46-9113-4ebb-b860-f1d5b7bec30d"
      },
      "execution_count": 90,
      "outputs": [
        {
          "output_type": "stream",
          "name": "stdout",
          "text": [
            "Question 50: Find average shipping time in days.\n"
          ]
        },
        {
          "output_type": "execute_result",
          "data": {
            "text/plain": [
              "Timestamp('2016-05-03 23:06:58.571142912')"
            ]
          },
          "metadata": {},
          "execution_count": 90
        }
      ]
    },
    {
      "cell_type": "code",
      "source": [
        "data_set.columns"
      ],
      "metadata": {
        "colab": {
          "base_uri": "https://localhost:8080/"
        },
        "id": "d2l21T6ip7D2",
        "outputId": "36d92fa4-0410-4648-dfc9-6e1c258b3110"
      },
      "execution_count": 51,
      "outputs": [
        {
          "output_type": "execute_result",
          "data": {
            "text/plain": [
              "Index(['Row ID', 'Order ID', 'Order Date', 'Ship Date', 'Ship Mode',\n",
              "       'Customer ID', 'Customer Name', 'Segment', 'Country', 'City', 'State',\n",
              "       'Postal Code', 'Region', 'Product ID', 'Category', 'Sub-Category',\n",
              "       'Product Name', 'Sales', 'Quantity', 'Discount', 'Profit'],\n",
              "      dtype='object')"
            ]
          },
          "metadata": {},
          "execution_count": 51
        }
      ]
    },
    {
      "cell_type": "markdown",
      "source": [
        "## Sales & Profit Analysis (Questions 51-100)\n"
      ],
      "metadata": {
        "id": "nf8QOrMXydNC"
      }
    },
    {
      "cell_type": "code",
      "source": [
        "print('Question 51: Find total sales.')\n",
        "data_set['Sales'].value_counts()\n"
      ],
      "metadata": {
        "colab": {
          "base_uri": "https://localhost:8080/",
          "height": 507
        },
        "id": "fiN0SW3Rp6-Y",
        "outputId": "b12a9a75-05be-43e2-f4ff-24d6770d1bcc"
      },
      "execution_count": 91,
      "outputs": [
        {
          "output_type": "stream",
          "name": "stdout",
          "text": [
            "Question 51: Find total sales.\n"
          ]
        },
        {
          "output_type": "execute_result",
          "data": {
            "text/plain": [
              "Sales\n",
              "12.960      56\n",
              "19.440      39\n",
              "15.552      39\n",
              "10.368      36\n",
              "32.400      28\n",
              "            ..\n",
              "1706.184     1\n",
              "911.424      1\n",
              "407.976      1\n",
              "68.810       1\n",
              "2.544        1\n",
              "Name: count, Length: 6144, dtype: int64"
            ],
            "text/html": [
              "<div>\n",
              "<style scoped>\n",
              "    .dataframe tbody tr th:only-of-type {\n",
              "        vertical-align: middle;\n",
              "    }\n",
              "\n",
              "    .dataframe tbody tr th {\n",
              "        vertical-align: top;\n",
              "    }\n",
              "\n",
              "    .dataframe thead th {\n",
              "        text-align: right;\n",
              "    }\n",
              "</style>\n",
              "<table border=\"1\" class=\"dataframe\">\n",
              "  <thead>\n",
              "    <tr style=\"text-align: right;\">\n",
              "      <th></th>\n",
              "      <th>count</th>\n",
              "    </tr>\n",
              "    <tr>\n",
              "      <th>Sales</th>\n",
              "      <th></th>\n",
              "    </tr>\n",
              "  </thead>\n",
              "  <tbody>\n",
              "    <tr>\n",
              "      <th>12.960</th>\n",
              "      <td>56</td>\n",
              "    </tr>\n",
              "    <tr>\n",
              "      <th>19.440</th>\n",
              "      <td>39</td>\n",
              "    </tr>\n",
              "    <tr>\n",
              "      <th>15.552</th>\n",
              "      <td>39</td>\n",
              "    </tr>\n",
              "    <tr>\n",
              "      <th>10.368</th>\n",
              "      <td>36</td>\n",
              "    </tr>\n",
              "    <tr>\n",
              "      <th>32.400</th>\n",
              "      <td>28</td>\n",
              "    </tr>\n",
              "    <tr>\n",
              "      <th>...</th>\n",
              "      <td>...</td>\n",
              "    </tr>\n",
              "    <tr>\n",
              "      <th>1706.184</th>\n",
              "      <td>1</td>\n",
              "    </tr>\n",
              "    <tr>\n",
              "      <th>911.424</th>\n",
              "      <td>1</td>\n",
              "    </tr>\n",
              "    <tr>\n",
              "      <th>407.976</th>\n",
              "      <td>1</td>\n",
              "    </tr>\n",
              "    <tr>\n",
              "      <th>68.810</th>\n",
              "      <td>1</td>\n",
              "    </tr>\n",
              "    <tr>\n",
              "      <th>2.544</th>\n",
              "      <td>1</td>\n",
              "    </tr>\n",
              "  </tbody>\n",
              "</table>\n",
              "<p>6144 rows × 1 columns</p>\n",
              "</div><br><label><b>dtype:</b> int64</label>"
            ]
          },
          "metadata": {},
          "execution_count": 91
        }
      ]
    },
    {
      "cell_type": "code",
      "source": [
        "print('Question 52: Find total profit.')\n",
        "data_set['Profit'].value_counts()"
      ],
      "metadata": {
        "colab": {
          "base_uri": "https://localhost:8080/",
          "height": 507
        },
        "id": "FkUCUjQBp67w",
        "outputId": "9f84898a-0f92-49a4-cbe2-90c77103a724"
      },
      "execution_count": 92,
      "outputs": [
        {
          "output_type": "stream",
          "name": "stdout",
          "text": [
            "Question 52: Find total profit.\n"
          ]
        },
        {
          "output_type": "execute_result",
          "data": {
            "text/plain": [
              "Profit\n",
              "0.0000     65\n",
              "6.2208     43\n",
              "9.3312     38\n",
              "3.6288     32\n",
              "5.4432     32\n",
              "           ..\n",
              "10.2588     1\n",
              "1.8688      1\n",
              "3.2400      1\n",
              "90.7152     1\n",
              "1.9656      1\n",
              "Name: count, Length: 7545, dtype: int64"
            ],
            "text/html": [
              "<div>\n",
              "<style scoped>\n",
              "    .dataframe tbody tr th:only-of-type {\n",
              "        vertical-align: middle;\n",
              "    }\n",
              "\n",
              "    .dataframe tbody tr th {\n",
              "        vertical-align: top;\n",
              "    }\n",
              "\n",
              "    .dataframe thead th {\n",
              "        text-align: right;\n",
              "    }\n",
              "</style>\n",
              "<table border=\"1\" class=\"dataframe\">\n",
              "  <thead>\n",
              "    <tr style=\"text-align: right;\">\n",
              "      <th></th>\n",
              "      <th>count</th>\n",
              "    </tr>\n",
              "    <tr>\n",
              "      <th>Profit</th>\n",
              "      <th></th>\n",
              "    </tr>\n",
              "  </thead>\n",
              "  <tbody>\n",
              "    <tr>\n",
              "      <th>0.0000</th>\n",
              "      <td>65</td>\n",
              "    </tr>\n",
              "    <tr>\n",
              "      <th>6.2208</th>\n",
              "      <td>43</td>\n",
              "    </tr>\n",
              "    <tr>\n",
              "      <th>9.3312</th>\n",
              "      <td>38</td>\n",
              "    </tr>\n",
              "    <tr>\n",
              "      <th>3.6288</th>\n",
              "      <td>32</td>\n",
              "    </tr>\n",
              "    <tr>\n",
              "      <th>5.4432</th>\n",
              "      <td>32</td>\n",
              "    </tr>\n",
              "    <tr>\n",
              "      <th>...</th>\n",
              "      <td>...</td>\n",
              "    </tr>\n",
              "    <tr>\n",
              "      <th>10.2588</th>\n",
              "      <td>1</td>\n",
              "    </tr>\n",
              "    <tr>\n",
              "      <th>1.8688</th>\n",
              "      <td>1</td>\n",
              "    </tr>\n",
              "    <tr>\n",
              "      <th>3.2400</th>\n",
              "      <td>1</td>\n",
              "    </tr>\n",
              "    <tr>\n",
              "      <th>90.7152</th>\n",
              "      <td>1</td>\n",
              "    </tr>\n",
              "    <tr>\n",
              "      <th>1.9656</th>\n",
              "      <td>1</td>\n",
              "    </tr>\n",
              "  </tbody>\n",
              "</table>\n",
              "<p>7545 rows × 1 columns</p>\n",
              "</div><br><label><b>dtype:</b> int64</label>"
            ]
          },
          "metadata": {},
          "execution_count": 92
        }
      ]
    },
    {
      "cell_type": "code",
      "source": [
        "print('Question 53: Find average sales per order.')\n",
        "data_set.groupby('Order ID')['Sales'].sum().mean()"
      ],
      "metadata": {
        "colab": {
          "base_uri": "https://localhost:8080/"
        },
        "id": "LcpvNoanp65B",
        "outputId": "57209409-89b2-49a2-cb3c-853a0c2ab2b8"
      },
      "execution_count": 94,
      "outputs": [
        {
          "output_type": "stream",
          "name": "stdout",
          "text": [
            "Question 53: Find average sales per order.\n"
          ]
        },
        {
          "output_type": "execute_result",
          "data": {
            "text/plain": [
              "np.float64(458.61466566180883)"
            ]
          },
          "metadata": {},
          "execution_count": 94
        }
      ]
    },
    {
      "cell_type": "code",
      "source": [
        "data_set.columns"
      ],
      "metadata": {
        "colab": {
          "base_uri": "https://localhost:8080/"
        },
        "id": "8ODjBlnsp62S",
        "outputId": "4c8b7844-0c95-4f0a-c747-4f2db2284df0"
      },
      "execution_count": 93,
      "outputs": [
        {
          "output_type": "execute_result",
          "data": {
            "text/plain": [
              "Index(['Row ID', 'Order ID', 'Order Date', 'Ship Date', 'Ship Mode',\n",
              "       'Customer ID', 'Customer Name', 'Segment', 'Country', 'City', 'State',\n",
              "       'Postal Code', 'Region', 'Product ID', 'Category', 'Sub-Category',\n",
              "       'Product Name', 'Sales', 'Quantity', 'Discount', 'Profit'],\n",
              "      dtype='object')"
            ]
          },
          "metadata": {},
          "execution_count": 93
        }
      ]
    },
    {
      "cell_type": "code",
      "source": [
        "print('Question 54: Find average profit per order.')\n",
        "data_set.groupby('Order ID')['Profit'].sum().mean()"
      ],
      "metadata": {
        "colab": {
          "base_uri": "https://localhost:8080/"
        },
        "id": "XkmfKY5Tp6zk",
        "outputId": "5ba8cad9-70dc-456e-860a-858d1a16228d"
      },
      "execution_count": 95,
      "outputs": [
        {
          "output_type": "stream",
          "name": "stdout",
          "text": [
            "Question 54: Find average profit per order.\n"
          ]
        },
        {
          "output_type": "execute_result",
          "data": {
            "text/plain": [
              "np.float64(57.17648666400478)"
            ]
          },
          "metadata": {},
          "execution_count": 95
        }
      ]
    },
    {
      "cell_type": "code",
      "source": [
        "print(\"Question 55: Find sales by category.\")\n",
        "data_set.groupby('Category')['Sales'].sum()"
      ],
      "metadata": {
        "colab": {
          "base_uri": "https://localhost:8080/",
          "height": 227
        },
        "id": "31xZe-_2p6xE",
        "outputId": "6412e4a3-56e4-4131-ba72-77d779876058"
      },
      "execution_count": 96,
      "outputs": [
        {
          "output_type": "stream",
          "name": "stdout",
          "text": [
            "Question 55: Find sales by category.\n"
          ]
        },
        {
          "output_type": "execute_result",
          "data": {
            "text/plain": [
              "Category\n",
              "Furniture          741999.7953\n",
              "Office Supplies    719047.0320\n",
              "Technology         836154.0330\n",
              "Name: Sales, dtype: float64"
            ],
            "text/html": [
              "<div>\n",
              "<style scoped>\n",
              "    .dataframe tbody tr th:only-of-type {\n",
              "        vertical-align: middle;\n",
              "    }\n",
              "\n",
              "    .dataframe tbody tr th {\n",
              "        vertical-align: top;\n",
              "    }\n",
              "\n",
              "    .dataframe thead th {\n",
              "        text-align: right;\n",
              "    }\n",
              "</style>\n",
              "<table border=\"1\" class=\"dataframe\">\n",
              "  <thead>\n",
              "    <tr style=\"text-align: right;\">\n",
              "      <th></th>\n",
              "      <th>Sales</th>\n",
              "    </tr>\n",
              "    <tr>\n",
              "      <th>Category</th>\n",
              "      <th></th>\n",
              "    </tr>\n",
              "  </thead>\n",
              "  <tbody>\n",
              "    <tr>\n",
              "      <th>Furniture</th>\n",
              "      <td>741999.7953</td>\n",
              "    </tr>\n",
              "    <tr>\n",
              "      <th>Office Supplies</th>\n",
              "      <td>719047.0320</td>\n",
              "    </tr>\n",
              "    <tr>\n",
              "      <th>Technology</th>\n",
              "      <td>836154.0330</td>\n",
              "    </tr>\n",
              "  </tbody>\n",
              "</table>\n",
              "</div><br><label><b>dtype:</b> float64</label>"
            ]
          },
          "metadata": {},
          "execution_count": 96
        }
      ]
    },
    {
      "cell_type": "code",
      "source": [
        "print('Question 56: Find profit by category.')\n",
        "data_set.groupby('Category')['Profit'].sum()"
      ],
      "metadata": {
        "colab": {
          "base_uri": "https://localhost:8080/",
          "height": 227
        },
        "id": "qIzeDpvHp6uf",
        "outputId": "9f4a7902-4640-4a35-dc29-f20f9a07e7b5"
      },
      "execution_count": 97,
      "outputs": [
        {
          "output_type": "stream",
          "name": "stdout",
          "text": [
            "Question 56: Find profit by category.\n"
          ]
        },
        {
          "output_type": "execute_result",
          "data": {
            "text/plain": [
              "Category\n",
              "Furniture           18451.2728\n",
              "Office Supplies    122490.8008\n",
              "Technology         145454.9481\n",
              "Name: Profit, dtype: float64"
            ],
            "text/html": [
              "<div>\n",
              "<style scoped>\n",
              "    .dataframe tbody tr th:only-of-type {\n",
              "        vertical-align: middle;\n",
              "    }\n",
              "\n",
              "    .dataframe tbody tr th {\n",
              "        vertical-align: top;\n",
              "    }\n",
              "\n",
              "    .dataframe thead th {\n",
              "        text-align: right;\n",
              "    }\n",
              "</style>\n",
              "<table border=\"1\" class=\"dataframe\">\n",
              "  <thead>\n",
              "    <tr style=\"text-align: right;\">\n",
              "      <th></th>\n",
              "      <th>Profit</th>\n",
              "    </tr>\n",
              "    <tr>\n",
              "      <th>Category</th>\n",
              "      <th></th>\n",
              "    </tr>\n",
              "  </thead>\n",
              "  <tbody>\n",
              "    <tr>\n",
              "      <th>Furniture</th>\n",
              "      <td>18451.2728</td>\n",
              "    </tr>\n",
              "    <tr>\n",
              "      <th>Office Supplies</th>\n",
              "      <td>122490.8008</td>\n",
              "    </tr>\n",
              "    <tr>\n",
              "      <th>Technology</th>\n",
              "      <td>145454.9481</td>\n",
              "    </tr>\n",
              "  </tbody>\n",
              "</table>\n",
              "</div><br><label><b>dtype:</b> float64</label>"
            ]
          },
          "metadata": {},
          "execution_count": 97
        }
      ]
    },
    {
      "cell_type": "code",
      "source": [
        "print('Question 57: Find sales by sub-category.')\n",
        "data_set.groupby('Sub-Category')['Sales'].sum()"
      ],
      "metadata": {
        "colab": {
          "base_uri": "https://localhost:8080/",
          "height": 665
        },
        "id": "OuYjMJbHp6r6",
        "outputId": "f4bff233-0eaa-46eb-b4fe-8f1bc1354695"
      },
      "execution_count": 99,
      "outputs": [
        {
          "output_type": "stream",
          "name": "stdout",
          "text": [
            "Question 57: Find sales by sub-category.\n"
          ]
        },
        {
          "output_type": "execute_result",
          "data": {
            "text/plain": [
              "Sub-Category\n",
              "Accessories    167380.3180\n",
              "Appliances     107532.1610\n",
              "Art             27118.7920\n",
              "Binders        203412.7330\n",
              "Bookcases      114879.9963\n",
              "Chairs         328449.1030\n",
              "Copiers        149528.0300\n",
              "Envelopes       16476.4020\n",
              "Fasteners        3024.2800\n",
              "Furnishings     91705.1640\n",
              "Labels          12486.3120\n",
              "Machines       189238.6310\n",
              "Paper           78479.2060\n",
              "Phones         330007.0540\n",
              "Storage        223843.6080\n",
              "Supplies        46673.5380\n",
              "Tables         206965.5320\n",
              "Name: Sales, dtype: float64"
            ],
            "text/html": [
              "<div>\n",
              "<style scoped>\n",
              "    .dataframe tbody tr th:only-of-type {\n",
              "        vertical-align: middle;\n",
              "    }\n",
              "\n",
              "    .dataframe tbody tr th {\n",
              "        vertical-align: top;\n",
              "    }\n",
              "\n",
              "    .dataframe thead th {\n",
              "        text-align: right;\n",
              "    }\n",
              "</style>\n",
              "<table border=\"1\" class=\"dataframe\">\n",
              "  <thead>\n",
              "    <tr style=\"text-align: right;\">\n",
              "      <th></th>\n",
              "      <th>Sales</th>\n",
              "    </tr>\n",
              "    <tr>\n",
              "      <th>Sub-Category</th>\n",
              "      <th></th>\n",
              "    </tr>\n",
              "  </thead>\n",
              "  <tbody>\n",
              "    <tr>\n",
              "      <th>Accessories</th>\n",
              "      <td>167380.3180</td>\n",
              "    </tr>\n",
              "    <tr>\n",
              "      <th>Appliances</th>\n",
              "      <td>107532.1610</td>\n",
              "    </tr>\n",
              "    <tr>\n",
              "      <th>Art</th>\n",
              "      <td>27118.7920</td>\n",
              "    </tr>\n",
              "    <tr>\n",
              "      <th>Binders</th>\n",
              "      <td>203412.7330</td>\n",
              "    </tr>\n",
              "    <tr>\n",
              "      <th>Bookcases</th>\n",
              "      <td>114879.9963</td>\n",
              "    </tr>\n",
              "    <tr>\n",
              "      <th>Chairs</th>\n",
              "      <td>328449.1030</td>\n",
              "    </tr>\n",
              "    <tr>\n",
              "      <th>Copiers</th>\n",
              "      <td>149528.0300</td>\n",
              "    </tr>\n",
              "    <tr>\n",
              "      <th>Envelopes</th>\n",
              "      <td>16476.4020</td>\n",
              "    </tr>\n",
              "    <tr>\n",
              "      <th>Fasteners</th>\n",
              "      <td>3024.2800</td>\n",
              "    </tr>\n",
              "    <tr>\n",
              "      <th>Furnishings</th>\n",
              "      <td>91705.1640</td>\n",
              "    </tr>\n",
              "    <tr>\n",
              "      <th>Labels</th>\n",
              "      <td>12486.3120</td>\n",
              "    </tr>\n",
              "    <tr>\n",
              "      <th>Machines</th>\n",
              "      <td>189238.6310</td>\n",
              "    </tr>\n",
              "    <tr>\n",
              "      <th>Paper</th>\n",
              "      <td>78479.2060</td>\n",
              "    </tr>\n",
              "    <tr>\n",
              "      <th>Phones</th>\n",
              "      <td>330007.0540</td>\n",
              "    </tr>\n",
              "    <tr>\n",
              "      <th>Storage</th>\n",
              "      <td>223843.6080</td>\n",
              "    </tr>\n",
              "    <tr>\n",
              "      <th>Supplies</th>\n",
              "      <td>46673.5380</td>\n",
              "    </tr>\n",
              "    <tr>\n",
              "      <th>Tables</th>\n",
              "      <td>206965.5320</td>\n",
              "    </tr>\n",
              "  </tbody>\n",
              "</table>\n",
              "</div><br><label><b>dtype:</b> float64</label>"
            ]
          },
          "metadata": {},
          "execution_count": 99
        }
      ]
    },
    {
      "cell_type": "code",
      "source": [
        "print('Question 58: Find profit by sub-category.')\n",
        "data_set.groupby('Sub-Category')['Profit'].sum()"
      ],
      "metadata": {
        "colab": {
          "base_uri": "https://localhost:8080/",
          "height": 665
        },
        "id": "uC3oQNPqp6pn",
        "outputId": "99a43d62-96af-4e51-9d64-32780857de5c"
      },
      "execution_count": 100,
      "outputs": [
        {
          "output_type": "stream",
          "name": "stdout",
          "text": [
            "Question 58: Find profit by sub-category.\n"
          ]
        },
        {
          "output_type": "execute_result",
          "data": {
            "text/plain": [
              "Sub-Category\n",
              "Accessories    41936.6357\n",
              "Appliances     18138.0054\n",
              "Art             6527.7870\n",
              "Binders        30221.7633\n",
              "Bookcases      -3472.5560\n",
              "Chairs         26590.1663\n",
              "Copiers        55617.8249\n",
              "Envelopes       6964.1767\n",
              "Fasteners        949.5182\n",
              "Furnishings    13059.1436\n",
              "Labels          5546.2540\n",
              "Machines        3384.7569\n",
              "Paper          34053.5693\n",
              "Phones         44515.7306\n",
              "Storage        21278.8264\n",
              "Supplies       -1189.0995\n",
              "Tables        -17725.4811\n",
              "Name: Profit, dtype: float64"
            ],
            "text/html": [
              "<div>\n",
              "<style scoped>\n",
              "    .dataframe tbody tr th:only-of-type {\n",
              "        vertical-align: middle;\n",
              "    }\n",
              "\n",
              "    .dataframe tbody tr th {\n",
              "        vertical-align: top;\n",
              "    }\n",
              "\n",
              "    .dataframe thead th {\n",
              "        text-align: right;\n",
              "    }\n",
              "</style>\n",
              "<table border=\"1\" class=\"dataframe\">\n",
              "  <thead>\n",
              "    <tr style=\"text-align: right;\">\n",
              "      <th></th>\n",
              "      <th>Profit</th>\n",
              "    </tr>\n",
              "    <tr>\n",
              "      <th>Sub-Category</th>\n",
              "      <th></th>\n",
              "    </tr>\n",
              "  </thead>\n",
              "  <tbody>\n",
              "    <tr>\n",
              "      <th>Accessories</th>\n",
              "      <td>41936.6357</td>\n",
              "    </tr>\n",
              "    <tr>\n",
              "      <th>Appliances</th>\n",
              "      <td>18138.0054</td>\n",
              "    </tr>\n",
              "    <tr>\n",
              "      <th>Art</th>\n",
              "      <td>6527.7870</td>\n",
              "    </tr>\n",
              "    <tr>\n",
              "      <th>Binders</th>\n",
              "      <td>30221.7633</td>\n",
              "    </tr>\n",
              "    <tr>\n",
              "      <th>Bookcases</th>\n",
              "      <td>-3472.5560</td>\n",
              "    </tr>\n",
              "    <tr>\n",
              "      <th>Chairs</th>\n",
              "      <td>26590.1663</td>\n",
              "    </tr>\n",
              "    <tr>\n",
              "      <th>Copiers</th>\n",
              "      <td>55617.8249</td>\n",
              "    </tr>\n",
              "    <tr>\n",
              "      <th>Envelopes</th>\n",
              "      <td>6964.1767</td>\n",
              "    </tr>\n",
              "    <tr>\n",
              "      <th>Fasteners</th>\n",
              "      <td>949.5182</td>\n",
              "    </tr>\n",
              "    <tr>\n",
              "      <th>Furnishings</th>\n",
              "      <td>13059.1436</td>\n",
              "    </tr>\n",
              "    <tr>\n",
              "      <th>Labels</th>\n",
              "      <td>5546.2540</td>\n",
              "    </tr>\n",
              "    <tr>\n",
              "      <th>Machines</th>\n",
              "      <td>3384.7569</td>\n",
              "    </tr>\n",
              "    <tr>\n",
              "      <th>Paper</th>\n",
              "      <td>34053.5693</td>\n",
              "    </tr>\n",
              "    <tr>\n",
              "      <th>Phones</th>\n",
              "      <td>44515.7306</td>\n",
              "    </tr>\n",
              "    <tr>\n",
              "      <th>Storage</th>\n",
              "      <td>21278.8264</td>\n",
              "    </tr>\n",
              "    <tr>\n",
              "      <th>Supplies</th>\n",
              "      <td>-1189.0995</td>\n",
              "    </tr>\n",
              "    <tr>\n",
              "      <th>Tables</th>\n",
              "      <td>-17725.4811</td>\n",
              "    </tr>\n",
              "  </tbody>\n",
              "</table>\n",
              "</div><br><label><b>dtype:</b> float64</label>"
            ]
          },
          "metadata": {},
          "execution_count": 100
        }
      ]
    },
    {
      "cell_type": "code",
      "source": [
        "print(\"Question 59: Find highest sales category.\")\n",
        "data_set.groupby('Category')['Sales'].sum().max()"
      ],
      "metadata": {
        "colab": {
          "base_uri": "https://localhost:8080/"
        },
        "id": "vbku1st60gUb",
        "outputId": "46f0cce7-2772-4f25-b110-ac8524eecb60"
      },
      "execution_count": 101,
      "outputs": [
        {
          "output_type": "stream",
          "name": "stdout",
          "text": [
            "Question 59: Find highest sales category.\n"
          ]
        },
        {
          "output_type": "execute_result",
          "data": {
            "text/plain": [
              "836154.033"
            ]
          },
          "metadata": {},
          "execution_count": 101
        }
      ]
    },
    {
      "cell_type": "code",
      "source": [
        "print('Question 60: Find highest profit category.')\n",
        "data_set.groupby('Category')['Profit'].sum().max()"
      ],
      "metadata": {
        "colab": {
          "base_uri": "https://localhost:8080/"
        },
        "id": "CzP0FC110gQ9",
        "outputId": "637995c9-2a95-44e9-bb63-9d9e590014b2"
      },
      "execution_count": 103,
      "outputs": [
        {
          "output_type": "stream",
          "name": "stdout",
          "text": [
            "Question 60: Find highest profit category.\n"
          ]
        },
        {
          "output_type": "execute_result",
          "data": {
            "text/plain": [
              "145454.94809999998"
            ]
          },
          "metadata": {},
          "execution_count": 103
        }
      ]
    },
    {
      "cell_type": "code",
      "source": [
        "print('Question 61: Find lowest profit category.')\n",
        "data_set.groupby('Category')['Profit'].sum().min()"
      ],
      "metadata": {
        "colab": {
          "base_uri": "https://localhost:8080/"
        },
        "id": "HbqlJLFQ0gOx",
        "outputId": "1f37588b-9cae-44a5-9154-18be429ef677"
      },
      "execution_count": 104,
      "outputs": [
        {
          "output_type": "stream",
          "name": "stdout",
          "text": [
            "Question 61: Find lowest profit category.\n"
          ]
        },
        {
          "output_type": "execute_result",
          "data": {
            "text/plain": [
              "18451.27279999998"
            ]
          },
          "metadata": {},
          "execution_count": 104
        }
      ]
    },
    {
      "cell_type": "code",
      "source": [
        "print('Question 62: Find lowest sales sub-category.')\n",
        "data_set.groupby('Sub-Category')['Sales'].sum().min()"
      ],
      "metadata": {
        "colab": {
          "base_uri": "https://localhost:8080/"
        },
        "id": "Q2WKWQV_0gMn",
        "outputId": "6881e853-0726-466c-c7e8-875a304ae343"
      },
      "execution_count": 105,
      "outputs": [
        {
          "output_type": "stream",
          "name": "stdout",
          "text": [
            "Question 62: Find lowest sales sub-category.\n"
          ]
        },
        {
          "output_type": "execute_result",
          "data": {
            "text/plain": [
              "3024.28"
            ]
          },
          "metadata": {},
          "execution_count": 105
        }
      ]
    },
    {
      "cell_type": "code",
      "source": [
        "print('Question 63: Find highest profit sub-category.')\n",
        "data_set.groupby('Sub-Category')['Profit'].sum().max()"
      ],
      "metadata": {
        "colab": {
          "base_uri": "https://localhost:8080/"
        },
        "id": "gTJ1s_u50gKE",
        "outputId": "759d0cbe-7541-4f9b-f316-482a487ad321"
      },
      "execution_count": 106,
      "outputs": [
        {
          "output_type": "stream",
          "name": "stdout",
          "text": [
            "Question 63: Find highest profit sub-category.\n"
          ]
        },
        {
          "output_type": "execute_result",
          "data": {
            "text/plain": [
              "55617.82489999999"
            ]
          },
          "metadata": {},
          "execution_count": 106
        }
      ]
    },
    {
      "cell_type": "code",
      "source": [
        "print('Question 64: Find lowest profit sub-category.')\n",
        "data_set.groupby('Sub-Category')['Profit'].sum().min()"
      ],
      "metadata": {
        "colab": {
          "base_uri": "https://localhost:8080/"
        },
        "id": "NguM7VRY0gHk",
        "outputId": "0d32485e-37a3-4f80-af06-3e8e1df5a677"
      },
      "execution_count": 107,
      "outputs": [
        {
          "output_type": "stream",
          "name": "stdout",
          "text": [
            "Question 64: Find lowest profit sub-category.\n"
          ]
        },
        {
          "output_type": "execute_result",
          "data": {
            "text/plain": [
              "-17725.481100000005"
            ]
          },
          "metadata": {},
          "execution_count": 107
        }
      ]
    },
    {
      "cell_type": "code",
      "source": [
        "print('Question 65: Find top 10 profitable products.')\n",
        "profitable=data_set.groupby('Product Name')['Profit'].sum()\n",
        "top_10=profitable.nlargest(10)\n",
        "top_10"
      ],
      "metadata": {
        "colab": {
          "base_uri": "https://localhost:8080/",
          "height": 446
        },
        "id": "HVMXydYb0gFU",
        "outputId": "a5000217-bb88-49ae-d7b8-49a7356890d2"
      },
      "execution_count": 124,
      "outputs": [
        {
          "output_type": "stream",
          "name": "stdout",
          "text": [
            "Question 65: Find top 10 profitable products.\n"
          ]
        },
        {
          "output_type": "execute_result",
          "data": {
            "text/plain": [
              "Product Name\n",
              "Canon imageCLASS 2200 Advanced Copier                                          25199.9280\n",
              "Fellowes PB500 Electric Punch Plastic Comb Binding Machine with Manual Bind     7753.0390\n",
              "Hewlett Packard LaserJet 3310 Copier                                            6983.8836\n",
              "Canon PC1060 Personal Laser Copier                                              4570.9347\n",
              "HP Designjet T520 Inkjet Large Format Printer - 24\" Color                       4094.9766\n",
              "Ativa V4110MDD Micro-Cut Shredder                                               3772.9461\n",
              "3D Systems Cube Printer, 2nd Generation, Magenta                                3717.9714\n",
              "Plantronics Savi W720 Multi-Device Wireless Headset System                      3696.2820\n",
              "Ibico EPK-21 Electric Binding System                                            3345.2823\n",
              "Zebra ZM400 Thermal Label Printer                                               3343.5360\n",
              "Name: Profit, dtype: float64"
            ],
            "text/html": [
              "<div>\n",
              "<style scoped>\n",
              "    .dataframe tbody tr th:only-of-type {\n",
              "        vertical-align: middle;\n",
              "    }\n",
              "\n",
              "    .dataframe tbody tr th {\n",
              "        vertical-align: top;\n",
              "    }\n",
              "\n",
              "    .dataframe thead th {\n",
              "        text-align: right;\n",
              "    }\n",
              "</style>\n",
              "<table border=\"1\" class=\"dataframe\">\n",
              "  <thead>\n",
              "    <tr style=\"text-align: right;\">\n",
              "      <th></th>\n",
              "      <th>Profit</th>\n",
              "    </tr>\n",
              "    <tr>\n",
              "      <th>Product Name</th>\n",
              "      <th></th>\n",
              "    </tr>\n",
              "  </thead>\n",
              "  <tbody>\n",
              "    <tr>\n",
              "      <th>Canon imageCLASS 2200 Advanced Copier</th>\n",
              "      <td>25199.9280</td>\n",
              "    </tr>\n",
              "    <tr>\n",
              "      <th>Fellowes PB500 Electric Punch Plastic Comb Binding Machine with Manual Bind</th>\n",
              "      <td>7753.0390</td>\n",
              "    </tr>\n",
              "    <tr>\n",
              "      <th>Hewlett Packard LaserJet 3310 Copier</th>\n",
              "      <td>6983.8836</td>\n",
              "    </tr>\n",
              "    <tr>\n",
              "      <th>Canon PC1060 Personal Laser Copier</th>\n",
              "      <td>4570.9347</td>\n",
              "    </tr>\n",
              "    <tr>\n",
              "      <th>HP Designjet T520 Inkjet Large Format Printer - 24\" Color</th>\n",
              "      <td>4094.9766</td>\n",
              "    </tr>\n",
              "    <tr>\n",
              "      <th>Ativa V4110MDD Micro-Cut Shredder</th>\n",
              "      <td>3772.9461</td>\n",
              "    </tr>\n",
              "    <tr>\n",
              "      <th>3D Systems Cube Printer, 2nd Generation, Magenta</th>\n",
              "      <td>3717.9714</td>\n",
              "    </tr>\n",
              "    <tr>\n",
              "      <th>Plantronics Savi W720 Multi-Device Wireless Headset System</th>\n",
              "      <td>3696.2820</td>\n",
              "    </tr>\n",
              "    <tr>\n",
              "      <th>Ibico EPK-21 Electric Binding System</th>\n",
              "      <td>3345.2823</td>\n",
              "    </tr>\n",
              "    <tr>\n",
              "      <th>Zebra ZM400 Thermal Label Printer</th>\n",
              "      <td>3343.5360</td>\n",
              "    </tr>\n",
              "  </tbody>\n",
              "</table>\n",
              "</div><br><label><b>dtype:</b> float64</label>"
            ]
          },
          "metadata": {},
          "execution_count": 124
        }
      ]
    },
    {
      "cell_type": "code",
      "source": [
        "print('Question 66: Find top 10 least profitable products.')\n",
        "profitable.nsmallest(10)"
      ],
      "metadata": {
        "colab": {
          "base_uri": "https://localhost:8080/",
          "height": 446
        },
        "id": "rm1XbCjk0gCw",
        "outputId": "e35a5f7c-fada-44ae-925c-38d0a78980f4"
      },
      "execution_count": 125,
      "outputs": [
        {
          "output_type": "stream",
          "name": "stdout",
          "text": [
            "Question 66: Find top 10 least profitable products.\n"
          ]
        },
        {
          "output_type": "execute_result",
          "data": {
            "text/plain": [
              "Product Name\n",
              "Cubify CubeX 3D Printer Double Head Print                           -8879.9704\n",
              "Lexmark MX611dhe Monochrome Laser Printer                           -4589.9730\n",
              "Cubify CubeX 3D Printer Triple Head Print                           -3839.9904\n",
              "Chromcraft Bull-Nose Wood Oval Conference Tables & Bases            -2876.1156\n",
              "Bush Advantage Collection Racetrack Conference Table                -1934.3976\n",
              "GBC DocuBind P400 Electric Binding System                           -1878.1662\n",
              "Cisco TelePresence System EX90 Videoconferencing Unit               -1811.0784\n",
              "Martin Yale Chadless Opener Electric Letter Opener                  -1299.1836\n",
              "Balt Solid Wood Round Tables                                        -1201.0581\n",
              "BoxOffice By Design Rectangular and Half-Moon Meeting Room Tables   -1148.4375\n",
              "Name: Profit, dtype: float64"
            ],
            "text/html": [
              "<div>\n",
              "<style scoped>\n",
              "    .dataframe tbody tr th:only-of-type {\n",
              "        vertical-align: middle;\n",
              "    }\n",
              "\n",
              "    .dataframe tbody tr th {\n",
              "        vertical-align: top;\n",
              "    }\n",
              "\n",
              "    .dataframe thead th {\n",
              "        text-align: right;\n",
              "    }\n",
              "</style>\n",
              "<table border=\"1\" class=\"dataframe\">\n",
              "  <thead>\n",
              "    <tr style=\"text-align: right;\">\n",
              "      <th></th>\n",
              "      <th>Profit</th>\n",
              "    </tr>\n",
              "    <tr>\n",
              "      <th>Product Name</th>\n",
              "      <th></th>\n",
              "    </tr>\n",
              "  </thead>\n",
              "  <tbody>\n",
              "    <tr>\n",
              "      <th>Cubify CubeX 3D Printer Double Head Print</th>\n",
              "      <td>-8879.9704</td>\n",
              "    </tr>\n",
              "    <tr>\n",
              "      <th>Lexmark MX611dhe Monochrome Laser Printer</th>\n",
              "      <td>-4589.9730</td>\n",
              "    </tr>\n",
              "    <tr>\n",
              "      <th>Cubify CubeX 3D Printer Triple Head Print</th>\n",
              "      <td>-3839.9904</td>\n",
              "    </tr>\n",
              "    <tr>\n",
              "      <th>Chromcraft Bull-Nose Wood Oval Conference Tables &amp; Bases</th>\n",
              "      <td>-2876.1156</td>\n",
              "    </tr>\n",
              "    <tr>\n",
              "      <th>Bush Advantage Collection Racetrack Conference Table</th>\n",
              "      <td>-1934.3976</td>\n",
              "    </tr>\n",
              "    <tr>\n",
              "      <th>GBC DocuBind P400 Electric Binding System</th>\n",
              "      <td>-1878.1662</td>\n",
              "    </tr>\n",
              "    <tr>\n",
              "      <th>Cisco TelePresence System EX90 Videoconferencing Unit</th>\n",
              "      <td>-1811.0784</td>\n",
              "    </tr>\n",
              "    <tr>\n",
              "      <th>Martin Yale Chadless Opener Electric Letter Opener</th>\n",
              "      <td>-1299.1836</td>\n",
              "    </tr>\n",
              "    <tr>\n",
              "      <th>Balt Solid Wood Round Tables</th>\n",
              "      <td>-1201.0581</td>\n",
              "    </tr>\n",
              "    <tr>\n",
              "      <th>BoxOffice By Design Rectangular and Half-Moon Meeting Room Tables</th>\n",
              "      <td>-1148.4375</td>\n",
              "    </tr>\n",
              "  </tbody>\n",
              "</table>\n",
              "</div><br><label><b>dtype:</b> float64</label>"
            ]
          },
          "metadata": {},
          "execution_count": 125
        }
      ]
    },
    {
      "cell_type": "code",
      "source": [
        "print('Question 67: Find top 10 best-selling products by sales.')\n"
      ],
      "metadata": {
        "id": "QZutipNO0gAY"
      },
      "execution_count": null,
      "outputs": []
    },
    {
      "cell_type": "code",
      "source": [
        "data_set.columns"
      ],
      "metadata": {
        "colab": {
          "base_uri": "https://localhost:8080/"
        },
        "id": "7WMlESFR0f91",
        "outputId": "b361c145-d5af-46fe-fc34-dd97f1df674e"
      },
      "execution_count": 123,
      "outputs": [
        {
          "output_type": "execute_result",
          "data": {
            "text/plain": [
              "Index(['Row ID', 'Order ID', 'Order Date', 'Ship Date', 'Ship Mode',\n",
              "       'Customer ID', 'Customer Name', 'Segment', 'Country', 'City', 'State',\n",
              "       'Postal Code', 'Region', 'Product ID', 'Category', 'Sub-Category',\n",
              "       'Product Name', 'Sales', 'Quantity', 'Discount', 'Profit'],\n",
              "      dtype='object')"
            ]
          },
          "metadata": {},
          "execution_count": 123
        }
      ]
    },
    {
      "cell_type": "code",
      "source": [
        "print('Question 67: Find top 10 best-selling products by sales.')\n",
        "profitable=data_set.groupby('Product Name')['Sales'].sum()\n",
        "top_10=profitable.nlargest(10)\n",
        "top_10"
      ],
      "metadata": {
        "colab": {
          "base_uri": "https://localhost:8080/",
          "height": 446
        },
        "id": "u96nbI5F0f7c",
        "outputId": "4f456c67-b2cc-429b-f03a-a265737a4ef0"
      },
      "execution_count": 126,
      "outputs": [
        {
          "output_type": "stream",
          "name": "stdout",
          "text": [
            "Question 67: Find top 10 best-selling products by sales.\n"
          ]
        },
        {
          "output_type": "execute_result",
          "data": {
            "text/plain": [
              "Product Name\n",
              "Canon imageCLASS 2200 Advanced Copier                                          61599.824\n",
              "Fellowes PB500 Electric Punch Plastic Comb Binding Machine with Manual Bind    27453.384\n",
              "Cisco TelePresence System EX90 Videoconferencing Unit                          22638.480\n",
              "HON 5400 Series Task Chairs for Big and Tall                                   21870.576\n",
              "GBC DocuBind TL300 Electric Binding System                                     19823.479\n",
              "GBC Ibimaster 500 Manual ProClick Binding System                               19024.500\n",
              "Hewlett Packard LaserJet 3310 Copier                                           18839.686\n",
              "HP Designjet T520 Inkjet Large Format Printer - 24\" Color                      18374.895\n",
              "GBC DocuBind P400 Electric Binding System                                      17965.068\n",
              "High Speed Automatic Electric Letter Opener                                    17030.312\n",
              "Name: Sales, dtype: float64"
            ],
            "text/html": [
              "<div>\n",
              "<style scoped>\n",
              "    .dataframe tbody tr th:only-of-type {\n",
              "        vertical-align: middle;\n",
              "    }\n",
              "\n",
              "    .dataframe tbody tr th {\n",
              "        vertical-align: top;\n",
              "    }\n",
              "\n",
              "    .dataframe thead th {\n",
              "        text-align: right;\n",
              "    }\n",
              "</style>\n",
              "<table border=\"1\" class=\"dataframe\">\n",
              "  <thead>\n",
              "    <tr style=\"text-align: right;\">\n",
              "      <th></th>\n",
              "      <th>Sales</th>\n",
              "    </tr>\n",
              "    <tr>\n",
              "      <th>Product Name</th>\n",
              "      <th></th>\n",
              "    </tr>\n",
              "  </thead>\n",
              "  <tbody>\n",
              "    <tr>\n",
              "      <th>Canon imageCLASS 2200 Advanced Copier</th>\n",
              "      <td>61599.824</td>\n",
              "    </tr>\n",
              "    <tr>\n",
              "      <th>Fellowes PB500 Electric Punch Plastic Comb Binding Machine with Manual Bind</th>\n",
              "      <td>27453.384</td>\n",
              "    </tr>\n",
              "    <tr>\n",
              "      <th>Cisco TelePresence System EX90 Videoconferencing Unit</th>\n",
              "      <td>22638.480</td>\n",
              "    </tr>\n",
              "    <tr>\n",
              "      <th>HON 5400 Series Task Chairs for Big and Tall</th>\n",
              "      <td>21870.576</td>\n",
              "    </tr>\n",
              "    <tr>\n",
              "      <th>GBC DocuBind TL300 Electric Binding System</th>\n",
              "      <td>19823.479</td>\n",
              "    </tr>\n",
              "    <tr>\n",
              "      <th>GBC Ibimaster 500 Manual ProClick Binding System</th>\n",
              "      <td>19024.500</td>\n",
              "    </tr>\n",
              "    <tr>\n",
              "      <th>Hewlett Packard LaserJet 3310 Copier</th>\n",
              "      <td>18839.686</td>\n",
              "    </tr>\n",
              "    <tr>\n",
              "      <th>HP Designjet T520 Inkjet Large Format Printer - 24\" Color</th>\n",
              "      <td>18374.895</td>\n",
              "    </tr>\n",
              "    <tr>\n",
              "      <th>GBC DocuBind P400 Electric Binding System</th>\n",
              "      <td>17965.068</td>\n",
              "    </tr>\n",
              "    <tr>\n",
              "      <th>High Speed Automatic Electric Letter Opener</th>\n",
              "      <td>17030.312</td>\n",
              "    </tr>\n",
              "  </tbody>\n",
              "</table>\n",
              "</div><br><label><b>dtype:</b> float64</label>"
            ]
          },
          "metadata": {},
          "execution_count": 126
        }
      ]
    },
    {
      "cell_type": "code",
      "source": [
        "print('Question 68: Find top 10 best-selling products by quantity.')\n",
        "top_10=data_set.groupby('Product Name')['Quantity'].sum()\n",
        "top_10.nlargest(10)"
      ],
      "metadata": {
        "colab": {
          "base_uri": "https://localhost:8080/",
          "height": 446
        },
        "id": "MI2j0LXQ0f47",
        "outputId": "59d93839-d1e9-4bad-f975-b8d3fe20dbef"
      },
      "execution_count": 131,
      "outputs": [
        {
          "output_type": "stream",
          "name": "stdout",
          "text": [
            "Question 68: Find top 10 best-selling products by quantity.\n"
          ]
        },
        {
          "output_type": "execute_result",
          "data": {
            "text/plain": [
              "Product Name\n",
              "Staples                                                       215\n",
              "Staple envelope                                               170\n",
              "Easy-staple paper                                             150\n",
              "Staples in misc. colors                                        86\n",
              "KI Adjustable-Height Table                                     74\n",
              "Avery Non-Stick Binders                                        71\n",
              "Storex Dura Pro Binders                                        71\n",
              "GBC Premium Transparent Covers with Diagonal Lined Pattern     67\n",
              "Situations Contoured Folding Chairs, 4/Set                     64\n",
              "Staple-based wall hangings                                     62\n",
              "Name: Quantity, dtype: int64"
            ],
            "text/html": [
              "<div>\n",
              "<style scoped>\n",
              "    .dataframe tbody tr th:only-of-type {\n",
              "        vertical-align: middle;\n",
              "    }\n",
              "\n",
              "    .dataframe tbody tr th {\n",
              "        vertical-align: top;\n",
              "    }\n",
              "\n",
              "    .dataframe thead th {\n",
              "        text-align: right;\n",
              "    }\n",
              "</style>\n",
              "<table border=\"1\" class=\"dataframe\">\n",
              "  <thead>\n",
              "    <tr style=\"text-align: right;\">\n",
              "      <th></th>\n",
              "      <th>Quantity</th>\n",
              "    </tr>\n",
              "    <tr>\n",
              "      <th>Product Name</th>\n",
              "      <th></th>\n",
              "    </tr>\n",
              "  </thead>\n",
              "  <tbody>\n",
              "    <tr>\n",
              "      <th>Staples</th>\n",
              "      <td>215</td>\n",
              "    </tr>\n",
              "    <tr>\n",
              "      <th>Staple envelope</th>\n",
              "      <td>170</td>\n",
              "    </tr>\n",
              "    <tr>\n",
              "      <th>Easy-staple paper</th>\n",
              "      <td>150</td>\n",
              "    </tr>\n",
              "    <tr>\n",
              "      <th>Staples in misc. colors</th>\n",
              "      <td>86</td>\n",
              "    </tr>\n",
              "    <tr>\n",
              "      <th>KI Adjustable-Height Table</th>\n",
              "      <td>74</td>\n",
              "    </tr>\n",
              "    <tr>\n",
              "      <th>Avery Non-Stick Binders</th>\n",
              "      <td>71</td>\n",
              "    </tr>\n",
              "    <tr>\n",
              "      <th>Storex Dura Pro Binders</th>\n",
              "      <td>71</td>\n",
              "    </tr>\n",
              "    <tr>\n",
              "      <th>GBC Premium Transparent Covers with Diagonal Lined Pattern</th>\n",
              "      <td>67</td>\n",
              "    </tr>\n",
              "    <tr>\n",
              "      <th>Situations Contoured Folding Chairs, 4/Set</th>\n",
              "      <td>64</td>\n",
              "    </tr>\n",
              "    <tr>\n",
              "      <th>Staple-based wall hangings</th>\n",
              "      <td>62</td>\n",
              "    </tr>\n",
              "  </tbody>\n",
              "</table>\n",
              "</div><br><label><b>dtype:</b> int64</label>"
            ]
          },
          "metadata": {},
          "execution_count": 131
        }
      ]
    },
    {
      "cell_type": "code",
      "source": [
        "print('Question 69: Find bottom 10 products by sales.')\n",
        "top_10=data_set.groupby('Product Name')['Sales'].sum().nsmallest(10)\n",
        "top_10"
      ],
      "metadata": {
        "colab": {
          "base_uri": "https://localhost:8080/",
          "height": 446
        },
        "id": "tP3gykM20f2h",
        "outputId": "f319212b-cfc4-4964-fcfc-ff9455c9807a"
      },
      "execution_count": 134,
      "outputs": [
        {
          "output_type": "stream",
          "name": "stdout",
          "text": [
            "Question 69: Find bottom 10 products by sales.\n"
          ]
        },
        {
          "output_type": "execute_result",
          "data": {
            "text/plain": [
              "Product Name\n",
              "Eureka Disposable Bags for Sanitaire Vibra Groomer I Upright Vac    1.624\n",
              "Avery 5                                                             5.760\n",
              "Xerox 20                                                            6.480\n",
              "Grip Seal Envelopes                                                 7.072\n",
              "Avery Hi-Liter Pen Style Six-Color Fluorescent Set                  7.700\n",
              "Avery Hi-Liter Comfort Grip Fluorescent Highlighter, Yellow Ink     7.800\n",
              "Xerox 1989                                                          7.968\n",
              "4009 Highlighters                                                   8.040\n",
              "Stockwell Gold Paper Clips                                          8.096\n",
              "Newell 308                                                          8.400\n",
              "Name: Sales, dtype: float64"
            ],
            "text/html": [
              "<div>\n",
              "<style scoped>\n",
              "    .dataframe tbody tr th:only-of-type {\n",
              "        vertical-align: middle;\n",
              "    }\n",
              "\n",
              "    .dataframe tbody tr th {\n",
              "        vertical-align: top;\n",
              "    }\n",
              "\n",
              "    .dataframe thead th {\n",
              "        text-align: right;\n",
              "    }\n",
              "</style>\n",
              "<table border=\"1\" class=\"dataframe\">\n",
              "  <thead>\n",
              "    <tr style=\"text-align: right;\">\n",
              "      <th></th>\n",
              "      <th>Sales</th>\n",
              "    </tr>\n",
              "    <tr>\n",
              "      <th>Product Name</th>\n",
              "      <th></th>\n",
              "    </tr>\n",
              "  </thead>\n",
              "  <tbody>\n",
              "    <tr>\n",
              "      <th>Eureka Disposable Bags for Sanitaire Vibra Groomer I Upright Vac</th>\n",
              "      <td>1.624</td>\n",
              "    </tr>\n",
              "    <tr>\n",
              "      <th>Avery 5</th>\n",
              "      <td>5.760</td>\n",
              "    </tr>\n",
              "    <tr>\n",
              "      <th>Xerox 20</th>\n",
              "      <td>6.480</td>\n",
              "    </tr>\n",
              "    <tr>\n",
              "      <th>Grip Seal Envelopes</th>\n",
              "      <td>7.072</td>\n",
              "    </tr>\n",
              "    <tr>\n",
              "      <th>Avery Hi-Liter Pen Style Six-Color Fluorescent Set</th>\n",
              "      <td>7.700</td>\n",
              "    </tr>\n",
              "    <tr>\n",
              "      <th>Avery Hi-Liter Comfort Grip Fluorescent Highlighter, Yellow Ink</th>\n",
              "      <td>7.800</td>\n",
              "    </tr>\n",
              "    <tr>\n",
              "      <th>Xerox 1989</th>\n",
              "      <td>7.968</td>\n",
              "    </tr>\n",
              "    <tr>\n",
              "      <th>4009 Highlighters</th>\n",
              "      <td>8.040</td>\n",
              "    </tr>\n",
              "    <tr>\n",
              "      <th>Stockwell Gold Paper Clips</th>\n",
              "      <td>8.096</td>\n",
              "    </tr>\n",
              "    <tr>\n",
              "      <th>Newell 308</th>\n",
              "      <td>8.400</td>\n",
              "    </tr>\n",
              "  </tbody>\n",
              "</table>\n",
              "</div><br><label><b>dtype:</b> float64</label>"
            ]
          },
          "metadata": {},
          "execution_count": 134
        }
      ]
    },
    {
      "cell_type": "code",
      "source": [
        "print('Question 70: Find bottom 10 products by profit.')\n",
        "bottom_10=data_set.groupby('Product Name')['Profit'].sum().nsmallest()\n",
        "bottom_10"
      ],
      "metadata": {
        "colab": {
          "base_uri": "https://localhost:8080/",
          "height": 289
        },
        "id": "le95SZxF0f0I",
        "outputId": "1a820878-800b-4ce8-e6c8-97adb0ceb3f7"
      },
      "execution_count": 135,
      "outputs": [
        {
          "output_type": "stream",
          "name": "stdout",
          "text": [
            "Question 70: Find bottom 10 products by profit.\n"
          ]
        },
        {
          "output_type": "execute_result",
          "data": {
            "text/plain": [
              "Product Name\n",
              "Cubify CubeX 3D Printer Double Head Print                  -8879.9704\n",
              "Lexmark MX611dhe Monochrome Laser Printer                  -4589.9730\n",
              "Cubify CubeX 3D Printer Triple Head Print                  -3839.9904\n",
              "Chromcraft Bull-Nose Wood Oval Conference Tables & Bases   -2876.1156\n",
              "Bush Advantage Collection Racetrack Conference Table       -1934.3976\n",
              "Name: Profit, dtype: float64"
            ],
            "text/html": [
              "<div>\n",
              "<style scoped>\n",
              "    .dataframe tbody tr th:only-of-type {\n",
              "        vertical-align: middle;\n",
              "    }\n",
              "\n",
              "    .dataframe tbody tr th {\n",
              "        vertical-align: top;\n",
              "    }\n",
              "\n",
              "    .dataframe thead th {\n",
              "        text-align: right;\n",
              "    }\n",
              "</style>\n",
              "<table border=\"1\" class=\"dataframe\">\n",
              "  <thead>\n",
              "    <tr style=\"text-align: right;\">\n",
              "      <th></th>\n",
              "      <th>Profit</th>\n",
              "    </tr>\n",
              "    <tr>\n",
              "      <th>Product Name</th>\n",
              "      <th></th>\n",
              "    </tr>\n",
              "  </thead>\n",
              "  <tbody>\n",
              "    <tr>\n",
              "      <th>Cubify CubeX 3D Printer Double Head Print</th>\n",
              "      <td>-8879.9704</td>\n",
              "    </tr>\n",
              "    <tr>\n",
              "      <th>Lexmark MX611dhe Monochrome Laser Printer</th>\n",
              "      <td>-4589.9730</td>\n",
              "    </tr>\n",
              "    <tr>\n",
              "      <th>Cubify CubeX 3D Printer Triple Head Print</th>\n",
              "      <td>-3839.9904</td>\n",
              "    </tr>\n",
              "    <tr>\n",
              "      <th>Chromcraft Bull-Nose Wood Oval Conference Tables &amp; Bases</th>\n",
              "      <td>-2876.1156</td>\n",
              "    </tr>\n",
              "    <tr>\n",
              "      <th>Bush Advantage Collection Racetrack Conference Table</th>\n",
              "      <td>-1934.3976</td>\n",
              "    </tr>\n",
              "  </tbody>\n",
              "</table>\n",
              "</div><br><label><b>dtype:</b> float64</label>"
            ]
          },
          "metadata": {},
          "execution_count": 135
        }
      ]
    },
    {
      "cell_type": "code",
      "source": [
        "print('Question 71: Find total sales by year.')\n",
        "data_set['Years']=data_set['Order Date'].dt.year\n",
        "total_Sales_in_years=data_set.groupby('Years')['Sales'].sum()\n",
        "total_Sales_in_years\n",
        "\n"
      ],
      "metadata": {
        "colab": {
          "base_uri": "https://localhost:8080/",
          "height": 258
        },
        "id": "H08ZA2Cr0fx7",
        "outputId": "5aa863f6-6203-47f0-e3f8-476c54e49a98"
      },
      "execution_count": 162,
      "outputs": [
        {
          "output_type": "stream",
          "name": "stdout",
          "text": [
            "Question 71: Find total sales by year.\n"
          ]
        },
        {
          "output_type": "execute_result",
          "data": {
            "text/plain": [
              "Years\n",
              "2014    484247.4981\n",
              "2015    470532.5090\n",
              "2016    609205.5980\n",
              "2017    733215.2552\n",
              "Name: Sales, dtype: float64"
            ],
            "text/html": [
              "<div>\n",
              "<style scoped>\n",
              "    .dataframe tbody tr th:only-of-type {\n",
              "        vertical-align: middle;\n",
              "    }\n",
              "\n",
              "    .dataframe tbody tr th {\n",
              "        vertical-align: top;\n",
              "    }\n",
              "\n",
              "    .dataframe thead th {\n",
              "        text-align: right;\n",
              "    }\n",
              "</style>\n",
              "<table border=\"1\" class=\"dataframe\">\n",
              "  <thead>\n",
              "    <tr style=\"text-align: right;\">\n",
              "      <th></th>\n",
              "      <th>Sales</th>\n",
              "    </tr>\n",
              "    <tr>\n",
              "      <th>Years</th>\n",
              "      <th></th>\n",
              "    </tr>\n",
              "  </thead>\n",
              "  <tbody>\n",
              "    <tr>\n",
              "      <th>2014</th>\n",
              "      <td>484247.4981</td>\n",
              "    </tr>\n",
              "    <tr>\n",
              "      <th>2015</th>\n",
              "      <td>470532.5090</td>\n",
              "    </tr>\n",
              "    <tr>\n",
              "      <th>2016</th>\n",
              "      <td>609205.5980</td>\n",
              "    </tr>\n",
              "    <tr>\n",
              "      <th>2017</th>\n",
              "      <td>733215.2552</td>\n",
              "    </tr>\n",
              "  </tbody>\n",
              "</table>\n",
              "</div><br><label><b>dtype:</b> float64</label>"
            ]
          },
          "metadata": {},
          "execution_count": 162
        }
      ]
    },
    {
      "cell_type": "code",
      "source": [
        "print('Question 72: Find total profit by year.')\n",
        "data_set['Years']=data_set['Order Date'].dt.year\n",
        "total_profit_by_years=data_set.groupby('Years')['Profit'].sum()\n",
        "total_profit_by_years"
      ],
      "metadata": {
        "colab": {
          "base_uri": "https://localhost:8080/",
          "height": 258
        },
        "id": "jj5DcfA70fvi",
        "outputId": "a640759e-9cdb-47b4-eb5b-f2f30a88c814"
      },
      "execution_count": 164,
      "outputs": [
        {
          "output_type": "stream",
          "name": "stdout",
          "text": [
            "Question 72: Find total profit by year.\n"
          ]
        },
        {
          "output_type": "execute_result",
          "data": {
            "text/plain": [
              "Years\n",
              "2014    49543.9741\n",
              "2015    61618.6037\n",
              "2016    81795.1743\n",
              "2017    93439.2696\n",
              "Name: Profit, dtype: float64"
            ],
            "text/html": [
              "<div>\n",
              "<style scoped>\n",
              "    .dataframe tbody tr th:only-of-type {\n",
              "        vertical-align: middle;\n",
              "    }\n",
              "\n",
              "    .dataframe tbody tr th {\n",
              "        vertical-align: top;\n",
              "    }\n",
              "\n",
              "    .dataframe thead th {\n",
              "        text-align: right;\n",
              "    }\n",
              "</style>\n",
              "<table border=\"1\" class=\"dataframe\">\n",
              "  <thead>\n",
              "    <tr style=\"text-align: right;\">\n",
              "      <th></th>\n",
              "      <th>Profit</th>\n",
              "    </tr>\n",
              "    <tr>\n",
              "      <th>Years</th>\n",
              "      <th></th>\n",
              "    </tr>\n",
              "  </thead>\n",
              "  <tbody>\n",
              "    <tr>\n",
              "      <th>2014</th>\n",
              "      <td>49543.9741</td>\n",
              "    </tr>\n",
              "    <tr>\n",
              "      <th>2015</th>\n",
              "      <td>61618.6037</td>\n",
              "    </tr>\n",
              "    <tr>\n",
              "      <th>2016</th>\n",
              "      <td>81795.1743</td>\n",
              "    </tr>\n",
              "    <tr>\n",
              "      <th>2017</th>\n",
              "      <td>93439.2696</td>\n",
              "    </tr>\n",
              "  </tbody>\n",
              "</table>\n",
              "</div><br><label><b>dtype:</b> float64</label>"
            ]
          },
          "metadata": {},
          "execution_count": 164
        }
      ]
    },
    {
      "cell_type": "code",
      "source": [
        "print('Question 73: Find sales growth year by year.')\n"
      ],
      "metadata": {
        "colab": {
          "base_uri": "https://localhost:8080/",
          "height": 141
        },
        "id": "zEBH6tOy0ftI",
        "outputId": "d3c5046f-f04c-4cbe-cab6-2294daf64e18"
      },
      "execution_count": 152,
      "outputs": [
        {
          "output_type": "error",
          "ename": "NameError",
          "evalue": "name 'order_sales' is not defined",
          "traceback": [
            "\u001b[0;31m---------------------------------------------------------------------------\u001b[0m",
            "\u001b[0;31mNameError\u001b[0m                                 Traceback (most recent call last)",
            "\u001b[0;32m/tmp/ipython-input-2613188739.py\u001b[0m in \u001b[0;36m<cell line: 0>\u001b[0;34m()\u001b[0m\n\u001b[0;32m----> 1\u001b[0;31m \u001b[0morder_sales\u001b[0m\u001b[0;34m.\u001b[0m\u001b[0mdt\u001b[0m\u001b[0;34m.\u001b[0m\u001b[0mday_of_year\u001b[0m\u001b[0;34m.\u001b[0m\u001b[0mvalue_counts\u001b[0m\u001b[0;34m(\u001b[0m\u001b[0;34m)\u001b[0m\u001b[0;34m\u001b[0m\u001b[0;34m\u001b[0m\u001b[0m\n\u001b[0m",
            "\u001b[0;31mNameError\u001b[0m: name 'order_sales' is not defined"
          ]
        }
      ]
    },
    {
      "cell_type": "code",
      "source": [],
      "metadata": {
        "id": "CCkVC31N0frD"
      },
      "execution_count": null,
      "outputs": []
    },
    {
      "cell_type": "code",
      "source": [],
      "metadata": {
        "id": "BWeURGck0fo5"
      },
      "execution_count": null,
      "outputs": []
    },
    {
      "cell_type": "code",
      "source": [],
      "metadata": {
        "id": "aaAUu0Pp0fmX"
      },
      "execution_count": null,
      "outputs": []
    },
    {
      "cell_type": "code",
      "source": [],
      "metadata": {
        "id": "4MrCZxZp0fkO"
      },
      "execution_count": null,
      "outputs": []
    },
    {
      "cell_type": "code",
      "source": [],
      "metadata": {
        "id": "4X_DaDwE0fh7"
      },
      "execution_count": null,
      "outputs": []
    },
    {
      "cell_type": "code",
      "source": [],
      "metadata": {
        "id": "Z05axF8Q0ff3"
      },
      "execution_count": null,
      "outputs": []
    },
    {
      "cell_type": "code",
      "source": [],
      "metadata": {
        "id": "56cC1M4y0fdv"
      },
      "execution_count": null,
      "outputs": []
    },
    {
      "cell_type": "code",
      "source": [],
      "metadata": {
        "id": "_DIJ4ji10fbd"
      },
      "execution_count": null,
      "outputs": []
    }
  ]
}